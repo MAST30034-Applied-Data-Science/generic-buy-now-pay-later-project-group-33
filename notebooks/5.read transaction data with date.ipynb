{
 "cells": [
  {
   "cell_type": "code",
   "execution_count": 34,
   "metadata": {},
   "outputs": [],
   "source": [
    "from pyspark.sql import functions as F\n",
    "from pyspark.sql.functions import *\n",
    "import matplotlib.pyplot as plt\n",
    "import pandas as pd\n",
    "import numpy as np"
   ]
  },
  {
   "cell_type": "code",
   "execution_count": 35,
   "metadata": {},
   "outputs": [],
   "source": [
    "from pyspark.sql import SparkSession\n",
    "\n",
    "# Create a spark session\n",
    "spark = (\n",
    "    SparkSession.builder.appName(\"MAST30034 Project 2\")\n",
    "    .config(\"spark.sql.repl.eagerEval.enabled\", True) \n",
    "    .config(\"spark.sql.parquet.cacheMetadata\", \"true\")\n",
    "    .getOrCreate()\n",
    ")"
   ]
  },
  {
   "cell_type": "code",
   "execution_count": 36,
   "metadata": {},
   "outputs": [],
   "source": [
    "period1 = pd.date_range('2021-2-28','2021-08-27', freq='D').strftime(\"%Y-%m-%d\").tolist()\n",
    "period2 = pd.date_range('2021-8-28','2022-02-27', freq='D').strftime(\"%Y-%m-%d\").tolist()\n",
    "period3 = pd.date_range('2022-2-28','2022-08-28', freq='D').strftime(\"%Y-%m-%d\").tolist()\n",
    "path_prefix1 = '../data/tables/transactions_20210228_20210827_snapshot/order_datetime='\n",
    "path_prefix2 = '../data/tables/transactions_20210828_20220227_snapshot/order_datetime='\n",
    "path_prefix3 = '../data/tables/transactions_20220228_20220828_snapshot/order_datetime='\n"
   ]
  },
  {
   "cell_type": "code",
   "execution_count": 37,
   "metadata": {},
   "outputs": [],
   "source": [
    "# add a column of date\n",
    "from pyspark.sql.functions import lit"
   ]
  },
  {
   "cell_type": "code",
   "execution_count": 38,
   "metadata": {},
   "outputs": [
    {
     "data": {
      "text/plain": [
       "StructType([StructField('user_id', LongType(), True), StructField('merchant_abn', LongType(), True), StructField('dollar_value', DoubleType(), True), StructField('order_id', StringType(), True)])"
      ]
     },
     "execution_count": 38,
     "metadata": {},
     "output_type": "execute_result"
    }
   ],
   "source": [
    "dfSchema = spark.read.parquet('../data/tables/transactions_20210228_20210827_snapshot/order_datetime=2021-02-28')\n",
    "dfSchema.schema"
   ]
  },
  {
   "cell_type": "code",
   "execution_count": 39,
   "metadata": {},
   "outputs": [],
   "source": [
    "# Create a empty dataframe to \n",
    "\n",
    "from pyspark.sql.types import StructType,StructField, StringType, LongType, DoubleType, IntegerType\n",
    "emptyRDD = spark.sparkContext.emptyRDD()\n",
    "schema = StructType([StructField('user_id', LongType(), True), StructField('merchant_abn', LongType(), True), StructField('dollar_value', DoubleType(), True), StructField('order_id', StringType(), True), StructField('date', IntegerType(), False)])\n",
    "transaction_df_with_date = spark.createDataFrame(emptyRDD,schema)\n"
   ]
  },
  {
   "cell_type": "code",
   "execution_count": 40,
   "metadata": {},
   "outputs": [],
   "source": [
    "\n",
    "for date in period1:\n",
    "\n",
    "    tep = spark.read.parquet(path_prefix1 + date)\n",
    "    \n",
    "    tep = tep.withColumn(\"date\", lit(date))\n",
    "    transaction_df_with_date = transaction_df_with_date.union(tep)\n",
    "    \n"
   ]
  },
  {
   "cell_type": "code",
   "execution_count": 41,
   "metadata": {},
   "outputs": [],
   "source": [
    "for date in period2:\n",
    "\n",
    "    tep = spark.read.parquet(path_prefix2 + date)\n",
    "    \n",
    "    tep = tep.withColumn(\"date\", lit(date))\n",
    "    transaction_df_with_date = transaction_df_with_date.union(tep)\n",
    "\n",
    "for date in period3:\n",
    "\n",
    "    tep = spark.read.parquet(path_prefix3 + date)\n",
    "    \n",
    "    tep = tep.withColumn(\"date\", lit(date))\n",
    "    transaction_df_with_date = transaction_df_with_date.union(tep)"
   ]
  },
  {
   "cell_type": "code",
   "execution_count": 42,
   "metadata": {},
   "outputs": [],
   "source": [
    "transaction_df_with_month = transaction_df_with_date.select(F.date_format('date','yyyy-MM').alias('month'),'merchant_abn','dollar_value')"
   ]
  },
  {
   "cell_type": "code",
   "execution_count": 43,
   "metadata": {},
   "outputs": [],
   "source": [
    "monthly_merchant_df = transaction_df_with_month.groupby('month','merchant_abn').agg(sum('dollar_value').alias('monthly_value'))"
   ]
  },
  {
   "cell_type": "code",
   "execution_count": 44,
   "metadata": {},
   "outputs": [
    {
     "name": "stdout",
     "output_type": "stream",
     "text": [
      "22/10/03 09:10:57 WARN DAGScheduler: Broadcasting large task binary with size 3.4 MiB\n"
     ]
    },
    {
     "name": "stderr",
     "output_type": "stream",
     "text": [
      "[Stage 1722:===================================================>(542 + 5) / 547]\r"
     ]
    },
    {
     "name": "stdout",
     "output_type": "stream",
     "text": [
      "22/10/03 09:11:31 WARN DAGScheduler: Broadcasting large task binary with size 1406.3 KiB\n"
     ]
    },
    {
     "name": "stderr",
     "output_type": "stream",
     "text": [
      "\r",
      "[Stage 1724:>                                                       (0 + 8) / 8]\r"
     ]
    },
    {
     "name": "stdout",
     "output_type": "stream",
     "text": [
      "22/10/03 09:11:34 WARN MemoryManager: Total allocation exceeds 95.00% (942,355,239 bytes) of heap memory\n",
      "Scaling row group sizes to 87.76% for 8 writers\n"
     ]
    },
    {
     "name": "stderr",
     "output_type": "stream",
     "text": [
      "\r",
      "                                                                                \r"
     ]
    }
   ],
   "source": [
    "monthly_merchant_df.write.mode('overwrite').parquet('../data/curated/monthly_merchant_detail.parquet')"
   ]
  },
  {
   "cell_type": "code",
   "execution_count": 12,
   "metadata": {},
   "outputs": [],
   "source": [
    "#from pyspark.sql.window import Window\n",
    "\n",
    "#price_window = Window.partitionBy(\"merchant_abn\").orderBy(\"month\")\n",
    "#df5 = df2.withColumn(\"prev_value\", F.lag('monthly_value').over(price_window))\n"
   ]
  },
  {
   "cell_type": "code",
   "execution_count": 14,
   "metadata": {},
   "outputs": [],
   "source": [
    "#df6 = df5.withColumn(\"growth_rate_per_month\", F.when(F.isnull(df5.monthly_value - df5.prev_value), 0).otherwise((df5.monthly_value - df5.prev_value)/df5.monthly_value))"
   ]
  },
  {
   "cell_type": "code",
   "execution_count": 16,
   "metadata": {},
   "outputs": [],
   "source": [
    "#df7=df6.groupby(\"merchant_abn\").agg(sum(\"growth_rate_per_month\"))"
   ]
  }
 ],
 "metadata": {
  "kernelspec": {
   "display_name": "Python 3 (ipykernel)",
   "language": "python",
   "name": "python3"
  },
  "language_info": {
   "codemirror_mode": {
    "name": "ipython",
    "version": 3
   },
   "file_extension": ".py",
   "mimetype": "text/x-python",
   "name": "python",
   "nbconvert_exporter": "python",
   "pygments_lexer": "ipython3",
   "version": "3.8.10"
  },
  "vscode": {
   "interpreter": {
    "hash": "f5f6c98c67c2a3212f91bc544dd5c32ae7624554b9af89e587d1457bd09b43e5"
   }
  }
 },
 "nbformat": 4,
 "nbformat_minor": 2
}
