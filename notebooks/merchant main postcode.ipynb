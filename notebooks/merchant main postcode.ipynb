{
 "cells": [
  {
   "cell_type": "code",
   "execution_count": 1,
   "id": "1a53f16c",
   "metadata": {},
   "outputs": [],
   "source": [
    "from pyspark.sql.functions import *"
   ]
  },
  {
   "cell_type": "code",
   "execution_count": 2,
   "id": "7dde19a3",
   "metadata": {},
   "outputs": [
    {
     "name": "stdout",
     "output_type": "stream",
     "text": [
      "22/10/02 23:16:50 WARN Utils: Your hostname, DESKTOP-9VIST87 resolves to a loopback address: 127.0.1.1; using 172.28.233.244 instead (on interface eth0)\n",
      "22/10/02 23:16:50 WARN Utils: Set SPARK_LOCAL_IP if you need to bind to another address\n"
     ]
    },
    {
     "name": "stderr",
     "output_type": "stream",
     "text": [
      "Setting default log level to \"WARN\".\n",
      "To adjust logging level use sc.setLogLevel(newLevel). For SparkR, use setLogLevel(newLevel).\n"
     ]
    },
    {
     "name": "stdout",
     "output_type": "stream",
     "text": [
      "22/10/02 23:16:52 WARN NativeCodeLoader: Unable to load native-hadoop library for your platform... using builtin-java classes where applicable\n",
      "22/10/02 23:16:52 WARN Utils: Service 'SparkUI' could not bind on port 4040. Attempting port 4041.\n",
      "22/10/02 23:16:52 WARN Utils: Service 'SparkUI' could not bind on port 4041. Attempting port 4042.\n"
     ]
    }
   ],
   "source": [
    "from pyspark.sql import SparkSession\n",
    "\n",
    "# Create a spark session\n",
    "spark = (\n",
    "    SparkSession.builder.appName(\"MAST30034 Project 2\")\n",
    "    .config(\"spark.sql.repl.eagerEval.enabled\", True) \n",
    "    .config(\"spark.sql.parquet.cacheMetadata\", \"true\") \n",
    "    .config(\"spark.executor.memory\", \"2g\")\n",
    "    .config(\"spark.driver.memory\", \"4g\")\n",
    "    .getOrCreate()\n",
    ")"
   ]
  },
  {
   "cell_type": "code",
   "execution_count": 3,
   "id": "5fdeef96",
   "metadata": {},
   "outputs": [
    {
     "name": "stderr",
     "output_type": "stream",
     "text": [
      "                                                                                \r"
     ]
    },
    {
     "data": {
      "text/html": [
       "<table border='1'>\n",
       "<tr><th>user_id</th><th>dollar_value</th><th>order_id</th><th>merchant_name</th><th>merchant_abn</th><th>take_rate</th><th>type</th><th>consumer_address</th><th>state</th><th>postcode</th><th>gender</th></tr>\n",
       "<tr><td>4</td><td>157.0</td><td>5b867ac9-d1e0-430...</td><td>Lectus Limited</td><td>24015173965</td><td>6.79</td><td>cable, satellite,...</td><td>00653 Davenport C...</td><td>NSW</td><td>2780</td><td>Female</td></tr>\n",
       "<tr><td>4</td><td>119.86580481272857</td><td>6137f115-68c8-425...</td><td>Ullamcorper Velit...</td><td>95508140753</td><td>3.88</td><td>cable, satellite,...</td><td>00653 Davenport C...</td><td>NSW</td><td>2780</td><td>Female</td></tr>\n",
       "<tr><td>4</td><td>49.76743020022073</td><td>161f3485-8ccf-46a...</td><td>Tempor Inc.</td><td>61412665910</td><td>1.75</td><td>furniture, home f...</td><td>00653 Davenport C...</td><td>NSW</td><td>2780</td><td>Female</td></tr>\n",
       "<tr><td>4</td><td>45.73101703759395</td><td>11a57360-c6e8-48a...</td><td>Euismod Urna Inco...</td><td>54874856789</td><td>6.28</td><td>hobby, toy and ga...</td><td>00653 Davenport C...</td><td>NSW</td><td>2780</td><td>Female</td></tr>\n",
       "<tr><td>4</td><td>5.937376498119946</td><td>fc565084-2577-452...</td><td>Suspendisse Dui C...</td><td>46804135891</td><td>2.93</td><td>opticians, optica...</td><td>00653 Davenport C...</td><td>NSW</td><td>2780</td><td>Female</td></tr>\n",
       "<tr><td>4</td><td>506.941369622103</td><td>6e773630-6034-4dd...</td><td>Quisque Libero La...</td><td>93532380797</td><td>4.99</td><td>computers, comput...</td><td>00653 Davenport C...</td><td>NSW</td><td>2780</td><td>Female</td></tr>\n",
       "<tr><td>4</td><td>289.3209135411692</td><td>f1318f5a-e558-401...</td><td>Arcu Sed Eu Incor...</td><td>35909341340</td><td>4.8</td><td>computer programm...</td><td>00653 Davenport C...</td><td>NSW</td><td>2780</td><td>Female</td></tr>\n",
       "<tr><td>4</td><td>148.08936648425507</td><td>3c4b8bfe-0781-414...</td><td>Tellus Nunc Lectu...</td><td>68028409124</td><td>2.66</td><td>florists supplies...</td><td>00653 Davenport C...</td><td>NSW</td><td>2780</td><td>Female</td></tr>\n",
       "<tr><td>4</td><td>130.9177443060089</td><td>1e7b1473-446d-406...</td><td>Ultricies Digniss...</td><td>60956456424</td><td>4.69</td><td>gift, card, novel...</td><td>00653 Davenport C...</td><td>NSW</td><td>2780</td><td>Female</td></tr>\n",
       "<tr><td>4</td><td>1.5555004881188321</td><td>69a55b9e-520d-44b...</td><td>Lacus Consulting</td><td>45629217853</td><td>6.98</td><td>gift, card, novel...</td><td>00653 Davenport C...</td><td>NSW</td><td>2780</td><td>Female</td></tr>\n",
       "</table>\n"
      ],
      "text/plain": [
       "+-------+------------------+--------------------+--------------------+------------+---------+--------------------+--------------------+-----+--------+------+\n",
       "|user_id|      dollar_value|            order_id|       merchant_name|merchant_abn|take_rate|                type|    consumer_address|state|postcode|gender|\n",
       "+-------+------------------+--------------------+--------------------+------------+---------+--------------------+--------------------+-----+--------+------+\n",
       "|      4|             157.0|5b867ac9-d1e0-430...|      Lectus Limited| 24015173965|     6.79|cable, satellite,...|00653 Davenport C...|  NSW|    2780|Female|\n",
       "|      4|119.86580481272857|6137f115-68c8-425...|Ullamcorper Velit...| 95508140753|     3.88|cable, satellite,...|00653 Davenport C...|  NSW|    2780|Female|\n",
       "|      4| 49.76743020022073|161f3485-8ccf-46a...|         Tempor Inc.| 61412665910|     1.75|furniture, home f...|00653 Davenport C...|  NSW|    2780|Female|\n",
       "|      4| 45.73101703759395|11a57360-c6e8-48a...|Euismod Urna Inco...| 54874856789|     6.28|hobby, toy and ga...|00653 Davenport C...|  NSW|    2780|Female|\n",
       "|      4| 5.937376498119946|fc565084-2577-452...|Suspendisse Dui C...| 46804135891|     2.93|opticians, optica...|00653 Davenport C...|  NSW|    2780|Female|\n",
       "|      4|  506.941369622103|6e773630-6034-4dd...|Quisque Libero La...| 93532380797|     4.99|computers, comput...|00653 Davenport C...|  NSW|    2780|Female|\n",
       "|      4| 289.3209135411692|f1318f5a-e558-401...|Arcu Sed Eu Incor...| 35909341340|      4.8|computer programm...|00653 Davenport C...|  NSW|    2780|Female|\n",
       "|      4|148.08936648425507|3c4b8bfe-0781-414...|Tellus Nunc Lectu...| 68028409124|     2.66|florists supplies...|00653 Davenport C...|  NSW|    2780|Female|\n",
       "|      4| 130.9177443060089|1e7b1473-446d-406...|Ultricies Digniss...| 60956456424|     4.69|gift, card, novel...|00653 Davenport C...|  NSW|    2780|Female|\n",
       "|      4|1.5555004881188321|69a55b9e-520d-44b...|    Lacus Consulting| 45629217853|     6.98|gift, card, novel...|00653 Davenport C...|  NSW|    2780|Female|\n",
       "+-------+------------------+--------------------+--------------------+------------+---------+--------------------+--------------------+-----+--------+------+"
      ]
     },
     "execution_count": 3,
     "metadata": {},
     "output_type": "execute_result"
    }
   ],
   "source": [
    "transaction_df = spark.read.parquet('../data/curated/transactions_detail.parquet')\n",
    "transaction_df.limit(10)"
   ]
  },
  {
   "cell_type": "code",
   "execution_count": 4,
   "id": "2e5b200f",
   "metadata": {},
   "outputs": [],
   "source": [
    "transaction_count_df = transaction_df.groupBy('merchant_name', 'postcode').count()\n",
    "transaction_count_df = transaction_count_df.withColumnRenamed(\"count\",\"transaction_count\")"
   ]
  },
  {
   "cell_type": "code",
   "execution_count": 4,
   "id": "4fa60e3f",
   "metadata": {},
   "outputs": [
    {
     "name": "stderr",
     "output_type": "stream",
     "text": [
      "                                                                                \r"
     ]
    },
    {
     "data": {
      "text/html": [
       "<table border='1'>\n",
       "<tr><th>merchant_name</th><th>postcode</th><th>transaction_count</th></tr>\n",
       "<tr><td>Faucibus Morbi Fo...</td><td>2323</td><td>4</td></tr>\n",
       "<tr><td>Tempor Arcu Assoc...</td><td>3055</td><td>1</td></tr>\n",
       "<tr><td>Libero Et Limited</td><td>6846</td><td>11</td></tr>\n",
       "<tr><td>At Pede Inc.</td><td>6846</td><td>4</td></tr>\n",
       "<tr><td>Nulla Facilisis I...</td><td>6846</td><td>11</td></tr>\n",
       "<tr><td>A Ultricies Insti...</td><td>4055</td><td>3</td></tr>\n",
       "<tr><td>Augue Eu LLP</td><td>4055</td><td>4</td></tr>\n",
       "<tr><td>Interdum Feugiat ...</td><td>5277</td><td>10</td></tr>\n",
       "<tr><td>Turpis In Incorpo...</td><td>5277</td><td>4</td></tr>\n",
       "<tr><td>Suspendisse Sagit...</td><td>3690</td><td>4</td></tr>\n",
       "</table>\n"
      ],
      "text/plain": [
       "+--------------------+--------+-----------------+\n",
       "|       merchant_name|postcode|transaction_count|\n",
       "+--------------------+--------+-----------------+\n",
       "|Faucibus Morbi Fo...|    2323|                4|\n",
       "|Tempor Arcu Assoc...|    3055|                1|\n",
       "|   Libero Et Limited|    6846|               11|\n",
       "|        At Pede Inc.|    6846|                4|\n",
       "|Nulla Facilisis I...|    6846|               11|\n",
       "|A Ultricies Insti...|    4055|                3|\n",
       "|        Augue Eu LLP|    4055|                4|\n",
       "|Interdum Feugiat ...|    5277|               10|\n",
       "|Turpis In Incorpo...|    5277|                4|\n",
       "|Suspendisse Sagit...|    3690|                4|\n",
       "+--------------------+--------+-----------------+"
      ]
     },
     "execution_count": 4,
     "metadata": {},
     "output_type": "execute_result"
    }
   ],
   "source": [
    "transaction_count_df.limit(10)"
   ]
  },
  {
   "cell_type": "code",
   "execution_count": 5,
   "id": "4b6014e9",
   "metadata": {},
   "outputs": [],
   "source": [
    "from pyspark.sql import Window\n",
    "import pyspark.sql.functions as f\n",
    "\n",
    "w = Window.partitionBy('merchant_name')\n",
    "max_count_df = transaction_count_df.withColumn('max_count', f.max('transaction_count').over(w))\\\n",
    "                .where(f.col('transaction_count') == f.col('max_count'))\\\n",
    "                .drop('max_count')\\\n",
    "                .dropDuplicates(['merchant_name'])\n"
   ]
  },
  {
   "cell_type": "code",
   "execution_count": 6,
   "id": "620f2136",
   "metadata": {},
   "outputs": [
    {
     "name": "stderr",
     "output_type": "stream",
     "text": [
      "[Stage 9:====================================================>    (12 + 1) / 13]\r"
     ]
    },
    {
     "name": "stdout",
     "output_type": "stream",
     "text": [
      "+--------------------+--------+-----------------+\n",
      "|       merchant_name|postcode|transaction_count|\n",
      "+--------------------+--------+-----------------+\n",
      "|        A Associates|    4620|                2|\n",
      "|         A Neque LLP|    2047|                1|\n",
      "|       A Nunc In LLP|    1172|                4|\n",
      "|A Ultricies Found...|    6074|                5|\n",
      "|      Ac Corporation|    3862|                3|\n",
      "|Ac Fermentum Vel LLP|    1181|                2|\n",
      "|      Ac Feugiat LLC|    6415|                2|\n",
      "|Ac Turpis Egestas PC|    4018|                7|\n",
      "|Adipiscing Elit C...|    6470|               13|\n",
      "| Adipiscing Enim LLC|    1819|               20|\n",
      "|     Adipiscing Inc.|    6475|                1|\n",
      "|Adipiscing Lacus ...|    2799|                2|\n",
      "|Adipiscing Lobort...|    2901|               11|\n",
      "|Aenean Gravida In...|    3053|                1|\n",
      "|Aliquam Auctor Ve...|    2336|                5|\n",
      "|Aliquam Gravida M...|    2624|               13|\n",
      "|         Aliquam Ltd|    4375|                1|\n",
      "|    Aliquet Odio Ltd|    2566|                1|\n",
      "|          Amet Corp.|    5345|                3|\n",
      "|Amet Massa Corpor...|    2800|                2|\n",
      "+--------------------+--------+-----------------+\n",
      "only showing top 20 rows\n",
      "\n"
     ]
    },
    {
     "name": "stderr",
     "output_type": "stream",
     "text": [
      "\r",
      "                                                                                \r"
     ]
    }
   ],
   "source": [
    "max_count_df.show()"
   ]
  },
  {
   "cell_type": "code",
   "execution_count": 7,
   "id": "c6a3f277",
   "metadata": {},
   "outputs": [],
   "source": [
    "merchant_detail = spark.read.parquet('../data/curated/merchant_detail.parquet')"
   ]
  },
  {
   "cell_type": "code",
   "execution_count": 8,
   "id": "782232ef",
   "metadata": {},
   "outputs": [
    {
     "data": {
      "text/html": [
       "<table border='1'>\n",
       "<tr><th>merchant_abn</th><th>merchant_name</th><th>type</th><th>take_rate</th><th>total_income</th><th>total_transactions</th><th>mean_transaction_amount</th><th>monthly_profit</th></tr>\n",
       "<tr><td>79827781481</td><td>Amet Risus Inc.</td><td>furniture, home f...</td><td>6.82</td><td>8657277.1</td><td>4251</td><td>2037.0</td><td>32801.0</td></tr>\n",
       "<tr><td>48534649627</td><td>Dignissim Maecena...</td><td>opticians, optica...</td><td>6.64</td><td>8316735.67</td><td>58685</td><td>142.0</td><td>30680.0</td></tr>\n",
       "<tr><td>32361057556</td><td>Orci In Consequat...</td><td>gift, card, novel...</td><td>6.61</td><td>8339994.52</td><td>75853</td><td>110.0</td><td>30626.0</td></tr>\n",
       "<tr><td>86578477987</td><td>Leo In Consulting</td><td>watch, clock, and...</td><td>6.43</td><td>8443178.7</td><td>241336</td><td>35.0</td><td>30161.0</td></tr>\n",
       "<tr><td>38700038932</td><td>Etiam Bibendum In...</td><td>tent and awning s...</td><td>6.31</td><td>8482176.66</td><td>6341</td><td>1338.0</td><td>29735.0</td></tr>\n",
       "<tr><td>45629217853</td><td>Lacus Consulting</td><td>gift, card, novel...</td><td>6.98</td><td>7436925.45</td><td>201830</td><td>37.0</td><td>28839.0</td></tr>\n",
       "<tr><td>96680767841</td><td>Ornare Limited</td><td>motor vehicle sup...</td><td>5.91</td><td>8679874.17</td><td>27541</td><td>315.0</td><td>28499.0</td></tr>\n",
       "<tr><td>21439773999</td><td>Mauris Non Institute</td><td>cable, satellite,...</td><td>6.1</td><td>8337853.96</td><td>106724</td><td>78.0</td><td>28256.0</td></tr>\n",
       "<tr><td>63123845164</td><td>Odio Phasellus In...</td><td>artist supply and...</td><td>6.59</td><td>7570160.92</td><td>10075</td><td>751.0</td><td>27715.0</td></tr>\n",
       "<tr><td>64403598239</td><td>Lobortis Ultrices...</td><td>music shops - mus...</td><td>6.31</td><td>7842635.61</td><td>100394</td><td>78.0</td><td>27493.0</td></tr>\n",
       "</table>\n"
      ],
      "text/plain": [
       "+------------+--------------------+--------------------+---------+------------+------------------+-----------------------+--------------+\n",
       "|merchant_abn|       merchant_name|                type|take_rate|total_income|total_transactions|mean_transaction_amount|monthly_profit|\n",
       "+------------+--------------------+--------------------+---------+------------+------------------+-----------------------+--------------+\n",
       "| 79827781481|     Amet Risus Inc.|furniture, home f...|     6.82|   8657277.1|              4251|                 2037.0|       32801.0|\n",
       "| 48534649627|Dignissim Maecena...|opticians, optica...|     6.64|  8316735.67|             58685|                  142.0|       30680.0|\n",
       "| 32361057556|Orci In Consequat...|gift, card, novel...|     6.61|  8339994.52|             75853|                  110.0|       30626.0|\n",
       "| 86578477987|   Leo In Consulting|watch, clock, and...|     6.43|   8443178.7|            241336|                   35.0|       30161.0|\n",
       "| 38700038932|Etiam Bibendum In...|tent and awning s...|     6.31|  8482176.66|              6341|                 1338.0|       29735.0|\n",
       "| 45629217853|    Lacus Consulting|gift, card, novel...|     6.98|  7436925.45|            201830|                   37.0|       28839.0|\n",
       "| 96680767841|      Ornare Limited|motor vehicle sup...|     5.91|  8679874.17|             27541|                  315.0|       28499.0|\n",
       "| 21439773999|Mauris Non Institute|cable, satellite,...|      6.1|  8337853.96|            106724|                   78.0|       28256.0|\n",
       "| 63123845164|Odio Phasellus In...|artist supply and...|     6.59|  7570160.92|             10075|                  751.0|       27715.0|\n",
       "| 64403598239|Lobortis Ultrices...|music shops - mus...|     6.31|  7842635.61|            100394|                   78.0|       27493.0|\n",
       "+------------+--------------------+--------------------+---------+------------+------------------+-----------------------+--------------+"
      ]
     },
     "execution_count": 8,
     "metadata": {},
     "output_type": "execute_result"
    }
   ],
   "source": [
    "merchant_detail.limit(10)"
   ]
  },
  {
   "cell_type": "code",
   "execution_count": 9,
   "id": "af914070",
   "metadata": {},
   "outputs": [],
   "source": [
    "merchant_detail = merchant_detail.join(max_count_df.drop(col(\"transaction_count\")),['merchant_name'],how='inner')"
   ]
  },
  {
   "cell_type": "code",
   "execution_count": 10,
   "id": "4eeb7d95",
   "metadata": {},
   "outputs": [
    {
     "name": "stderr",
     "output_type": "stream",
     "text": [
      "                                                                                \r"
     ]
    },
    {
     "data": {
      "text/html": [
       "<table border='1'>\n",
       "<tr><th>merchant_name</th><th>merchant_abn</th><th>type</th><th>take_rate</th><th>total_income</th><th>total_transactions</th><th>mean_transaction_amount</th><th>monthly_profit</th><th>postcode</th></tr>\n",
       "<tr><td>A Associates</td><td>14955471775</td><td>opticians, optica...</td><td>4.95</td><td>24797.58</td><td>71</td><td>349.0</td><td>68.0</td><td>4620</td></tr>\n",
       "<tr><td>A Neque LLP</td><td>79081516258</td><td>antique shops - s...</td><td>3.45</td><td>58451.53</td><td>5</td><td>11690.0</td><td>112.0</td><td>2047</td></tr>\n",
       "<tr><td>A Nunc In LLP</td><td>52069051820</td><td>bicycle shops - s...</td><td>2.17</td><td>52071.84</td><td>1045</td><td>50.0</td><td>63.0</td><td>1172</td></tr>\n",
       "<tr><td>A Ultricies Found...</td><td>34984654037</td><td>digital goods: bo...</td><td>2.34</td><td>106373.83</td><td>1224</td><td>87.0</td><td>138.0</td><td>6074</td></tr>\n",
       "<tr><td>Ac Corporation</td><td>87178039859</td><td>gift, card, novel...</td><td>3.35</td><td>40765.81</td><td>721</td><td>57.0</td><td>76.0</td><td>3862</td></tr>\n",
       "<tr><td>Ac Fermentum Vel LLP</td><td>17435313552</td><td>stationery, offic...</td><td>2.48</td><td>34385.67</td><td>50</td><td>688.0</td><td>47.0</td><td>1181</td></tr>\n",
       "<tr><td>Ac Feugiat LLC</td><td>30403523748</td><td>computers, comput...</td><td>6.21</td><td>46009.53</td><td>153</td><td>301.0</td><td>159.0</td><td>6415</td></tr>\n",
       "<tr><td>Ac Turpis Egestas PC</td><td>49758515423</td><td>watch, clock, and...</td><td>6.26</td><td>393842.58</td><td>3390</td><td>116.0</td><td>1370.0</td><td>4018</td></tr>\n",
       "<tr><td>Adipiscing Elit C...</td><td>49125619545</td><td>cable, satellite,...</td><td>5.66</td><td>1021916.46</td><td>8636</td><td>118.0</td><td>3213.0</td><td>6470</td></tr>\n",
       "<tr><td>Adipiscing Enim LLC</td><td>89502033586</td><td>digital goods: bo...</td><td>5.98</td><td>1224795.02</td><td>17351</td><td>71.0</td><td>4069.0</td><td>1819</td></tr>\n",
       "</table>\n"
      ],
      "text/plain": [
       "+--------------------+------------+--------------------+---------+------------+------------------+-----------------------+--------------+--------+\n",
       "|       merchant_name|merchant_abn|                type|take_rate|total_income|total_transactions|mean_transaction_amount|monthly_profit|postcode|\n",
       "+--------------------+------------+--------------------+---------+------------+------------------+-----------------------+--------------+--------+\n",
       "|        A Associates| 14955471775|opticians, optica...|     4.95|    24797.58|                71|                  349.0|          68.0|    4620|\n",
       "|         A Neque LLP| 79081516258|antique shops - s...|     3.45|    58451.53|                 5|                11690.0|         112.0|    2047|\n",
       "|       A Nunc In LLP| 52069051820|bicycle shops - s...|     2.17|    52071.84|              1045|                   50.0|          63.0|    1172|\n",
       "|A Ultricies Found...| 34984654037|digital goods: bo...|     2.34|   106373.83|              1224|                   87.0|         138.0|    6074|\n",
       "|      Ac Corporation| 87178039859|gift, card, novel...|     3.35|    40765.81|               721|                   57.0|          76.0|    3862|\n",
       "|Ac Fermentum Vel LLP| 17435313552|stationery, offic...|     2.48|    34385.67|                50|                  688.0|          47.0|    1181|\n",
       "|      Ac Feugiat LLC| 30403523748|computers, comput...|     6.21|    46009.53|               153|                  301.0|         159.0|    6415|\n",
       "|Ac Turpis Egestas PC| 49758515423|watch, clock, and...|     6.26|   393842.58|              3390|                  116.0|        1370.0|    4018|\n",
       "|Adipiscing Elit C...| 49125619545|cable, satellite,...|     5.66|  1021916.46|              8636|                  118.0|        3213.0|    6470|\n",
       "| Adipiscing Enim LLC| 89502033586|digital goods: bo...|     5.98|  1224795.02|             17351|                   71.0|        4069.0|    1819|\n",
       "+--------------------+------------+--------------------+---------+------------+------------------+-----------------------+--------------+--------+"
      ]
     },
     "execution_count": 10,
     "metadata": {},
     "output_type": "execute_result"
    }
   ],
   "source": [
    "merchant_detail.limit(10)"
   ]
  },
  {
   "cell_type": "code",
   "execution_count": 11,
   "id": "e0eea8a3",
   "metadata": {},
   "outputs": [
    {
     "name": "stderr",
     "output_type": "stream",
     "text": [
      "                                                                                \r"
     ]
    }
   ],
   "source": [
    "merchant_detail.write.mode('overwrite').parquet('../data/curated/new_merchant_detail.parquet')"
   ]
  },
  {
   "cell_type": "code",
   "execution_count": 12,
   "id": "5bb94a41",
   "metadata": {},
   "outputs": [
    {
     "data": {
      "text/html": [
       "<table border='1'>\n",
       "<tr><th>merchant_name</th><th>merchant_abn</th><th>type</th><th>take_rate</th><th>total_income</th><th>total_transactions</th><th>mean_transaction_amount</th><th>monthly_profit</th><th>postcode</th></tr>\n",
       "<tr><td>A Arcu Industries</td><td>77090965820</td><td>florists supplies...</td><td>3.0</td><td>946819.86</td><td>2495</td><td>379.0</td><td>1578.0</td><td>6646</td></tr>\n",
       "<tr><td>A Arcu Sed Corpor...</td><td>90909339288</td><td>stationery, offic...</td><td>3.06</td><td>12795.55</td><td>22</td><td>582.0</td><td>22.0</td><td>2348</td></tr>\n",
       "<tr><td>A Corp.</td><td>87998844202</td><td>antique shops - s...</td><td>6.57</td><td>513471.84</td><td>4715</td><td>109.0</td><td>1874.0</td><td>3724</td></tr>\n",
       "<tr><td>A Facilisis Non Inc.</td><td>49784932478</td><td>telecom</td><td>4.71</td><td>33686.7</td><td>8</td><td>4211.0</td><td>88.0</td><td>2017</td></tr>\n",
       "<tr><td>A Facilisis PC</td><td>43061683632</td><td>watch, clock, and...</td><td>2.73</td><td>219759.82</td><td>12502</td><td>18.0</td><td>333.0</td><td>2538</td></tr>\n",
       "<tr><td>A Magna Lorem Ltd</td><td>92836597532</td><td>tent and awning s...</td><td>5.77</td><td>1149205.16</td><td>1243</td><td>925.0</td><td>3684.0</td><td>3178</td></tr>\n",
       "<tr><td>A Ultricies Insti...</td><td>57471217202</td><td>gift, card, novel...</td><td>4.65</td><td>791873.32</td><td>10869</td><td>73.0</td><td>2046.0</td><td>6470</td></tr>\n",
       "<tr><td>Ac Eleifend Vitae...</td><td>53829845678</td><td>jewelry, watch, c...</td><td>2.79</td><td>31027.12</td><td>8</td><td>3878.0</td><td>48.0</td><td>1210</td></tr>\n",
       "<tr><td>Ac Metus Corporation</td><td>24769745549</td><td>gift, card, novel...</td><td>5.95</td><td>135964.34</td><td>1484</td><td>92.0</td><td>449.0</td><td>4800</td></tr>\n",
       "<tr><td>Ac Metus Industries</td><td>68289707002</td><td>shoe shops</td><td>2.7</td><td>313959.91</td><td>2081</td><td>151.0</td><td>471.0</td><td>3658</td></tr>\n",
       "</table>\n"
      ],
      "text/plain": [
       "+--------------------+------------+--------------------+---------+------------+------------------+-----------------------+--------------+--------+\n",
       "|       merchant_name|merchant_abn|                type|take_rate|total_income|total_transactions|mean_transaction_amount|monthly_profit|postcode|\n",
       "+--------------------+------------+--------------------+---------+------------+------------------+-----------------------+--------------+--------+\n",
       "|   A Arcu Industries| 77090965820|florists supplies...|      3.0|   946819.86|              2495|                  379.0|        1578.0|    6646|\n",
       "|A Arcu Sed Corpor...| 90909339288|stationery, offic...|     3.06|    12795.55|                22|                  582.0|          22.0|    2348|\n",
       "|             A Corp.| 87998844202|antique shops - s...|     6.57|   513471.84|              4715|                  109.0|        1874.0|    3724|\n",
       "|A Facilisis Non Inc.| 49784932478|             telecom|     4.71|     33686.7|                 8|                 4211.0|          88.0|    2017|\n",
       "|      A Facilisis PC| 43061683632|watch, clock, and...|     2.73|   219759.82|             12502|                   18.0|         333.0|    2538|\n",
       "|   A Magna Lorem Ltd| 92836597532|tent and awning s...|     5.77|  1149205.16|              1243|                  925.0|        3684.0|    3178|\n",
       "|A Ultricies Insti...| 57471217202|gift, card, novel...|     4.65|   791873.32|             10869|                   73.0|        2046.0|    6470|\n",
       "|Ac Eleifend Vitae...| 53829845678|jewelry, watch, c...|     2.79|    31027.12|                 8|                 3878.0|          48.0|    1210|\n",
       "|Ac Metus Corporation| 24769745549|gift, card, novel...|     5.95|   135964.34|              1484|                   92.0|         449.0|    4800|\n",
       "| Ac Metus Industries| 68289707002|          shoe shops|      2.7|   313959.91|              2081|                  151.0|         471.0|    3658|\n",
       "+--------------------+------------+--------------------+---------+------------+------------------+-----------------------+--------------+--------+"
      ]
     },
     "execution_count": 12,
     "metadata": {},
     "output_type": "execute_result"
    }
   ],
   "source": [
    "new = spark.read.parquet('../data/curated/new_merchant_detail.parquet')\n",
    "new.limit(10)"
   ]
  },
  {
   "cell_type": "code",
   "execution_count": null,
   "id": "0b163277",
   "metadata": {},
   "outputs": [],
   "source": []
  },
  {
   "cell_type": "code",
   "execution_count": null,
   "id": "8daee63e",
   "metadata": {},
   "outputs": [],
   "source": []
  }
 ],
 "metadata": {
  "kernelspec": {
   "display_name": "Python 3 (ipykernel)",
   "language": "python",
   "name": "python3"
  },
  "language_info": {
   "codemirror_mode": {
    "name": "ipython",
    "version": 3
   },
   "file_extension": ".py",
   "mimetype": "text/x-python",
   "name": "python",
   "nbconvert_exporter": "python",
   "pygments_lexer": "ipython3",
   "version": "3.8.10"
  }
 },
 "nbformat": 4,
 "nbformat_minor": 5
}
