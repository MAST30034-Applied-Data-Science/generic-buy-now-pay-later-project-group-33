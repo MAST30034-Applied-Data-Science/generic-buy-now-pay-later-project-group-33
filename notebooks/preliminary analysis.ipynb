{
 "cells": [
  {
   "cell_type": "code",
   "execution_count": 244,
   "id": "cbc6ccfc",
   "metadata": {},
   "outputs": [],
   "source": [
    "from pyspark.sql import functions as F\n",
    "from pyspark.sql.functions import *\n",
    "import matplotlib.pyplot as plt"
   ]
  },
  {
   "cell_type": "code",
   "execution_count": 245,
   "id": "08f6b0f1",
   "metadata": {},
   "outputs": [],
   "source": [
    "import pandas as pd\n",
    "import numpy as np"
   ]
  },
  {
   "cell_type": "code",
   "execution_count": 246,
   "id": "407a3036",
   "metadata": {
    "scrolled": true
   },
   "outputs": [],
   "source": [
    "from pyspark.sql import SparkSession\n",
    "\n",
    "# Create a spark session\n",
    "spark = (\n",
    "    SparkSession.builder.appName(\"MAST30034 Project 2\")\n",
    "    .config(\"spark.sql.repl.eagerEval.enabled\", True) \n",
    "    .config(\"spark.sql.parquet.cacheMetadata\", \"true\")\n",
    "    .getOrCreate()\n",
    ")"
   ]
  },
  {
   "cell_type": "markdown",
   "id": "6abeee62",
   "metadata": {},
   "source": [
    "# 1.Read the data in and check the presence of null value"
   ]
  },
  {
   "cell_type": "code",
   "execution_count": 247,
   "id": "7b4e3b7a",
   "metadata": {},
   "outputs": [],
   "source": [
    "# function used to check the presence of null values.\n",
    "def check_null_value(dataframe):\n",
    "    for columns in dataframe.columns:\n",
    "        print('Number of null value in', columns, ':', dataframe.where(F.col(columns).isNull()).count())\n",
    "    return"
   ]
  },
  {
   "cell_type": "code",
   "execution_count": 248,
   "id": "17c170a0",
   "metadata": {
    "scrolled": true
   },
   "outputs": [
    {
     "name": "stderr",
     "output_type": "stream",
     "text": [
      "\r",
      "[Stage 1127:>                                                       (0 + 1) / 1]\r"
     ]
    },
    {
     "name": "stdout",
     "output_type": "stream",
     "text": [
      "Number of null value in user_id : 0\n",
      "Number of null value in consumer_id : 0\n"
     ]
    },
    {
     "name": "stderr",
     "output_type": "stream",
     "text": [
      "\r",
      "                                                                                \r"
     ]
    }
   ],
   "source": [
    "consumer_id = spark.read.parquet('../data/tables/consumer_user_details.parquet')\n",
    "check_null_value(consumer_id)"
   ]
  },
  {
   "cell_type": "code",
   "execution_count": 249,
   "id": "a54adcee",
   "metadata": {
    "scrolled": true
   },
   "outputs": [
    {
     "name": "stderr",
     "output_type": "stream",
     "text": [
      "                                                                                \r"
     ]
    },
    {
     "name": "stdout",
     "output_type": "stream",
     "text": [
      "Number of null value in name : 0\n",
      "Number of null value in address : 0\n",
      "Number of null value in state : 0\n",
      "Number of null value in postcode : 0\n",
      "Number of null value in gender : 0\n",
      "Number of null value in consumer_id : 0\n"
     ]
    }
   ],
   "source": [
    "# Use pandas read consumer csv\n",
    "raw_consumer_df = spark.read.option(\"header\",True).csv('../data/tables/tbl_consumer.csv')\n",
    "check_null_value(raw_consumer_df)"
   ]
  },
  {
   "cell_type": "code",
   "execution_count": 250,
   "id": "69d18a73",
   "metadata": {},
   "outputs": [
    {
     "name": "stdout",
     "output_type": "stream",
     "text": [
      "Number of null value in merchant_name : 0\n",
      "Number of null value in tags : 0\n",
      "Number of null value in merchant_abn : 0\n"
     ]
    }
   ],
   "source": [
    "merchant_df = spark.read.parquet('../data/tables/tbl_merchants.parquet').withColumnRenamed('name','merchant_name')\n",
    "check_null_value(merchant_df)"
   ]
  },
  {
   "cell_type": "code",
   "execution_count": 251,
   "id": "acbbc1c3",
   "metadata": {
    "scrolled": false
   },
   "outputs": [
    {
     "name": "stderr",
     "output_type": "stream",
     "text": [
      "\r",
      "[Stage 1164:============================>                           (4 + 4) / 8]\r",
      "\r",
      "                                                                                \r"
     ]
    },
    {
     "name": "stdout",
     "output_type": "stream",
     "text": [
      "Number of null value in user_id : 0\n",
      "Number of null value in merchant_abn : 0\n",
      "Number of null value in dollar_value : 0\n",
      "Number of null value in order_id : 0\n"
     ]
    }
   ],
   "source": [
    "path_list = []\n",
    "period = pd.date_range('2021-2-28','2021-03-31', freq='D').strftime(\"%Y-%m-%d\").tolist()\n",
    "path_prefix = '../data/tables/transactions_20210228_20210827_snapshot/order_datetime='\n",
    "for date in period:\n",
    "    path_list.append(path_prefix + date)\n",
    "    \n",
    "raw_transactions_df = spark.read.parquet(*path_list)\n",
    "\n",
    "check_null_value(raw_transactions_df)"
   ]
  },
  {
   "cell_type": "markdown",
   "id": "cc4cfa97",
   "metadata": {},
   "source": [
    "#### No null value is found in the raw datasets."
   ]
  },
  {
   "cell_type": "markdown",
   "id": "ca5b798d",
   "metadata": {},
   "source": [
    "# 2. Data aggregation"
   ]
  },
  {
   "cell_type": "markdown",
   "id": "10b3a9c2",
   "metadata": {},
   "source": [
    "First, we aggregate the given consumer, merchant and transactions data, drop the irrelevant features for the ranking system such as consumers' id and name, transactions' order id and merchants' abn."
   ]
  },
  {
   "cell_type": "code",
   "execution_count": 252,
   "id": "92362397",
   "metadata": {},
   "outputs": [],
   "source": [
    "consumer_df =  consumer_id.join(raw_consumer_df, consumer_id.consumer_id == raw_consumer_df.consumer_id, 'inner')\\\n",
    "                            .withColumnRenamed('name','consumer_name')\\\n",
    "                            .withColumnRenamed('address','consumer_address')"
   ]
  },
  {
   "cell_type": "markdown",
   "id": "3f834336",
   "metadata": {},
   "source": [
    "Get the take rate of each merchant."
   ]
  },
  {
   "cell_type": "code",
   "execution_count": 253,
   "id": "92301d25",
   "metadata": {},
   "outputs": [],
   "source": [
    "merchant_df = merchant_df.withColumn('tags_string', split(merchant_df['tags'], ':'))\\\n",
    "                         .withColumn('rate_string', element_at(col('tags_string'), -1))\\\n",
    "                         .withColumn('rate_substring', substring('rate_string', 1, 5))\\\n",
    "                         .withColumn('take_rate', col('rate_substring').cast('double'))\\\n",
    "                         .drop('rate_string', 'rate_substring', 'tags_string')"
   ]
  },
  {
   "cell_type": "code",
   "execution_count": 254,
   "id": "7b6163b1",
   "metadata": {},
   "outputs": [],
   "source": [
    "transactions_df = raw_transactions_df.join(merchant_df, raw_transactions_df.merchant_abn == merchant_df.merchant_abn, 'inner')\\\n",
    "                           .join(consumer_df, raw_transactions_df.user_id == consumer_df.user_id, 'inner')\\\n",
    "                           .drop('merchant_abn', 'order_id', 'user_id', 'consumer_id', 'consumer_name')"
   ]
  },
  {
   "cell_type": "code",
   "execution_count": 255,
   "id": "230d9dc5",
   "metadata": {
    "scrolled": true
   },
   "outputs": [
    {
     "name": "stderr",
     "output_type": "stream",
     "text": [
      "                                                                                \r"
     ]
    },
    {
     "data": {
      "text/plain": [
       "(563440, 540364)"
      ]
     },
     "execution_count": 255,
     "metadata": {},
     "output_type": "execute_result"
    }
   ],
   "source": [
    "raw_transactions_df.count(), transactions_df.count()"
   ]
  },
  {
   "cell_type": "markdown",
   "id": "96e7a0e4",
   "metadata": {},
   "source": [
    "Since some merchant abns from the transaction data do not match with any merchant from the merchant, we should remove them by inner join with the merchant dataset. About  5% of data are eliminated."
   ]
  },
  {
   "cell_type": "code",
   "execution_count": 256,
   "id": "fcf6d683",
   "metadata": {
    "scrolled": true
   },
   "outputs": [
    {
     "name": "stderr",
     "output_type": "stream",
     "text": [
      "                                                                                \r"
     ]
    },
    {
     "data": {
      "text/html": [
       "<table border='1'>\n",
       "<tr><th>dollar_value</th><th>merchant_name</th><th>tags</th><th>take_rate</th><th>consumer_address</th><th>state</th><th>postcode</th><th>gender</th></tr>\n",
       "<tr><td>188.28973315308076</td><td>Vulputate Dui Nec...</td><td>[[computer progra...</td><td>6.06</td><td>122 Brandon Cliff</td><td>QLD</td><td>4606</td><td>Female</td></tr>\n",
       "<tr><td>104.28588019514527</td><td>Semper Incorporated</td><td>([digital goods: ...</td><td>3.31</td><td>122 Brandon Cliff</td><td>QLD</td><td>4606</td><td>Female</td></tr>\n",
       "<tr><td>31.24707699002731</td><td>Suspendisse Dui C...</td><td>((opticians, opti...</td><td>2.93</td><td>122 Brandon Cliff</td><td>QLD</td><td>4606</td><td>Female</td></tr>\n",
       "<tr><td>24.235220789680053</td><td>Eu Dui Cum Ltd</td><td>[[tent and awning...</td><td>2.38</td><td>122 Brandon Cliff</td><td>QLD</td><td>4606</td><td>Female</td></tr>\n",
       "<tr><td>62.10343310638136</td><td>Lorem Ipsum Sodal...</td><td>([florists suppli...</td><td>4.47</td><td>122 Brandon Cliff</td><td>QLD</td><td>4606</td><td>Female</td></tr>\n",
       "<tr><td>179.95765381097175</td><td>Phasellus Dapibus...</td><td>[(motor vehicle s...</td><td>4.84</td><td>122 Brandon Cliff</td><td>QLD</td><td>4606</td><td>Female</td></tr>\n",
       "<tr><td>89.93535555889761</td><td>Hendrerit Corpora...</td><td>((gift, card, nov...</td><td>6.02</td><td>122 Brandon Cliff</td><td>QLD</td><td>4606</td><td>Female</td></tr>\n",
       "<tr><td>427.9830846366457</td><td>At PC</td><td>[[computers, comp...</td><td>3.61</td><td>122 Brandon Cliff</td><td>QLD</td><td>4606</td><td>Female</td></tr>\n",
       "<tr><td>107.59365756886233</td><td>Nam Interdum Ltd</td><td>[[florists suppli...</td><td>6.28</td><td>122 Brandon Cliff</td><td>QLD</td><td>4606</td><td>Female</td></tr>\n",
       "<tr><td>25.296741327912205</td><td>Leo In Consulting</td><td>[[watch, clock, a...</td><td>6.43</td><td>122 Brandon Cliff</td><td>QLD</td><td>4606</td><td>Female</td></tr>\n",
       "</table>\n"
      ],
      "text/plain": [
       "+------------------+--------------------+--------------------+---------+-----------------+-----+--------+------+\n",
       "|      dollar_value|       merchant_name|                tags|take_rate| consumer_address|state|postcode|gender|\n",
       "+------------------+--------------------+--------------------+---------+-----------------+-----+--------+------+\n",
       "|188.28973315308076|Vulputate Dui Nec...|[[computer progra...|     6.06|122 Brandon Cliff|  QLD|    4606|Female|\n",
       "|104.28588019514527| Semper Incorporated|([digital goods: ...|     3.31|122 Brandon Cliff|  QLD|    4606|Female|\n",
       "| 31.24707699002731|Suspendisse Dui C...|((opticians, opti...|     2.93|122 Brandon Cliff|  QLD|    4606|Female|\n",
       "|24.235220789680053|      Eu Dui Cum Ltd|[[tent and awning...|     2.38|122 Brandon Cliff|  QLD|    4606|Female|\n",
       "| 62.10343310638136|Lorem Ipsum Sodal...|([florists suppli...|     4.47|122 Brandon Cliff|  QLD|    4606|Female|\n",
       "|179.95765381097175|Phasellus Dapibus...|[(motor vehicle s...|     4.84|122 Brandon Cliff|  QLD|    4606|Female|\n",
       "| 89.93535555889761|Hendrerit Corpora...|((gift, card, nov...|     6.02|122 Brandon Cliff|  QLD|    4606|Female|\n",
       "| 427.9830846366457|               At PC|[[computers, comp...|     3.61|122 Brandon Cliff|  QLD|    4606|Female|\n",
       "|107.59365756886233|    Nam Interdum Ltd|[[florists suppli...|     6.28|122 Brandon Cliff|  QLD|    4606|Female|\n",
       "|25.296741327912205|   Leo In Consulting|[[watch, clock, a...|     6.43|122 Brandon Cliff|  QLD|    4606|Female|\n",
       "+------------------+--------------------+--------------------+---------+-----------------+-----+--------+------+"
      ]
     },
     "execution_count": 256,
     "metadata": {},
     "output_type": "execute_result"
    }
   ],
   "source": [
    "transactions_df.limit(10)"
   ]
  },
  {
   "cell_type": "markdown",
   "id": "f11eeae9",
   "metadata": {},
   "source": [
    "We compute the total income, the number of transactions, the mean transaction amount and the profit for each merchant for the preliminary analysis."
   ]
  },
  {
   "cell_type": "code",
   "execution_count": 257,
   "id": "43876e2a",
   "metadata": {},
   "outputs": [],
   "source": [
    "merchant_detail = transactions_df.groupBy('merchant_name', 'tags', 'take_rate')\\\n",
    "                  .agg(\n",
    "                       F.round(F.sum('dollar_value'),2).alias('total_income'),\n",
    "                       F.count('merchant_name').alias('total_transactions'), )\\\n",
    "                  .withColumn('mean_transaction_amount',  F.round(F.col('total_income')/F.col('total_transactions')))\\\n",
    "                  .withColumn('profit',  F.round(F.col('total_income')*F.col('take_rate')/100))\\\n",
    "                  .orderBy('profit', ascending = False)"
   ]
  },
  {
   "cell_type": "code",
   "execution_count": 258,
   "id": "fc37e4be",
   "metadata": {
    "scrolled": true
   },
   "outputs": [
    {
     "name": "stderr",
     "output_type": "stream",
     "text": [
      "                                                                                \r"
     ]
    },
    {
     "data": {
      "text/html": [
       "<div>\n",
       "<style scoped>\n",
       "    .dataframe tbody tr th:only-of-type {\n",
       "        vertical-align: middle;\n",
       "    }\n",
       "\n",
       "    .dataframe tbody tr th {\n",
       "        vertical-align: top;\n",
       "    }\n",
       "\n",
       "    .dataframe thead th {\n",
       "        text-align: right;\n",
       "    }\n",
       "</style>\n",
       "<table border=\"1\" class=\"dataframe\">\n",
       "  <thead>\n",
       "    <tr style=\"text-align: right;\">\n",
       "      <th></th>\n",
       "      <th>merchant_name</th>\n",
       "      <th>tags</th>\n",
       "      <th>take_rate</th>\n",
       "      <th>total_income</th>\n",
       "      <th>total_transactions</th>\n",
       "      <th>mean_transaction_amount</th>\n",
       "      <th>profit</th>\n",
       "    </tr>\n",
       "  </thead>\n",
       "  <tbody>\n",
       "    <tr>\n",
       "      <th>0</th>\n",
       "      <td>Amet Risus Inc.</td>\n",
       "      <td>([furniture, home furnishings and equipment sh...</td>\n",
       "      <td>6.82</td>\n",
       "      <td>461558.32</td>\n",
       "      <td>213</td>\n",
       "      <td>2167.0</td>\n",
       "      <td>31478.0</td>\n",
       "    </tr>\n",
       "    <tr>\n",
       "      <th>1</th>\n",
       "      <td>Orci In Consequat Corporation</td>\n",
       "      <td>([gift, card, novelty, and souvenir shops], [a...</td>\n",
       "      <td>6.61</td>\n",
       "      <td>375336.05</td>\n",
       "      <td>3416</td>\n",
       "      <td>110.0</td>\n",
       "      <td>24810.0</td>\n",
       "    </tr>\n",
       "    <tr>\n",
       "      <th>2</th>\n",
       "      <td>Leo In Consulting</td>\n",
       "      <td>[[watch, clock, and jewelry repair shops], [a]...</td>\n",
       "      <td>6.43</td>\n",
       "      <td>383480.78</td>\n",
       "      <td>10981</td>\n",
       "      <td>35.0</td>\n",
       "      <td>24658.0</td>\n",
       "    </tr>\n",
       "    <tr>\n",
       "      <th>3</th>\n",
       "      <td>Dignissim Maecenas Foundation</td>\n",
       "      <td>[[opticians, oPtical goods, and eyeglasses], [...</td>\n",
       "      <td>6.64</td>\n",
       "      <td>365056.48</td>\n",
       "      <td>2581</td>\n",
       "      <td>141.0</td>\n",
       "      <td>24240.0</td>\n",
       "    </tr>\n",
       "    <tr>\n",
       "      <th>4</th>\n",
       "      <td>Lacus Consulting</td>\n",
       "      <td>[[gift, Card, novelty, and souvenir shops], [a...</td>\n",
       "      <td>6.98</td>\n",
       "      <td>331667.45</td>\n",
       "      <td>9025</td>\n",
       "      <td>37.0</td>\n",
       "      <td>23150.0</td>\n",
       "    </tr>\n",
       "    <tr>\n",
       "      <th>...</th>\n",
       "      <td>...</td>\n",
       "      <td>...</td>\n",
       "      <td>...</td>\n",
       "      <td>...</td>\n",
       "      <td>...</td>\n",
       "      <td>...</td>\n",
       "      <td>...</td>\n",
       "    </tr>\n",
       "    <tr>\n",
       "      <th>3679</th>\n",
       "      <td>Proin Vel Inc.</td>\n",
       "      <td>[[stationery, office supplies and printing and...</td>\n",
       "      <td>0.16</td>\n",
       "      <td>455.00</td>\n",
       "      <td>2</td>\n",
       "      <td>228.0</td>\n",
       "      <td>1.0</td>\n",
       "    </tr>\n",
       "    <tr>\n",
       "      <th>3680</th>\n",
       "      <td>Auctor Odio Company</td>\n",
       "      <td>[(cable, satellite, and other pay television a...</td>\n",
       "      <td>0.54</td>\n",
       "      <td>224.41</td>\n",
       "      <td>3</td>\n",
       "      <td>75.0</td>\n",
       "      <td>1.0</td>\n",
       "    </tr>\n",
       "    <tr>\n",
       "      <th>3681</th>\n",
       "      <td>Consequat Corp.</td>\n",
       "      <td>((shoe shops), (e), (take rate: 0.47))</td>\n",
       "      <td>0.47</td>\n",
       "      <td>266.80</td>\n",
       "      <td>2</td>\n",
       "      <td>133.0</td>\n",
       "      <td>1.0</td>\n",
       "    </tr>\n",
       "    <tr>\n",
       "      <th>3682</th>\n",
       "      <td>Donec Vitae Company</td>\n",
       "      <td>[[books, periodicals, and newspapers], [d], [t...</td>\n",
       "      <td>0.72</td>\n",
       "      <td>197.83</td>\n",
       "      <td>3</td>\n",
       "      <td>66.0</td>\n",
       "      <td>1.0</td>\n",
       "    </tr>\n",
       "    <tr>\n",
       "      <th>3683</th>\n",
       "      <td>Lacus LLP</td>\n",
       "      <td>[(books, periodicals, and newspapers), (e), (t...</td>\n",
       "      <td>0.10</td>\n",
       "      <td>180.78</td>\n",
       "      <td>1</td>\n",
       "      <td>181.0</td>\n",
       "      <td>0.0</td>\n",
       "    </tr>\n",
       "  </tbody>\n",
       "</table>\n",
       "<p>3684 rows × 7 columns</p>\n",
       "</div>"
      ],
      "text/plain": [
       "                      merchant_name  \\\n",
       "0                   Amet Risus Inc.   \n",
       "1     Orci In Consequat Corporation   \n",
       "2                 Leo In Consulting   \n",
       "3     Dignissim Maecenas Foundation   \n",
       "4                  Lacus Consulting   \n",
       "...                             ...   \n",
       "3679                 Proin Vel Inc.   \n",
       "3680            Auctor Odio Company   \n",
       "3681                Consequat Corp.   \n",
       "3682            Donec Vitae Company   \n",
       "3683                      Lacus LLP   \n",
       "\n",
       "                                                   tags  take_rate  \\\n",
       "0     ([furniture, home furnishings and equipment sh...       6.82   \n",
       "1     ([gift, card, novelty, and souvenir shops], [a...       6.61   \n",
       "2     [[watch, clock, and jewelry repair shops], [a]...       6.43   \n",
       "3     [[opticians, oPtical goods, and eyeglasses], [...       6.64   \n",
       "4     [[gift, Card, novelty, and souvenir shops], [a...       6.98   \n",
       "...                                                 ...        ...   \n",
       "3679  [[stationery, office supplies and printing and...       0.16   \n",
       "3680  [(cable, satellite, and other pay television a...       0.54   \n",
       "3681             ((shoe shops), (e), (take rate: 0.47))       0.47   \n",
       "3682  [[books, periodicals, and newspapers], [d], [t...       0.72   \n",
       "3683  [(books, periodicals, and newspapers), (e), (t...       0.10   \n",
       "\n",
       "      total_income  total_transactions  mean_transaction_amount   profit  \n",
       "0        461558.32                 213                   2167.0  31478.0  \n",
       "1        375336.05                3416                    110.0  24810.0  \n",
       "2        383480.78               10981                     35.0  24658.0  \n",
       "3        365056.48                2581                    141.0  24240.0  \n",
       "4        331667.45                9025                     37.0  23150.0  \n",
       "...            ...                 ...                      ...      ...  \n",
       "3679        455.00                   2                    228.0      1.0  \n",
       "3680        224.41                   3                     75.0      1.0  \n",
       "3681        266.80                   2                    133.0      1.0  \n",
       "3682        197.83                   3                     66.0      1.0  \n",
       "3683        180.78                   1                    181.0      0.0  \n",
       "\n",
       "[3684 rows x 7 columns]"
      ]
     },
     "execution_count": 258,
     "metadata": {},
     "output_type": "execute_result"
    }
   ],
   "source": [
    "merchant_detail.toPandas()"
   ]
  },
  {
   "cell_type": "code",
   "execution_count": 259,
   "id": "9f5bc2c9",
   "metadata": {
    "scrolled": true
   },
   "outputs": [
    {
     "name": "stderr",
     "output_type": "stream",
     "text": [
      "                                                                                \r"
     ]
    },
    {
     "data": {
      "text/html": [
       "<div>\n",
       "<style scoped>\n",
       "    .dataframe tbody tr th:only-of-type {\n",
       "        vertical-align: middle;\n",
       "    }\n",
       "\n",
       "    .dataframe tbody tr th {\n",
       "        vertical-align: top;\n",
       "    }\n",
       "\n",
       "    .dataframe thead th {\n",
       "        text-align: right;\n",
       "    }\n",
       "</style>\n",
       "<table border=\"1\" class=\"dataframe\">\n",
       "  <thead>\n",
       "    <tr style=\"text-align: right;\">\n",
       "      <th></th>\n",
       "      <th>merchant_name</th>\n",
       "      <th>tags</th>\n",
       "      <th>take_rate</th>\n",
       "      <th>total_income</th>\n",
       "      <th>total_transactions</th>\n",
       "      <th>mean_transaction_amount</th>\n",
       "      <th>profit</th>\n",
       "    </tr>\n",
       "  </thead>\n",
       "  <tbody>\n",
       "    <tr>\n",
       "      <th>0</th>\n",
       "      <td>Erat Vitae LLP</td>\n",
       "      <td>[(florists supplies, nursery stock, and floWer...</td>\n",
       "      <td>2.94</td>\n",
       "      <td>342276.83</td>\n",
       "      <td>11366</td>\n",
       "      <td>30.0</td>\n",
       "      <td>10063.0</td>\n",
       "    </tr>\n",
       "    <tr>\n",
       "      <th>1</th>\n",
       "      <td>Leo In Consulting</td>\n",
       "      <td>[[watch, clock, and jewelry repair shops], [a]...</td>\n",
       "      <td>6.43</td>\n",
       "      <td>383480.78</td>\n",
       "      <td>10981</td>\n",
       "      <td>35.0</td>\n",
       "      <td>24658.0</td>\n",
       "    </tr>\n",
       "    <tr>\n",
       "      <th>2</th>\n",
       "      <td>Pede Nonummy Corp.</td>\n",
       "      <td>((tent and awning shops), (c), (take rate: 2.86))</td>\n",
       "      <td>2.86</td>\n",
       "      <td>298106.19</td>\n",
       "      <td>10387</td>\n",
       "      <td>29.0</td>\n",
       "      <td>8526.0</td>\n",
       "    </tr>\n",
       "    <tr>\n",
       "      <th>3</th>\n",
       "      <td>Non Vestibulum Industries</td>\n",
       "      <td>((teNt and awning shops), (a), (take rate: 5.80))</td>\n",
       "      <td>5.80</td>\n",
       "      <td>283962.38</td>\n",
       "      <td>9827</td>\n",
       "      <td>29.0</td>\n",
       "      <td>16470.0</td>\n",
       "    </tr>\n",
       "    <tr>\n",
       "      <th>4</th>\n",
       "      <td>Suspendisse Dui Corporation</td>\n",
       "      <td>((opticians, optical goods, and eyeglasses), (...</td>\n",
       "      <td>2.93</td>\n",
       "      <td>279790.38</td>\n",
       "      <td>9330</td>\n",
       "      <td>30.0</td>\n",
       "      <td>8198.0</td>\n",
       "    </tr>\n",
       "    <tr>\n",
       "      <th>...</th>\n",
       "      <td>...</td>\n",
       "      <td>...</td>\n",
       "      <td>...</td>\n",
       "      <td>...</td>\n",
       "      <td>...</td>\n",
       "      <td>...</td>\n",
       "      <td>...</td>\n",
       "    </tr>\n",
       "    <tr>\n",
       "      <th>3679</th>\n",
       "      <td>Ullamcorper Corp.</td>\n",
       "      <td>[(books, periodicals, and newspapers), (b), (t...</td>\n",
       "      <td>4.10</td>\n",
       "      <td>104.82</td>\n",
       "      <td>1</td>\n",
       "      <td>105.0</td>\n",
       "      <td>4.0</td>\n",
       "    </tr>\n",
       "    <tr>\n",
       "      <th>3680</th>\n",
       "      <td>Mollis Phasellus Institute</td>\n",
       "      <td>((shoe shops), (a), (take rate: 5.55))</td>\n",
       "      <td>5.55</td>\n",
       "      <td>387.73</td>\n",
       "      <td>1</td>\n",
       "      <td>388.0</td>\n",
       "      <td>22.0</td>\n",
       "    </tr>\n",
       "    <tr>\n",
       "      <th>3681</th>\n",
       "      <td>Id Magna Institute</td>\n",
       "      <td>((lawn and garden supply  outlEts, including n...</td>\n",
       "      <td>6.16</td>\n",
       "      <td>653.70</td>\n",
       "      <td>1</td>\n",
       "      <td>654.0</td>\n",
       "      <td>40.0</td>\n",
       "    </tr>\n",
       "    <tr>\n",
       "      <th>3682</th>\n",
       "      <td>Ac Arcu Inc.</td>\n",
       "      <td>([artist supply and craft shops], [c], [take r...</td>\n",
       "      <td>1.63</td>\n",
       "      <td>541.42</td>\n",
       "      <td>1</td>\n",
       "      <td>541.0</td>\n",
       "      <td>9.0</td>\n",
       "    </tr>\n",
       "    <tr>\n",
       "      <th>3683</th>\n",
       "      <td>Non Quam LLP</td>\n",
       "      <td>((health and beauty spas), (c), (take rate: 1....</td>\n",
       "      <td>1.75</td>\n",
       "      <td>343.69</td>\n",
       "      <td>1</td>\n",
       "      <td>344.0</td>\n",
       "      <td>6.0</td>\n",
       "    </tr>\n",
       "  </tbody>\n",
       "</table>\n",
       "<p>3684 rows × 7 columns</p>\n",
       "</div>"
      ],
      "text/plain": [
       "                    merchant_name  \\\n",
       "0                  Erat Vitae LLP   \n",
       "1               Leo In Consulting   \n",
       "2              Pede Nonummy Corp.   \n",
       "3       Non Vestibulum Industries   \n",
       "4     Suspendisse Dui Corporation   \n",
       "...                           ...   \n",
       "3679            Ullamcorper Corp.   \n",
       "3680   Mollis Phasellus Institute   \n",
       "3681           Id Magna Institute   \n",
       "3682                 Ac Arcu Inc.   \n",
       "3683                 Non Quam LLP   \n",
       "\n",
       "                                                   tags  take_rate  \\\n",
       "0     [(florists supplies, nursery stock, and floWer...       2.94   \n",
       "1     [[watch, clock, and jewelry repair shops], [a]...       6.43   \n",
       "2     ((tent and awning shops), (c), (take rate: 2.86))       2.86   \n",
       "3     ((teNt and awning shops), (a), (take rate: 5.80))       5.80   \n",
       "4     ((opticians, optical goods, and eyeglasses), (...       2.93   \n",
       "...                                                 ...        ...   \n",
       "3679  [(books, periodicals, and newspapers), (b), (t...       4.10   \n",
       "3680             ((shoe shops), (a), (take rate: 5.55))       5.55   \n",
       "3681  ((lawn and garden supply  outlEts, including n...       6.16   \n",
       "3682  ([artist supply and craft shops], [c], [take r...       1.63   \n",
       "3683  ((health and beauty spas), (c), (take rate: 1....       1.75   \n",
       "\n",
       "      total_income  total_transactions  mean_transaction_amount   profit  \n",
       "0        342276.83               11366                     30.0  10063.0  \n",
       "1        383480.78               10981                     35.0  24658.0  \n",
       "2        298106.19               10387                     29.0   8526.0  \n",
       "3        283962.38                9827                     29.0  16470.0  \n",
       "4        279790.38                9330                     30.0   8198.0  \n",
       "...            ...                 ...                      ...      ...  \n",
       "3679        104.82                   1                    105.0      4.0  \n",
       "3680        387.73                   1                    388.0     22.0  \n",
       "3681        653.70                   1                    654.0     40.0  \n",
       "3682        541.42                   1                    541.0      9.0  \n",
       "3683        343.69                   1                    344.0      6.0  \n",
       "\n",
       "[3684 rows x 7 columns]"
      ]
     },
     "execution_count": 259,
     "metadata": {},
     "output_type": "execute_result"
    }
   ],
   "source": [
    "merchant_detail.orderBy('total_transactions', ascending = False).toPandas()"
   ]
  },
  {
   "cell_type": "code",
   "execution_count": 260,
   "id": "c837c0b2",
   "metadata": {},
   "outputs": [
    {
     "name": "stderr",
     "output_type": "stream",
     "text": [
      "                                                                                \r"
     ]
    },
    {
     "data": {
      "text/html": [
       "<div>\n",
       "<style scoped>\n",
       "    .dataframe tbody tr th:only-of-type {\n",
       "        vertical-align: middle;\n",
       "    }\n",
       "\n",
       "    .dataframe tbody tr th {\n",
       "        vertical-align: top;\n",
       "    }\n",
       "\n",
       "    .dataframe thead th {\n",
       "        text-align: right;\n",
       "    }\n",
       "</style>\n",
       "<table border=\"1\" class=\"dataframe\">\n",
       "  <thead>\n",
       "    <tr style=\"text-align: right;\">\n",
       "      <th></th>\n",
       "      <th>merchant_name</th>\n",
       "      <th>tags</th>\n",
       "      <th>take_rate</th>\n",
       "      <th>total_income</th>\n",
       "      <th>total_transactions</th>\n",
       "      <th>mean_transaction_amount</th>\n",
       "      <th>profit</th>\n",
       "    </tr>\n",
       "  </thead>\n",
       "  <tbody>\n",
       "    <tr>\n",
       "      <th>0</th>\n",
       "      <td>Lacinia Orci Incorporated</td>\n",
       "      <td>([antique shops - sales, repairs, and restorat...</td>\n",
       "      <td>4.99</td>\n",
       "      <td>65774.72</td>\n",
       "      <td>2</td>\n",
       "      <td>32887.0</td>\n",
       "      <td>3282.0</td>\n",
       "    </tr>\n",
       "    <tr>\n",
       "      <th>1</th>\n",
       "      <td>Accumsan Corporation</td>\n",
       "      <td>[(jewelRy, watch, clock, and silverware shops)...</td>\n",
       "      <td>4.65</td>\n",
       "      <td>103485.33</td>\n",
       "      <td>4</td>\n",
       "      <td>25871.0</td>\n",
       "      <td>4812.0</td>\n",
       "    </tr>\n",
       "    <tr>\n",
       "      <th>2</th>\n",
       "      <td>Diam Nunc Associates</td>\n",
       "      <td>((jewelry, watch, clock, and silverware shops)...</td>\n",
       "      <td>3.98</td>\n",
       "      <td>99950.11</td>\n",
       "      <td>4</td>\n",
       "      <td>24988.0</td>\n",
       "      <td>3978.0</td>\n",
       "    </tr>\n",
       "    <tr>\n",
       "      <th>3</th>\n",
       "      <td>Ligula Elit Pretium Foundation</td>\n",
       "      <td>[[antique shops - sales, repairs, and restorat...</td>\n",
       "      <td>4.82</td>\n",
       "      <td>158303.12</td>\n",
       "      <td>7</td>\n",
       "      <td>22615.0</td>\n",
       "      <td>7630.0</td>\n",
       "    </tr>\n",
       "    <tr>\n",
       "      <th>4</th>\n",
       "      <td>Ut Corporation</td>\n",
       "      <td>((antique shops - sales, repairs, and resTorat...</td>\n",
       "      <td>6.82</td>\n",
       "      <td>43610.64</td>\n",
       "      <td>2</td>\n",
       "      <td>21805.0</td>\n",
       "      <td>2974.0</td>\n",
       "    </tr>\n",
       "    <tr>\n",
       "      <th>...</th>\n",
       "      <td>...</td>\n",
       "      <td>...</td>\n",
       "      <td>...</td>\n",
       "      <td>...</td>\n",
       "      <td>...</td>\n",
       "      <td>...</td>\n",
       "      <td>...</td>\n",
       "    </tr>\n",
       "    <tr>\n",
       "      <th>3679</th>\n",
       "      <td>Urna Nullam Lobortis Institute</td>\n",
       "      <td>((tent and awning shops), (b), (take rate: 3.48))</td>\n",
       "      <td>3.48</td>\n",
       "      <td>719.32</td>\n",
       "      <td>55</td>\n",
       "      <td>13.0</td>\n",
       "      <td>25.0</td>\n",
       "    </tr>\n",
       "    <tr>\n",
       "      <th>3680</th>\n",
       "      <td>Malesuada Fringilla Est Institute</td>\n",
       "      <td>[(tent and  Awning shops), (a), (take rate: 5....</td>\n",
       "      <td>5.96</td>\n",
       "      <td>732.90</td>\n",
       "      <td>59</td>\n",
       "      <td>12.0</td>\n",
       "      <td>44.0</td>\n",
       "    </tr>\n",
       "    <tr>\n",
       "      <th>3681</th>\n",
       "      <td>Pretium Neque Inc.</td>\n",
       "      <td>([tent and awning shops], [a], [take rate: 5.80])</td>\n",
       "      <td>5.80</td>\n",
       "      <td>1616.39</td>\n",
       "      <td>132</td>\n",
       "      <td>12.0</td>\n",
       "      <td>94.0</td>\n",
       "    </tr>\n",
       "    <tr>\n",
       "      <th>3682</th>\n",
       "      <td>Eros Limited</td>\n",
       "      <td>[[digital goods: books, movies, music], [c], [...</td>\n",
       "      <td>2.52</td>\n",
       "      <td>24845.59</td>\n",
       "      <td>2147</td>\n",
       "      <td>12.0</td>\n",
       "      <td>626.0</td>\n",
       "    </tr>\n",
       "    <tr>\n",
       "      <th>3683</th>\n",
       "      <td>Curabitur Dictum Phasellus LLC</td>\n",
       "      <td>[[gift, card, novelty, and souvenir shops], [c...</td>\n",
       "      <td>2.26</td>\n",
       "      <td>1046.23</td>\n",
       "      <td>137</td>\n",
       "      <td>8.0</td>\n",
       "      <td>24.0</td>\n",
       "    </tr>\n",
       "  </tbody>\n",
       "</table>\n",
       "<p>3684 rows × 7 columns</p>\n",
       "</div>"
      ],
      "text/plain": [
       "                          merchant_name  \\\n",
       "0             Lacinia Orci Incorporated   \n",
       "1                  Accumsan Corporation   \n",
       "2                  Diam Nunc Associates   \n",
       "3        Ligula Elit Pretium Foundation   \n",
       "4                        Ut Corporation   \n",
       "...                                 ...   \n",
       "3679     Urna Nullam Lobortis Institute   \n",
       "3680  Malesuada Fringilla Est Institute   \n",
       "3681                 Pretium Neque Inc.   \n",
       "3682                       Eros Limited   \n",
       "3683     Curabitur Dictum Phasellus LLC   \n",
       "\n",
       "                                                   tags  take_rate  \\\n",
       "0     ([antique shops - sales, repairs, and restorat...       4.99   \n",
       "1     [(jewelRy, watch, clock, and silverware shops)...       4.65   \n",
       "2     ((jewelry, watch, clock, and silverware shops)...       3.98   \n",
       "3     [[antique shops - sales, repairs, and restorat...       4.82   \n",
       "4     ((antique shops - sales, repairs, and resTorat...       6.82   \n",
       "...                                                 ...        ...   \n",
       "3679  ((tent and awning shops), (b), (take rate: 3.48))       3.48   \n",
       "3680  [(tent and  Awning shops), (a), (take rate: 5....       5.96   \n",
       "3681  ([tent and awning shops], [a], [take rate: 5.80])       5.80   \n",
       "3682  [[digital goods: books, movies, music], [c], [...       2.52   \n",
       "3683  [[gift, card, novelty, and souvenir shops], [c...       2.26   \n",
       "\n",
       "      total_income  total_transactions  mean_transaction_amount  profit  \n",
       "0         65774.72                   2                  32887.0  3282.0  \n",
       "1        103485.33                   4                  25871.0  4812.0  \n",
       "2         99950.11                   4                  24988.0  3978.0  \n",
       "3        158303.12                   7                  22615.0  7630.0  \n",
       "4         43610.64                   2                  21805.0  2974.0  \n",
       "...            ...                 ...                      ...     ...  \n",
       "3679        719.32                  55                     13.0    25.0  \n",
       "3680        732.90                  59                     12.0    44.0  \n",
       "3681       1616.39                 132                     12.0    94.0  \n",
       "3682      24845.59                2147                     12.0   626.0  \n",
       "3683       1046.23                 137                      8.0    24.0  \n",
       "\n",
       "[3684 rows x 7 columns]"
      ]
     },
     "execution_count": 260,
     "metadata": {},
     "output_type": "execute_result"
    }
   ],
   "source": [
    "merchant_detail.orderBy('mean_transaction_amount', ascending = False).toPandas()"
   ]
  },
  {
   "cell_type": "code",
   "execution_count": 261,
   "id": "e3570cbf",
   "metadata": {},
   "outputs": [
    {
     "name": "stderr",
     "output_type": "stream",
     "text": [
      "                                                                                \r"
     ]
    },
    {
     "data": {
      "text/plain": [
       "(3684, 4026)"
      ]
     },
     "execution_count": 261,
     "metadata": {},
     "output_type": "execute_result"
    }
   ],
   "source": [
    "merchant_detail.count(), merchant_df.count()"
   ]
  },
  {
   "cell_type": "code",
   "execution_count": 262,
   "id": "d75573b7",
   "metadata": {},
   "outputs": [
    {
     "name": "stderr",
     "output_type": "stream",
     "text": [
      "[Stage 1290:>                                                       (0 + 8) / 8]\r"
     ]
    },
    {
     "name": "stdout",
     "output_type": "stream",
     "text": [
      "22/09/10 21:19:57 WARN MemoryManager: Total allocation exceeds 95.00% (906,992,014 bytes) of heap memory\n",
      "Scaling row group sizes to 96.54% for 7 writers\n",
      "22/09/10 21:19:57 WARN MemoryManager: Total allocation exceeds 95.00% (906,992,014 bytes) of heap memory\n",
      "Scaling row group sizes to 84.47% for 8 writers\n",
      "22/09/10 21:19:59 WARN MemoryManager: Total allocation exceeds 95.00% (906,992,014 bytes) of heap memory\n",
      "Scaling row group sizes to 96.54% for 7 writers\n"
     ]
    },
    {
     "name": "stderr",
     "output_type": "stream",
     "text": [
      "                                                                                \r"
     ]
    }
   ],
   "source": [
    "# Save the preprocessed data\n",
    "transactions_df.write.mode('overwrite').parquet('../data/curated/transactions_detail.parquet')\n",
    "merchant_detail.write.mode('overwrite').parquet('../data/curated/merchant_detail.parquet')"
   ]
  },
  {
   "cell_type": "markdown",
   "id": "1d6631e5",
   "metadata": {},
   "source": [
    "About 350 merchants does not have any transactions in this month, a longer period of data should be considered. "
   ]
  },
  {
   "cell_type": "markdown",
   "id": "9ce96ef9",
   "metadata": {},
   "source": [
    "# 3. Preliminarily check distribution of data"
   ]
  },
  {
   "cell_type": "code",
   "execution_count": 263,
   "id": "b8676207",
   "metadata": {},
   "outputs": [
    {
     "name": "stderr",
     "output_type": "stream",
     "text": [
      "                                                                                \r"
     ]
    },
    {
     "data": {
      "image/png": "[encoded data removed]",
      "text/plain": [
       "<Figure size 432x288 with 1 Axes>"
      ]
     },
     "metadata": {
      "needs_background": "light"
     },
     "output_type": "display_data"
    }
   ],
   "source": [
    "bins, counts = merchant_detail.select('total_income').rdd.flatMap(lambda x: x).histogram(200)\n",
    "plt.hist(bins[:-1], bins=bins, weights=counts)\n",
    "plt.ylabel('Frequency')\n",
    "plt.xlabel('total income (dollar)')\n",
    "plt.title('Histogram graph of total income')\n",
    "plt.savefig('../plots/Histogram graph of total income')\n",
    "plt.show()"
   ]
  },
  {
   "cell_type": "code",
   "execution_count": 264,
   "id": "692e1f26",
   "metadata": {},
   "outputs": [
    {
     "name": "stderr",
     "output_type": "stream",
     "text": [
      "                                                                                \r"
     ]
    },
    {
     "data": {
      "image/png": "[encoded data removed]",
      "text/plain": [
       "<Figure size 432x288 with 1 Axes>"
      ]
     },
     "metadata": {
      "needs_background": "light"
     },
     "output_type": "display_data"
    }
   ],
   "source": [
    "bins, counts = merchant_detail.select('profit').rdd.flatMap(lambda x: x).histogram(200)\n",
    "plt.hist(bins[:-1], bins=bins, weights=counts)\n",
    "plt.ylabel('Frequency')\n",
    "plt.xlabel('profit (dollar)')\n",
    "plt.title('Histogram graph of profit')\n",
    "plt.savefig('../plots/Histogram graph of profit')\n",
    "plt.show()"
   ]
  },
  {
   "cell_type": "code",
   "execution_count": 265,
   "id": "74cef7dd",
   "metadata": {},
   "outputs": [
    {
     "name": "stderr",
     "output_type": "stream",
     "text": [
      "                                                                                \r"
     ]
    },
    {
     "data": {
      "image/png": "[encoded data removed]",
      "text/plain": [
       "<Figure size 432x288 with 1 Axes>"
      ]
     },
     "metadata": {
      "needs_background": "light"
     },
     "output_type": "display_data"
    }
   ],
   "source": [
    "bins, counts = merchant_detail.select('total_transactions').rdd.flatMap(lambda x: x).histogram(200)\n",
    "plt.hist(bins[:-1], bins=bins, weights=counts)\n",
    "plt.ylabel('Frequency')\n",
    "plt.xlabel('transaction frequency')\n",
    "plt.title('Histogram graph of total transactions')\n",
    "plt.savefig('../plots/Histogram graph of total transactions')\n",
    "plt.show()"
   ]
  },
  {
   "cell_type": "code",
   "execution_count": 266,
   "id": "8393fc7a",
   "metadata": {
    "scrolled": true
   },
   "outputs": [
    {
     "name": "stderr",
     "output_type": "stream",
     "text": [
      "                                                                                \r"
     ]
    },
    {
     "data": {
      "image/png": "[encoded data removed]",
      "text/plain": [
       "<Figure size 432x288 with 1 Axes>"
      ]
     },
     "metadata": {
      "needs_background": "light"
     },
     "output_type": "display_data"
    }
   ],
   "source": [
    "bins, counts = merchant_detail.select('mean_transaction_amount').rdd.flatMap(lambda x: x).histogram(200)\n",
    "plt.hist(bins[:-1], bins=bins, weights=counts)\n",
    "plt.ylabel('Frequency')\n",
    "plt.xlabel('mean transaction (dollar)')\n",
    "plt.title('Histogram graph of mean transaction amount')\n",
    "plt.savefig('../plots/Histogram graph of mean transaction amount')\n",
    "plt.show()"
   ]
  },
  {
   "cell_type": "markdown",
   "id": "03fa2c14",
   "metadata": {},
   "source": [
    "There are some extremely large values, outliers elimination and data transformation may be needed."
   ]
  }
 ],
 "metadata": {
  "kernelspec": {
   "display_name": "Python 3 (ipykernel)",
   "language": "python",
   "name": "python3"
  },
  "language_info": {
   "codemirror_mode": {
    "name": "ipython",
    "version": 3
   },
   "file_extension": ".py",
   "mimetype": "text/x-python",
   "name": "python",
   "nbconvert_exporter": "python",
   "pygments_lexer": "ipython3",
   "version": "3.8.10"
  }
 },
 "nbformat": 4,
 "nbformat_minor": 5
}
