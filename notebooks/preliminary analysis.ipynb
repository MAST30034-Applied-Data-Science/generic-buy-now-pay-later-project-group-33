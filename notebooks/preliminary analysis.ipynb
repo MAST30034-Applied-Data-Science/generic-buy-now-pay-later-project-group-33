{
 "cells": [
  {
   "cell_type": "code",
   "execution_count": 24,
   "id": "cbc6ccfc",
   "metadata": {},
   "outputs": [],
   "source": [
    "from pyspark.sql import functions as F\n",
    "from pyspark.sql.functions import *\n",
    "import matplotlib.pyplot as plt\n",
    "import pandas as pd\n",
    "import numpy as np"
   ]
  },
  {
   "cell_type": "code",
   "execution_count": 26,
   "id": "407a3036",
   "metadata": {
    "scrolled": true
   },
   "outputs": [],
   "source": [
    "from pyspark.sql import SparkSession\n",
    "\n",
    "# Create a spark session\n",
    "spark = (\n",
    "    SparkSession.builder.appName(\"MAST30034 Project 2\")\n",
    "    .config(\"spark.sql.repl.eagerEval.enabled\", True) \n",
    "    .config(\"spark.sql.parquet.cacheMetadata\", \"true\")\n",
    "    .getOrCreate()\n",
    ")"
   ]
  },
  {
   "cell_type": "markdown",
   "id": "6abeee62",
   "metadata": {},
   "source": [
    "# 1.Read the data in and check the presence of null value"
   ]
  },
  {
   "cell_type": "code",
   "execution_count": 27,
   "id": "7b4e3b7a",
   "metadata": {},
   "outputs": [],
   "source": [
    "# function used to check the presence of null values.\n",
    "def check_null_value(dataframe):\n",
    "    for columns in dataframe.columns:\n",
    "        print('Number of null value in', columns, ':', dataframe.where(F.col(columns).isNull()).count())\n",
    "    return"
   ]
  },
  {
   "cell_type": "code",
   "execution_count": 28,
   "id": "17c170a0",
   "metadata": {
    "scrolled": true
   },
   "outputs": [
    {
     "name": "stdout",
     "output_type": "stream",
     "text": [
      "Number of null value in user_id : 0\n",
      "Number of null value in consumer_id : 0\n"
     ]
    }
   ],
   "source": [
    "consumer_id = spark.read.parquet('../data/tables/consumer_user_details.parquet')\n",
    "check_null_value(consumer_id)"
   ]
  },
  {
   "cell_type": "code",
   "execution_count": 29,
   "id": "a54adcee",
   "metadata": {
    "scrolled": true
   },
   "outputs": [
    {
     "name": "stdout",
     "output_type": "stream",
     "text": [
      "Number of null value in name : 0\n",
      "Number of null value in address : 0\n",
      "Number of null value in state : 0\n",
      "Number of null value in postcode : 0\n",
      "Number of null value in gender : 0\n",
      "Number of null value in consumer_id : 0\n"
     ]
    }
   ],
   "source": [
    "# Use pandas read consumer csv\n",
    "raw_consumer_df = spark.read.option(\"header\",True).csv('../data/tables/tbl_consumer.csv')\n",
    "check_null_value(raw_consumer_df)"
   ]
  },
  {
   "cell_type": "code",
   "execution_count": 30,
   "id": "69d18a73",
   "metadata": {},
   "outputs": [
    {
     "name": "stdout",
     "output_type": "stream",
     "text": [
      "Number of null value in merchant_name : 0\n",
      "Number of null value in tags : 0\n",
      "Number of null value in merchant_abn : 0\n"
     ]
    }
   ],
   "source": [
    "merchant_df = spark.read.parquet('../data/tables/tbl_merchants.parquet').withColumnRenamed('name','merchant_name')\n",
    "check_null_value(merchant_df)"
   ]
  },
  {
   "cell_type": "code",
   "execution_count": 31,
   "id": "acbbc1c3",
   "metadata": {
    "scrolled": false
   },
   "outputs": [
    {
     "name": "stderr",
     "output_type": "stream",
     "text": [
      "                                                                                \r"
     ]
    },
    {
     "name": "stdout",
     "output_type": "stream",
     "text": [
      "Number of null value in user_id : 0\n"
     ]
    },
    {
     "name": "stderr",
     "output_type": "stream",
     "text": [
      "                                                                                \r"
     ]
    },
    {
     "name": "stdout",
     "output_type": "stream",
     "text": [
      "Number of null value in merchant_abn : 0\n"
     ]
    },
    {
     "name": "stderr",
     "output_type": "stream",
     "text": [
      "                                                                                \r"
     ]
    },
    {
     "name": "stdout",
     "output_type": "stream",
     "text": [
      "Number of null value in dollar_value : 0\n"
     ]
    },
    {
     "name": "stderr",
     "output_type": "stream",
     "text": [
      "[Stage 318:==========================================>            (17 + 5) / 22]\r"
     ]
    },
    {
     "name": "stdout",
     "output_type": "stream",
     "text": [
      "Number of null value in order_id : 0\n"
     ]
    },
    {
     "name": "stderr",
     "output_type": "stream",
     "text": [
      "\r",
      "[Stage 318:==================================================>    (20 + 2) / 22]\r",
      "\r",
      "                                                                                \r"
     ]
    }
   ],
   "source": [
    "path_list = []\n",
    "period1 = pd.date_range('2021-2-28','2021-08-27', freq='D').strftime(\"%Y-%m-%d\").tolist()\n",
    "period2 = pd.date_range('2021-8-28','2022-02-27', freq='D').strftime(\"%Y-%m-%d\").tolist()\n",
    "period3 = pd.date_range('2022-2-28','2022-08-28', freq='D').strftime(\"%Y-%m-%d\").tolist()\n",
    "path_prefix1 = '../data/tables/transactions_20210228_20210827_snapshot/order_datetime='\n",
    "path_prefix2 = '../data/tables/transactions_20210828_20220227_snapshot/order_datetime='\n",
    "path_prefix3 = '../data/tables/transactions_20220228_20220828_snapshot/order_datetime='\n",
    "for date in period1:\n",
    "    path_list.append(path_prefix1 + date)\n",
    "for date in period2:\n",
    "    path_list.append(path_prefix2 + date)\n",
    "for date in period3:\n",
    "    path_list.append(path_prefix3 + date)\n",
    "\n",
    "raw_transactions_df = spark.read.parquet(*path_list)\n",
    "\n",
    "check_null_value(raw_transactions_df)"
   ]
  },
  {
   "cell_type": "markdown",
   "id": "cc4cfa97",
   "metadata": {},
   "source": [
    "#### No null value is found in the raw datasets."
   ]
  },
  {
   "cell_type": "markdown",
   "id": "ca5b798d",
   "metadata": {},
   "source": [
    "# 2. Data aggregation"
   ]
  },
  {
   "cell_type": "markdown",
   "id": "10b3a9c2",
   "metadata": {},
   "source": [
    "First, we aggregate the given consumer, merchant and transactions data, drop the irrelevant features for the ranking system such as consumers' id and name, transactions' order id and merchants' abn."
   ]
  },
  {
   "cell_type": "code",
   "execution_count": 32,
   "id": "92362397",
   "metadata": {},
   "outputs": [],
   "source": [
    "consumer_df =  consumer_id.join(raw_consumer_df, consumer_id.consumer_id == raw_consumer_df.consumer_id, 'inner')\\\n",
    "                            .withColumnRenamed('name','consumer_name')\\\n",
    "                            .withColumnRenamed('address','consumer_address')"
   ]
  },
  {
   "cell_type": "markdown",
   "id": "3f834336",
   "metadata": {},
   "source": [
    "Get the take rate of each merchant."
   ]
  },
  {
   "cell_type": "code",
   "execution_count": 33,
   "id": "92301d25",
   "metadata": {},
   "outputs": [],
   "source": [
    "merchant_df = merchant_df.withColumn('tags_string', split(merchant_df['tags'], ':'))\\\n",
    "                         .withColumn('rate_string', element_at(col('tags_string'), -1))\\\n",
    "                         .withColumn('rate_substring', substring('rate_string', 1, 5))\\\n",
    "                         .withColumn('take_rate', col('rate_substring').cast('double'))\\\n",
    "                         .drop('rate_string', 'rate_substring', 'tags_string')"
   ]
  },
  {
   "cell_type": "code",
   "execution_count": 34,
   "id": "7b6163b1",
   "metadata": {},
   "outputs": [],
   "source": [
    "transactions_df = raw_transactions_df.join(merchant_df, raw_transactions_df.merchant_abn == merchant_df.merchant_abn, 'inner')\\\n",
    "                           .join(consumer_df, raw_transactions_df.user_id == consumer_df.user_id, 'inner')\\\n",
    "                           .drop('merchant_abn', 'order_id', 'user_id', 'consumer_id', 'consumer_name')"
   ]
  },
  {
   "cell_type": "code",
   "execution_count": 35,
   "id": "230d9dc5",
   "metadata": {
    "scrolled": true
   },
   "outputs": [
    {
     "name": "stderr",
     "output_type": "stream",
     "text": [
      "                                                                                \r"
     ]
    },
    {
     "data": {
      "text/plain": [
       "(12561377, 12047317)"
      ]
     },
     "execution_count": 35,
     "metadata": {},
     "output_type": "execute_result"
    }
   ],
   "source": [
    "raw_transactions_df.count(), transactions_df.count()"
   ]
  },
  {
   "cell_type": "markdown",
   "id": "96e7a0e4",
   "metadata": {},
   "source": [
    "Since some merchant abns from the transaction data do not match with any merchant from the merchant, we should remove them by inner join with the merchant dataset. About  5% of data are eliminated."
   ]
  },
  {
   "cell_type": "code",
   "execution_count": 47,
   "id": "fcf6d683",
   "metadata": {
    "scrolled": true
   },
   "outputs": [
    {
     "name": "stderr",
     "output_type": "stream",
     "text": [
      "                                                                                \r"
     ]
    },
    {
     "data": {
      "text/html": [
       "<table border='1'>\n",
       "<tr><th>dollar_value</th><th>merchant_name</th><th>tags</th><th>take_rate</th><th>consumer_address</th><th>state</th><th>postcode</th><th>gender</th></tr>\n",
       "<tr><td>226.70111326425848</td><td>Orci Ltd</td><td>[(digital goods: ...</td><td>2.19</td><td>122 Brandon Cliff</td><td>QLD</td><td>4606</td><td>Female</td></tr>\n",
       "<tr><td>746.641542887258</td><td>Metus Aenean Indu...</td><td>[[music shops - m...</td><td>3.21</td><td>122 Brandon Cliff</td><td>QLD</td><td>4606</td><td>Female</td></tr>\n",
       "<tr><td>28.69248621050033</td><td>Praesent Eu Assoc...</td><td>([tent and awning...</td><td>2.5</td><td>122 Brandon Cliff</td><td>QLD</td><td>4606</td><td>Female</td></tr>\n",
       "<tr><td>1477.9174337803072</td><td>Nam Ligula Elit F...</td><td>([lawn and garden...</td><td>3.58</td><td>122 Brandon Cliff</td><td>QLD</td><td>4606</td><td>Female</td></tr>\n",
       "<tr><td>93.96901941736229</td><td>Nec Ante Ltd</td><td>((cable, satellit...</td><td>5.61</td><td>122 Brandon Cliff</td><td>QLD</td><td>4606</td><td>Female</td></tr>\n",
       "<tr><td>13.923908403587916</td><td>Donec Sollicitudi...</td><td>[[watch, clock, a...</td><td>5.93</td><td>122 Brandon Cliff</td><td>QLD</td><td>4606</td><td>Female</td></tr>\n",
       "<tr><td>92.43454448910457</td><td>Nullam Enim Ltd</td><td>([computers, comp...</td><td>3.22</td><td>122 Brandon Cliff</td><td>QLD</td><td>4606</td><td>Female</td></tr>\n",
       "<tr><td>96.08515812536056</td><td>Dictum Phasellus ...</td><td>[(gift, card, nov...</td><td>5.65</td><td>122 Brandon Cliff</td><td>QLD</td><td>4606</td><td>Female</td></tr>\n",
       "<tr><td>24.606053328805864</td><td>Ac Institute</td><td>([watcH, clock, a...</td><td>2.62</td><td>122 Brandon Cliff</td><td>QLD</td><td>4606</td><td>Female</td></tr>\n",
       "<tr><td>29.06062645242927</td><td>Erat Vitae LLP</td><td>[(florists suppli...</td><td>2.94</td><td>122 Brandon Cliff</td><td>QLD</td><td>4606</td><td>Female</td></tr>\n",
       "</table>\n"
      ],
      "text/plain": [
       "+------------------+--------------------+--------------------+---------+-----------------+-----+--------+------+\n",
       "|      dollar_value|       merchant_name|                tags|take_rate| consumer_address|state|postcode|gender|\n",
       "+------------------+--------------------+--------------------+---------+-----------------+-----+--------+------+\n",
       "|226.70111326425848|            Orci Ltd|[(digital goods: ...|     2.19|122 Brandon Cliff|  QLD|    4606|Female|\n",
       "|  746.641542887258|Metus Aenean Indu...|[[music shops - m...|     3.21|122 Brandon Cliff|  QLD|    4606|Female|\n",
       "| 28.69248621050033|Praesent Eu Assoc...|([tent and awning...|      2.5|122 Brandon Cliff|  QLD|    4606|Female|\n",
       "|1477.9174337803072|Nam Ligula Elit F...|([lawn and garden...|     3.58|122 Brandon Cliff|  QLD|    4606|Female|\n",
       "| 93.96901941736229|        Nec Ante Ltd|((cable, satellit...|     5.61|122 Brandon Cliff|  QLD|    4606|Female|\n",
       "|13.923908403587916|Donec Sollicitudi...|[[watch, clock, a...|     5.93|122 Brandon Cliff|  QLD|    4606|Female|\n",
       "| 92.43454448910457|     Nullam Enim Ltd|([computers, comp...|     3.22|122 Brandon Cliff|  QLD|    4606|Female|\n",
       "| 96.08515812536056|Dictum Phasellus ...|[(gift, card, nov...|     5.65|122 Brandon Cliff|  QLD|    4606|Female|\n",
       "|24.606053328805864|        Ac Institute|([watcH, clock, a...|     2.62|122 Brandon Cliff|  QLD|    4606|Female|\n",
       "| 29.06062645242927|      Erat Vitae LLP|[(florists suppli...|     2.94|122 Brandon Cliff|  QLD|    4606|Female|\n",
       "+------------------+--------------------+--------------------+---------+-----------------+-----+--------+------+"
      ]
     },
     "execution_count": 47,
     "metadata": {},
     "output_type": "execute_result"
    }
   ],
   "source": [
    "transactions_df.limit(10)"
   ]
  },
  {
   "cell_type": "markdown",
   "id": "f11eeae9",
   "metadata": {},
   "source": [
    "We compute the total income, the number of transactions, the mean transaction amount and the profit for each merchant for the preliminary analysis."
   ]
  },
  {
   "cell_type": "code",
   "execution_count": 50,
   "id": "43876e2a",
   "metadata": {},
   "outputs": [],
   "source": [
    "merchant_detail = transactions_df.groupBy('merchant_name', 'tags', 'take_rate')\\\n",
    "                  .agg(\n",
    "                       F.round(F.sum('dollar_value'),2).alias('total_income'),\n",
    "                       F.count('merchant_name').alias('total_transactions'), )\\\n",
    "                  .withColumn('mean_transaction_amount',  F.round(F.col('total_income')/F.col('total_transactions')))\\\n",
    "                  .withColumn('monthly_profit',  F.round(F.col('total_income')*F.col('take_rate')/100/18))\\\n",
    "                  .orderBy('monthly_profit', ascending = False)"
   ]
  },
  {
   "cell_type": "code",
   "execution_count": 51,
   "id": "fc37e4be",
   "metadata": {
    "scrolled": false
   },
   "outputs": [
    {
     "name": "stderr",
     "output_type": "stream",
     "text": [
      "                                                                                \r"
     ]
    },
    {
     "data": {
      "text/html": [
       "<div>\n",
       "<style scoped>\n",
       "    .dataframe tbody tr th:only-of-type {\n",
       "        vertical-align: middle;\n",
       "    }\n",
       "\n",
       "    .dataframe tbody tr th {\n",
       "        vertical-align: top;\n",
       "    }\n",
       "\n",
       "    .dataframe thead th {\n",
       "        text-align: right;\n",
       "    }\n",
       "</style>\n",
       "<table border=\"1\" class=\"dataframe\">\n",
       "  <thead>\n",
       "    <tr style=\"text-align: right;\">\n",
       "      <th></th>\n",
       "      <th>merchant_name</th>\n",
       "      <th>tags</th>\n",
       "      <th>take_rate</th>\n",
       "      <th>total_income</th>\n",
       "      <th>total_transactions</th>\n",
       "      <th>mean_transaction_amount</th>\n",
       "      <th>monthly_profit</th>\n",
       "    </tr>\n",
       "  </thead>\n",
       "  <tbody>\n",
       "    <tr>\n",
       "      <th>0</th>\n",
       "      <td>Amet Risus Inc.</td>\n",
       "      <td>([furniture, home furnishings and equipment sh...</td>\n",
       "      <td>6.82</td>\n",
       "      <td>8657277.10</td>\n",
       "      <td>4251</td>\n",
       "      <td>2037.0</td>\n",
       "      <td>32801.0</td>\n",
       "    </tr>\n",
       "    <tr>\n",
       "      <th>1</th>\n",
       "      <td>Dignissim Maecenas Foundation</td>\n",
       "      <td>[[opticians, oPtical goods, and eyeglasses], [...</td>\n",
       "      <td>6.64</td>\n",
       "      <td>8316735.67</td>\n",
       "      <td>58685</td>\n",
       "      <td>142.0</td>\n",
       "      <td>30680.0</td>\n",
       "    </tr>\n",
       "    <tr>\n",
       "      <th>2</th>\n",
       "      <td>Orci In Consequat Corporation</td>\n",
       "      <td>([gift, card, novelty, and souvenir shops], [a...</td>\n",
       "      <td>6.61</td>\n",
       "      <td>8339994.52</td>\n",
       "      <td>75853</td>\n",
       "      <td>110.0</td>\n",
       "      <td>30626.0</td>\n",
       "    </tr>\n",
       "    <tr>\n",
       "      <th>3</th>\n",
       "      <td>Leo In Consulting</td>\n",
       "      <td>[[watch, clock, and jewelry repair shops], [a]...</td>\n",
       "      <td>6.43</td>\n",
       "      <td>8443178.70</td>\n",
       "      <td>241336</td>\n",
       "      <td>35.0</td>\n",
       "      <td>30161.0</td>\n",
       "    </tr>\n",
       "    <tr>\n",
       "      <th>4</th>\n",
       "      <td>Etiam Bibendum Industries</td>\n",
       "      <td>[(tent and awning shops), (a), (take rate: 6.31)]</td>\n",
       "      <td>6.31</td>\n",
       "      <td>8482176.66</td>\n",
       "      <td>6341</td>\n",
       "      <td>1338.0</td>\n",
       "      <td>29735.0</td>\n",
       "    </tr>\n",
       "    <tr>\n",
       "      <th>...</th>\n",
       "      <td>...</td>\n",
       "      <td>...</td>\n",
       "      <td>...</td>\n",
       "      <td>...</td>\n",
       "      <td>...</td>\n",
       "      <td>...</td>\n",
       "      <td>...</td>\n",
       "    </tr>\n",
       "    <tr>\n",
       "      <th>4021</th>\n",
       "      <td>Feugiat Nec Diam LLC</td>\n",
       "      <td>([computers, computer peripheral equipment, an...</td>\n",
       "      <td>0.30</td>\n",
       "      <td>18710.78</td>\n",
       "      <td>703</td>\n",
       "      <td>27.0</td>\n",
       "      <td>3.0</td>\n",
       "    </tr>\n",
       "    <tr>\n",
       "      <th>4022</th>\n",
       "      <td>Proin Vel Inc.</td>\n",
       "      <td>[[stationery, office supplies and printing and...</td>\n",
       "      <td>0.16</td>\n",
       "      <td>21967.78</td>\n",
       "      <td>31</td>\n",
       "      <td>709.0</td>\n",
       "      <td>2.0</td>\n",
       "    </tr>\n",
       "    <tr>\n",
       "      <th>4023</th>\n",
       "      <td>Hendrerit Donec Limited</td>\n",
       "      <td>[(digital goods: books, movies, music), (e), (...</td>\n",
       "      <td>0.18</td>\n",
       "      <td>20034.94</td>\n",
       "      <td>590</td>\n",
       "      <td>34.0</td>\n",
       "      <td>2.0</td>\n",
       "    </tr>\n",
       "    <tr>\n",
       "      <th>4024</th>\n",
       "      <td>Turpis Incorporated</td>\n",
       "      <td>[[gift, card, novelty, and souvenir shops], [e...</td>\n",
       "      <td>0.23</td>\n",
       "      <td>16159.06</td>\n",
       "      <td>156</td>\n",
       "      <td>104.0</td>\n",
       "      <td>2.0</td>\n",
       "    </tr>\n",
       "    <tr>\n",
       "      <th>4025</th>\n",
       "      <td>Lacus LLP</td>\n",
       "      <td>[(books, periodicals, and newspapers), (e), (t...</td>\n",
       "      <td>0.10</td>\n",
       "      <td>9882.35</td>\n",
       "      <td>26</td>\n",
       "      <td>380.0</td>\n",
       "      <td>1.0</td>\n",
       "    </tr>\n",
       "  </tbody>\n",
       "</table>\n",
       "<p>4026 rows × 7 columns</p>\n",
       "</div>"
      ],
      "text/plain": [
       "                      merchant_name  \\\n",
       "0                   Amet Risus Inc.   \n",
       "1     Dignissim Maecenas Foundation   \n",
       "2     Orci In Consequat Corporation   \n",
       "3                 Leo In Consulting   \n",
       "4         Etiam Bibendum Industries   \n",
       "...                             ...   \n",
       "4021           Feugiat Nec Diam LLC   \n",
       "4022                 Proin Vel Inc.   \n",
       "4023        Hendrerit Donec Limited   \n",
       "4024            Turpis Incorporated   \n",
       "4025                      Lacus LLP   \n",
       "\n",
       "                                                   tags  take_rate  \\\n",
       "0     ([furniture, home furnishings and equipment sh...       6.82   \n",
       "1     [[opticians, oPtical goods, and eyeglasses], [...       6.64   \n",
       "2     ([gift, card, novelty, and souvenir shops], [a...       6.61   \n",
       "3     [[watch, clock, and jewelry repair shops], [a]...       6.43   \n",
       "4     [(tent and awning shops), (a), (take rate: 6.31)]       6.31   \n",
       "...                                                 ...        ...   \n",
       "4021  ([computers, computer peripheral equipment, an...       0.30   \n",
       "4022  [[stationery, office supplies and printing and...       0.16   \n",
       "4023  [(digital goods: books, movies, music), (e), (...       0.18   \n",
       "4024  [[gift, card, novelty, and souvenir shops], [e...       0.23   \n",
       "4025  [(books, periodicals, and newspapers), (e), (t...       0.10   \n",
       "\n",
       "      total_income  total_transactions  mean_transaction_amount  \\\n",
       "0       8657277.10                4251                   2037.0   \n",
       "1       8316735.67               58685                    142.0   \n",
       "2       8339994.52               75853                    110.0   \n",
       "3       8443178.70              241336                     35.0   \n",
       "4       8482176.66                6341                   1338.0   \n",
       "...            ...                 ...                      ...   \n",
       "4021      18710.78                 703                     27.0   \n",
       "4022      21967.78                  31                    709.0   \n",
       "4023      20034.94                 590                     34.0   \n",
       "4024      16159.06                 156                    104.0   \n",
       "4025       9882.35                  26                    380.0   \n",
       "\n",
       "      monthly_profit  \n",
       "0            32801.0  \n",
       "1            30680.0  \n",
       "2            30626.0  \n",
       "3            30161.0  \n",
       "4            29735.0  \n",
       "...              ...  \n",
       "4021             3.0  \n",
       "4022             2.0  \n",
       "4023             2.0  \n",
       "4024             2.0  \n",
       "4025             1.0  \n",
       "\n",
       "[4026 rows x 7 columns]"
      ]
     },
     "execution_count": 51,
     "metadata": {},
     "output_type": "execute_result"
    }
   ],
   "source": [
    "merchant_detail.toPandas()"
   ]
  },
  {
   "cell_type": "code",
   "execution_count": 52,
   "id": "9f5bc2c9",
   "metadata": {
    "scrolled": true
   },
   "outputs": [
    {
     "name": "stderr",
     "output_type": "stream",
     "text": [
      "                                                                                \r"
     ]
    },
    {
     "data": {
      "text/html": [
       "<div>\n",
       "<style scoped>\n",
       "    .dataframe tbody tr th:only-of-type {\n",
       "        vertical-align: middle;\n",
       "    }\n",
       "\n",
       "    .dataframe tbody tr th {\n",
       "        vertical-align: top;\n",
       "    }\n",
       "\n",
       "    .dataframe thead th {\n",
       "        text-align: right;\n",
       "    }\n",
       "</style>\n",
       "<table border=\"1\" class=\"dataframe\">\n",
       "  <thead>\n",
       "    <tr style=\"text-align: right;\">\n",
       "      <th></th>\n",
       "      <th>merchant_name</th>\n",
       "      <th>tags</th>\n",
       "      <th>take_rate</th>\n",
       "      <th>total_income</th>\n",
       "      <th>total_transactions</th>\n",
       "      <th>mean_transaction_amount</th>\n",
       "      <th>monthly_profit</th>\n",
       "    </tr>\n",
       "  </thead>\n",
       "  <tbody>\n",
       "    <tr>\n",
       "      <th>0</th>\n",
       "      <td>Erat Vitae LLP</td>\n",
       "      <td>[(florists supplies, nursery stock, and floWer...</td>\n",
       "      <td>2.94</td>\n",
       "      <td>7694482.39</td>\n",
       "      <td>256062</td>\n",
       "      <td>30.0</td>\n",
       "      <td>12568.0</td>\n",
       "    </tr>\n",
       "    <tr>\n",
       "      <th>1</th>\n",
       "      <td>Leo In Consulting</td>\n",
       "      <td>[[watch, clock, and jewelry repair shops], [a]...</td>\n",
       "      <td>6.43</td>\n",
       "      <td>8443178.70</td>\n",
       "      <td>241336</td>\n",
       "      <td>35.0</td>\n",
       "      <td>30161.0</td>\n",
       "    </tr>\n",
       "    <tr>\n",
       "      <th>2</th>\n",
       "      <td>Pede Nonummy Corp.</td>\n",
       "      <td>((tent and awning shops), (c), (take rate: 2.86))</td>\n",
       "      <td>2.86</td>\n",
       "      <td>6679660.18</td>\n",
       "      <td>230845</td>\n",
       "      <td>29.0</td>\n",
       "      <td>10613.0</td>\n",
       "    </tr>\n",
       "    <tr>\n",
       "      <th>3</th>\n",
       "      <td>Non Vestibulum Industries</td>\n",
       "      <td>((teNt and awning shops), (a), (take rate: 5.80))</td>\n",
       "      <td>5.80</td>\n",
       "      <td>6341522.13</td>\n",
       "      <td>218852</td>\n",
       "      <td>29.0</td>\n",
       "      <td>20434.0</td>\n",
       "    </tr>\n",
       "    <tr>\n",
       "      <th>4</th>\n",
       "      <td>Suspendisse Dui Corporation</td>\n",
       "      <td>((opticians, optical goods, and eyeglasses), (...</td>\n",
       "      <td>2.93</td>\n",
       "      <td>6221893.45</td>\n",
       "      <td>207410</td>\n",
       "      <td>30.0</td>\n",
       "      <td>10128.0</td>\n",
       "    </tr>\n",
       "    <tr>\n",
       "      <th>...</th>\n",
       "      <td>...</td>\n",
       "      <td>...</td>\n",
       "      <td>...</td>\n",
       "      <td>...</td>\n",
       "      <td>...</td>\n",
       "      <td>...</td>\n",
       "      <td>...</td>\n",
       "    </tr>\n",
       "    <tr>\n",
       "      <th>4021</th>\n",
       "      <td>Tempor Augue Ac Company</td>\n",
       "      <td>[(jewelry, watch, clock, and silverware shops)...</td>\n",
       "      <td>2.18</td>\n",
       "      <td>2429.91</td>\n",
       "      <td>1</td>\n",
       "      <td>2430.0</td>\n",
       "      <td>3.0</td>\n",
       "    </tr>\n",
       "    <tr>\n",
       "      <th>4022</th>\n",
       "      <td>Egestas Nunc Sed LLC</td>\n",
       "      <td>[[antique shops - sales, repairs, and restorat...</td>\n",
       "      <td>4.93</td>\n",
       "      <td>22835.12</td>\n",
       "      <td>1</td>\n",
       "      <td>22835.0</td>\n",
       "      <td>63.0</td>\n",
       "    </tr>\n",
       "    <tr>\n",
       "      <th>4023</th>\n",
       "      <td>Phasellus LLP</td>\n",
       "      <td>[(antique shops - sales, repairs, and resToraT...</td>\n",
       "      <td>3.28</td>\n",
       "      <td>36950.79</td>\n",
       "      <td>1</td>\n",
       "      <td>36951.0</td>\n",
       "      <td>67.0</td>\n",
       "    </tr>\n",
       "    <tr>\n",
       "      <th>4024</th>\n",
       "      <td>Aliquam Eu Institute</td>\n",
       "      <td>[[anTique shops - sales, repairs, and restorat...</td>\n",
       "      <td>6.99</td>\n",
       "      <td>38089.94</td>\n",
       "      <td>1</td>\n",
       "      <td>38090.0</td>\n",
       "      <td>148.0</td>\n",
       "    </tr>\n",
       "    <tr>\n",
       "      <th>4025</th>\n",
       "      <td>Consectetuer Industries</td>\n",
       "      <td>([jewelry, watch, clock, and silverware shops]...</td>\n",
       "      <td>4.04</td>\n",
       "      <td>16065.15</td>\n",
       "      <td>1</td>\n",
       "      <td>16065.0</td>\n",
       "      <td>36.0</td>\n",
       "    </tr>\n",
       "  </tbody>\n",
       "</table>\n",
       "<p>4026 rows × 7 columns</p>\n",
       "</div>"
      ],
      "text/plain": [
       "                    merchant_name  \\\n",
       "0                  Erat Vitae LLP   \n",
       "1               Leo In Consulting   \n",
       "2              Pede Nonummy Corp.   \n",
       "3       Non Vestibulum Industries   \n",
       "4     Suspendisse Dui Corporation   \n",
       "...                           ...   \n",
       "4021      Tempor Augue Ac Company   \n",
       "4022         Egestas Nunc Sed LLC   \n",
       "4023                Phasellus LLP   \n",
       "4024         Aliquam Eu Institute   \n",
       "4025      Consectetuer Industries   \n",
       "\n",
       "                                                   tags  take_rate  \\\n",
       "0     [(florists supplies, nursery stock, and floWer...       2.94   \n",
       "1     [[watch, clock, and jewelry repair shops], [a]...       6.43   \n",
       "2     ((tent and awning shops), (c), (take rate: 2.86))       2.86   \n",
       "3     ((teNt and awning shops), (a), (take rate: 5.80))       5.80   \n",
       "4     ((opticians, optical goods, and eyeglasses), (...       2.93   \n",
       "...                                                 ...        ...   \n",
       "4021  [(jewelry, watch, clock, and silverware shops)...       2.18   \n",
       "4022  [[antique shops - sales, repairs, and restorat...       4.93   \n",
       "4023  [(antique shops - sales, repairs, and resToraT...       3.28   \n",
       "4024  [[anTique shops - sales, repairs, and restorat...       6.99   \n",
       "4025  ([jewelry, watch, clock, and silverware shops]...       4.04   \n",
       "\n",
       "      total_income  total_transactions  mean_transaction_amount  \\\n",
       "0       7694482.39              256062                     30.0   \n",
       "1       8443178.70              241336                     35.0   \n",
       "2       6679660.18              230845                     29.0   \n",
       "3       6341522.13              218852                     29.0   \n",
       "4       6221893.45              207410                     30.0   \n",
       "...            ...                 ...                      ...   \n",
       "4021       2429.91                   1                   2430.0   \n",
       "4022      22835.12                   1                  22835.0   \n",
       "4023      36950.79                   1                  36951.0   \n",
       "4024      38089.94                   1                  38090.0   \n",
       "4025      16065.15                   1                  16065.0   \n",
       "\n",
       "      monthly_profit  \n",
       "0            12568.0  \n",
       "1            30161.0  \n",
       "2            10613.0  \n",
       "3            20434.0  \n",
       "4            10128.0  \n",
       "...              ...  \n",
       "4021             3.0  \n",
       "4022            63.0  \n",
       "4023            67.0  \n",
       "4024           148.0  \n",
       "4025            36.0  \n",
       "\n",
       "[4026 rows x 7 columns]"
      ]
     },
     "execution_count": 52,
     "metadata": {},
     "output_type": "execute_result"
    }
   ],
   "source": [
    "merchant_detail.orderBy('total_transactions', ascending = False).toPandas()"
   ]
  },
  {
   "cell_type": "code",
   "execution_count": 53,
   "id": "c837c0b2",
   "metadata": {},
   "outputs": [
    {
     "name": "stderr",
     "output_type": "stream",
     "text": [
      "                                                                                \r"
     ]
    },
    {
     "data": {
      "text/html": [
       "<div>\n",
       "<style scoped>\n",
       "    .dataframe tbody tr th:only-of-type {\n",
       "        vertical-align: middle;\n",
       "    }\n",
       "\n",
       "    .dataframe tbody tr th {\n",
       "        vertical-align: top;\n",
       "    }\n",
       "\n",
       "    .dataframe thead th {\n",
       "        text-align: right;\n",
       "    }\n",
       "</style>\n",
       "<table border=\"1\" class=\"dataframe\">\n",
       "  <thead>\n",
       "    <tr style=\"text-align: right;\">\n",
       "      <th></th>\n",
       "      <th>merchant_name</th>\n",
       "      <th>tags</th>\n",
       "      <th>take_rate</th>\n",
       "      <th>total_income</th>\n",
       "      <th>total_transactions</th>\n",
       "      <th>mean_transaction_amount</th>\n",
       "      <th>monthly_profit</th>\n",
       "    </tr>\n",
       "  </thead>\n",
       "  <tbody>\n",
       "    <tr>\n",
       "      <th>0</th>\n",
       "      <td>Elit Dictum Eu Foundation</td>\n",
       "      <td>((art dealers and galleries), (a), (take rate:...</td>\n",
       "      <td>6.40</td>\n",
       "      <td>51876.64</td>\n",
       "      <td>1</td>\n",
       "      <td>51877.0</td>\n",
       "      <td>184.0</td>\n",
       "    </tr>\n",
       "    <tr>\n",
       "      <th>1</th>\n",
       "      <td>Aenean Gravida Institute</td>\n",
       "      <td>((antique shops - sales, repairs, and restorat...</td>\n",
       "      <td>1.54</td>\n",
       "      <td>40896.26</td>\n",
       "      <td>1</td>\n",
       "      <td>40896.0</td>\n",
       "      <td>35.0</td>\n",
       "    </tr>\n",
       "    <tr>\n",
       "      <th>2</th>\n",
       "      <td>Aliquam Eu Institute</td>\n",
       "      <td>[[anTique shops - sales, repairs, and restorat...</td>\n",
       "      <td>6.99</td>\n",
       "      <td>38089.94</td>\n",
       "      <td>1</td>\n",
       "      <td>38090.0</td>\n",
       "      <td>148.0</td>\n",
       "    </tr>\n",
       "    <tr>\n",
       "      <th>3</th>\n",
       "      <td>Phasellus LLP</td>\n",
       "      <td>[(antique shops - sales, repairs, and resToraT...</td>\n",
       "      <td>3.28</td>\n",
       "      <td>36950.79</td>\n",
       "      <td>1</td>\n",
       "      <td>36951.0</td>\n",
       "      <td>67.0</td>\n",
       "    </tr>\n",
       "    <tr>\n",
       "      <th>4</th>\n",
       "      <td>Dictum Mi Corporation</td>\n",
       "      <td>[(antique shops - sales, repairs, and restorat...</td>\n",
       "      <td>3.00</td>\n",
       "      <td>53473.35</td>\n",
       "      <td>2</td>\n",
       "      <td>26737.0</td>\n",
       "      <td>89.0</td>\n",
       "    </tr>\n",
       "    <tr>\n",
       "      <th>...</th>\n",
       "      <td>...</td>\n",
       "      <td>...</td>\n",
       "      <td>...</td>\n",
       "      <td>...</td>\n",
       "      <td>...</td>\n",
       "      <td>...</td>\n",
       "      <td>...</td>\n",
       "    </tr>\n",
       "    <tr>\n",
       "      <th>4021</th>\n",
       "      <td>Urna Nullam Lobortis Institute</td>\n",
       "      <td>((tent and awning shops), (b), (take rate: 3.48))</td>\n",
       "      <td>3.48</td>\n",
       "      <td>15488.95</td>\n",
       "      <td>1123</td>\n",
       "      <td>14.0</td>\n",
       "      <td>30.0</td>\n",
       "    </tr>\n",
       "    <tr>\n",
       "      <th>4022</th>\n",
       "      <td>Malesuada Fringilla Est Institute</td>\n",
       "      <td>[(tent and  Awning shops), (a), (take rate: 5....</td>\n",
       "      <td>5.96</td>\n",
       "      <td>21729.71</td>\n",
       "      <td>1655</td>\n",
       "      <td>13.0</td>\n",
       "      <td>72.0</td>\n",
       "    </tr>\n",
       "    <tr>\n",
       "      <th>4023</th>\n",
       "      <td>Egestas Rhoncus Proin Inc.</td>\n",
       "      <td>[(tEnt and awning shops), (b), (take rate: 4.08)]</td>\n",
       "      <td>4.08</td>\n",
       "      <td>131765.63</td>\n",
       "      <td>9842</td>\n",
       "      <td>13.0</td>\n",
       "      <td>299.0</td>\n",
       "    </tr>\n",
       "    <tr>\n",
       "      <th>4024</th>\n",
       "      <td>Eros Limited</td>\n",
       "      <td>[[digital goods: books, movies, music], [c], [...</td>\n",
       "      <td>2.52</td>\n",
       "      <td>544031.81</td>\n",
       "      <td>48290</td>\n",
       "      <td>11.0</td>\n",
       "      <td>762.0</td>\n",
       "    </tr>\n",
       "    <tr>\n",
       "      <th>4025</th>\n",
       "      <td>Curabitur Dictum Phasellus LLC</td>\n",
       "      <td>[[gift, card, novelty, and souvenir shops], [c...</td>\n",
       "      <td>2.26</td>\n",
       "      <td>21103.87</td>\n",
       "      <td>2789</td>\n",
       "      <td>8.0</td>\n",
       "      <td>26.0</td>\n",
       "    </tr>\n",
       "  </tbody>\n",
       "</table>\n",
       "<p>4026 rows × 7 columns</p>\n",
       "</div>"
      ],
      "text/plain": [
       "                          merchant_name  \\\n",
       "0             Elit Dictum Eu Foundation   \n",
       "1              Aenean Gravida Institute   \n",
       "2                  Aliquam Eu Institute   \n",
       "3                         Phasellus LLP   \n",
       "4                 Dictum Mi Corporation   \n",
       "...                                 ...   \n",
       "4021     Urna Nullam Lobortis Institute   \n",
       "4022  Malesuada Fringilla Est Institute   \n",
       "4023         Egestas Rhoncus Proin Inc.   \n",
       "4024                       Eros Limited   \n",
       "4025     Curabitur Dictum Phasellus LLC   \n",
       "\n",
       "                                                   tags  take_rate  \\\n",
       "0     ((art dealers and galleries), (a), (take rate:...       6.40   \n",
       "1     ((antique shops - sales, repairs, and restorat...       1.54   \n",
       "2     [[anTique shops - sales, repairs, and restorat...       6.99   \n",
       "3     [(antique shops - sales, repairs, and resToraT...       3.28   \n",
       "4     [(antique shops - sales, repairs, and restorat...       3.00   \n",
       "...                                                 ...        ...   \n",
       "4021  ((tent and awning shops), (b), (take rate: 3.48))       3.48   \n",
       "4022  [(tent and  Awning shops), (a), (take rate: 5....       5.96   \n",
       "4023  [(tEnt and awning shops), (b), (take rate: 4.08)]       4.08   \n",
       "4024  [[digital goods: books, movies, music], [c], [...       2.52   \n",
       "4025  [[gift, card, novelty, and souvenir shops], [c...       2.26   \n",
       "\n",
       "      total_income  total_transactions  mean_transaction_amount  \\\n",
       "0         51876.64                   1                  51877.0   \n",
       "1         40896.26                   1                  40896.0   \n",
       "2         38089.94                   1                  38090.0   \n",
       "3         36950.79                   1                  36951.0   \n",
       "4         53473.35                   2                  26737.0   \n",
       "...            ...                 ...                      ...   \n",
       "4021      15488.95                1123                     14.0   \n",
       "4022      21729.71                1655                     13.0   \n",
       "4023     131765.63                9842                     13.0   \n",
       "4024     544031.81               48290                     11.0   \n",
       "4025      21103.87                2789                      8.0   \n",
       "\n",
       "      monthly_profit  \n",
       "0              184.0  \n",
       "1               35.0  \n",
       "2              148.0  \n",
       "3               67.0  \n",
       "4               89.0  \n",
       "...              ...  \n",
       "4021            30.0  \n",
       "4022            72.0  \n",
       "4023           299.0  \n",
       "4024           762.0  \n",
       "4025            26.0  \n",
       "\n",
       "[4026 rows x 7 columns]"
      ]
     },
     "execution_count": 53,
     "metadata": {},
     "output_type": "execute_result"
    }
   ],
   "source": [
    "merchant_detail.orderBy('mean_transaction_amount', ascending = False).toPandas()"
   ]
  },
  {
   "cell_type": "code",
   "execution_count": 54,
   "id": "e3570cbf",
   "metadata": {},
   "outputs": [
    {
     "name": "stderr",
     "output_type": "stream",
     "text": [
      "                                                                                \r"
     ]
    },
    {
     "data": {
      "text/plain": [
       "(4026, 4026)"
      ]
     },
     "execution_count": 54,
     "metadata": {},
     "output_type": "execute_result"
    }
   ],
   "source": [
    "merchant_detail.count(), merchant_df.count()"
   ]
  },
  {
   "cell_type": "code",
   "execution_count": 55,
   "id": "d75573b7",
   "metadata": {},
   "outputs": [
    {
     "name": "stderr",
     "output_type": "stream",
     "text": [
      "[Stage 660:>                                                       (0 + 8) / 11]\r"
     ]
    },
    {
     "name": "stdout",
     "output_type": "stream",
     "text": [
      "22/09/11 20:23:42 WARN MemoryManager: Total allocation exceeds 95.00% (906,992,014 bytes) of heap memory\n",
      "Scaling row group sizes to 96.54% for 7 writers\n",
      "22/09/11 20:23:42 WARN MemoryManager: Total allocation exceeds 95.00% (906,992,014 bytes) of heap memory\n",
      "Scaling row group sizes to 84.47% for 8 writers\n",
      "22/09/11 20:23:58 WARN MemoryManager: Total allocation exceeds 95.00% (906,992,014 bytes) of heap memory\n",
      "Scaling row group sizes to 96.54% for 7 writers\n"
     ]
    },
    {
     "name": "stderr",
     "output_type": "stream",
     "text": [
      "[Stage 660:==========>                                             (2 + 8) / 11]\r"
     ]
    },
    {
     "name": "stdout",
     "output_type": "stream",
     "text": [
      "22/09/11 20:23:59 WARN MemoryManager: Total allocation exceeds 95.00% (906,992,014 bytes) of heap memory\n",
      "Scaling row group sizes to 96.54% for 7 writers\n"
     ]
    },
    {
     "name": "stderr",
     "output_type": "stream",
     "text": [
      "                                                                                \r"
     ]
    }
   ],
   "source": [
    "# Save the preprocessed data\n",
    "transactions_df.write.mode('overwrite').parquet('../data/curated/transactions_detail.parquet')\n",
    "merchant_detail.write.mode('overwrite').parquet('../data/curated/merchant_detail.parquet')"
   ]
  },
  {
   "cell_type": "markdown",
   "id": "9ce96ef9",
   "metadata": {},
   "source": [
    "# 3. Preliminarily check distribution of data"
   ]
  },
  {
   "cell_type": "code",
   "execution_count": 56,
   "id": "692e1f26",
   "metadata": {},
   "outputs": [
    {
     "name": "stderr",
     "output_type": "stream",
     "text": [
      "                                                                                \r"
     ]
    },
    {
     "data": {
      "image/png": "[encoded data removed]",
      "text/plain": [
       "<Figure size 432x288 with 1 Axes>"
      ]
     },
     "metadata": {
      "needs_background": "light"
     },
     "output_type": "display_data"
    }
   ],
   "source": [
    "bins, counts = merchant_detail.select('monthly_profit').rdd.flatMap(lambda x: x).histogram(200)\n",
    "plt.hist(bins[:-1], bins=bins, weights=counts)\n",
    "plt.ylabel('Frequency')\n",
    "plt.xlabel('monthly_profit (dollar)')\n",
    "plt.title('Histogram graph of monthly profit')\n",
    "plt.savefig('../plots/Histogram graph of monthly profit')\n",
    "plt.show()"
   ]
  },
  {
   "cell_type": "code",
   "execution_count": 57,
   "id": "74cef7dd",
   "metadata": {},
   "outputs": [
    {
     "name": "stderr",
     "output_type": "stream",
     "text": [
      "                                                                                \r"
     ]
    },
    {
     "data": {
      "image/png": "[encoded data removed]",
      "text/plain": [
       "<Figure size 432x288 with 1 Axes>"
      ]
     },
     "metadata": {
      "needs_background": "light"
     },
     "output_type": "display_data"
    }
   ],
   "source": [
    "bins, counts = merchant_detail.select('total_transactions').rdd.flatMap(lambda x: x).histogram(200)\n",
    "plt.hist(bins[:-1], bins=bins, weights=counts)\n",
    "plt.ylabel('Frequency')\n",
    "plt.xlabel('transaction frequency')\n",
    "plt.title('Histogram graph of total transactions')\n",
    "plt.savefig('../plots/Histogram graph of total transactions')\n",
    "plt.show()"
   ]
  },
  {
   "cell_type": "code",
   "execution_count": 58,
   "id": "8393fc7a",
   "metadata": {
    "scrolled": true
   },
   "outputs": [
    {
     "name": "stderr",
     "output_type": "stream",
     "text": [
      "                                                                                \r"
     ]
    },
    {
     "data": {
      "image/png": "[encoded data removed]",
      "text/plain": [
       "<Figure size 432x288 with 1 Axes>"
      ]
     },
     "metadata": {
      "needs_background": "light"
     },
     "output_type": "display_data"
    }
   ],
   "source": [
    "bins, counts = merchant_detail.select('mean_transaction_amount').rdd.flatMap(lambda x: x).histogram(200)\n",
    "plt.hist(bins[:-1], bins=bins, weights=counts)\n",
    "plt.ylabel('Frequency')\n",
    "plt.xlabel('mean transaction (dollar)')\n",
    "plt.title('Histogram graph of mean transaction amount')\n",
    "plt.savefig('../plots/Histogram graph of mean transaction amount')\n",
    "plt.show()"
   ]
  },
  {
   "cell_type": "markdown",
   "id": "03fa2c14",
   "metadata": {},
   "source": [
    "There are some extremely large values, outliers elimination and data transformation may be needed."
   ]
  }
 ],
 "metadata": {
  "kernelspec": {
   "display_name": "Python 3 (ipykernel)",
   "language": "python",
   "name": "python3"
  },
  "language_info": {
   "codemirror_mode": {
    "name": "ipython",
    "version": 3
   },
   "file_extension": ".py",
   "mimetype": "text/x-python",
   "name": "python",
   "nbconvert_exporter": "python",
   "pygments_lexer": "ipython3",
   "version": "3.8.10"
  }
 },
 "nbformat": 4,
 "nbformat_minor": 5
}
