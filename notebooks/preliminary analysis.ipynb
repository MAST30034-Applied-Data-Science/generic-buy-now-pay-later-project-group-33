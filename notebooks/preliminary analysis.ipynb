{
 "cells": [
  {
   "cell_type": "code",
   "execution_count": 68,
   "id": "cbc6ccfc",
   "metadata": {},
   "outputs": [],
   "source": [
    "from pyspark.sql import functions as F\n",
    "from pyspark.sql.functions import *\n",
    "import matplotlib.pyplot as plt"
   ]
  },
  {
   "cell_type": "code",
   "execution_count": 69,
   "id": "08f6b0f1",
   "metadata": {},
   "outputs": [],
   "source": [
    "import pandas as pd\n",
    "import numpy as np"
   ]
  },
  {
   "cell_type": "code",
   "execution_count": 70,
   "id": "407a3036",
   "metadata": {
    "scrolled": true
   },
   "outputs": [],
   "source": [
    "from pyspark.sql import SparkSession\n",
    "\n",
    "# Create a spark session\n",
    "spark = (\n",
    "    SparkSession.builder.appName(\"MAST30034 Project 2\")\n",
    "    .config(\"spark.sql.repl.eagerEval.enabled\", True) \n",
    "    .config(\"spark.sql.parquet.cacheMetadata\", \"true\")\n",
    "    .getOrCreate()\n",
    ")"
   ]
  },
  {
   "cell_type": "markdown",
   "id": "6abeee62",
   "metadata": {},
   "source": [
    "# 1.Read the data in and check the presence of null value"
   ]
  },
  {
   "cell_type": "code",
   "execution_count": 71,
   "id": "7b4e3b7a",
   "metadata": {},
   "outputs": [],
   "source": [
    "# function used to check the presence of null values.\n",
    "def check_null_value(dataframe):\n",
    "    for columns in dataframe.columns:\n",
    "        print('Number of null value in', columns, ':', dataframe.where(F.col(columns).isNull()).count())\n",
    "    return"
   ]
  },
  {
   "cell_type": "code",
   "execution_count": 72,
   "id": "17c170a0",
   "metadata": {
    "scrolled": true
   },
   "outputs": [
    {
     "name": "stdout",
     "output_type": "stream",
     "text": [
      "Number of null value in user_id : 0\n",
      "Number of null value in consumer_id : 0\n"
     ]
    }
   ],
   "source": [
    "consumer_id = spark.read.parquet('../data/tables/consumer_user_details.parquet')\n",
    "check_null_value(consumer_id)"
   ]
  },
  {
   "cell_type": "code",
   "execution_count": 73,
   "id": "a54adcee",
   "metadata": {
    "scrolled": true
   },
   "outputs": [
    {
     "name": "stdout",
     "output_type": "stream",
     "text": [
      "Number of null value in name : 0\n",
      "Number of null value in address : 0\n",
      "Number of null value in state : 0\n",
      "Number of null value in postcode : 0\n",
      "Number of null value in gender : 0\n",
      "Number of null value in consumer_id : 0\n"
     ]
    }
   ],
   "source": [
    "# Use pandas read consumer csv\n",
    "raw_consumer_df = spark.read.option(\"header\",True).csv('../data/tables/tbl_consumer.csv')\n",
    "check_null_value(raw_consumer_df)"
   ]
  },
  {
   "cell_type": "code",
   "execution_count": 74,
   "id": "69d18a73",
   "metadata": {},
   "outputs": [
    {
     "name": "stdout",
     "output_type": "stream",
     "text": [
      "Number of null value in merchant_name : 0\n",
      "Number of null value in tags : 0\n",
      "Number of null value in merchant_abn : 0\n"
     ]
    }
   ],
   "source": [
    "merchant_df = spark.read.parquet('../data/tables/tbl_merchants.parquet').withColumnRenamed('name','merchant_name')\n",
    "check_null_value(merchant_df)"
   ]
  },
  {
   "cell_type": "code",
   "execution_count": 75,
   "id": "acbbc1c3",
   "metadata": {
    "scrolled": false
   },
   "outputs": [
    {
     "name": "stdout",
     "output_type": "stream",
     "text": [
      "Number of null value in user_id : 0\n",
      "Number of null value in merchant_abn : 0\n",
      "Number of null value in dollar_value : 0\n",
      "Number of null value in order_id : 0\n"
     ]
    }
   ],
   "source": [
    "path_list = []\n",
    "period = pd.date_range('2021-2-28','2021-03-31', freq='D').strftime(\"%Y-%m-%d\").tolist()\n",
    "path_prefix = '../data/tables/transactions_20210228_20210827_snapshot/order_datetime='\n",
    "for date in period:\n",
    "    path_list.append(path_prefix + date)\n",
    "    \n",
    "raw_transactions_df = spark.read.parquet(*path_list)\n",
    "\n",
    "check_null_value(raw_transactions_df)"
   ]
  },
  {
   "cell_type": "markdown",
   "id": "cc4cfa97",
   "metadata": {},
   "source": [
    "#### No null value is found in the raw datasets."
   ]
  },
  {
   "cell_type": "markdown",
   "id": "ca5b798d",
   "metadata": {},
   "source": [
    "# 2. Data aggregation"
   ]
  },
  {
   "cell_type": "markdown",
   "id": "10b3a9c2",
   "metadata": {},
   "source": [
    "First, we aggregate the given consumer, merchant and transactions data, drop the irrelevant features for the ranking system such as consumers' id and name, transactions' order id and merchants' abn."
   ]
  },
  {
   "cell_type": "code",
   "execution_count": 76,
   "id": "92362397",
   "metadata": {},
   "outputs": [],
   "source": [
    "consumer_df =  consumer_id.join(raw_consumer_df, consumer_id.consumer_id == raw_consumer_df.consumer_id, 'inner')\\\n",
    "                            .withColumnRenamed('name','consumer_name')\\\n",
    "                            .withColumnRenamed('address','consumer_address')"
   ]
  },
  {
   "cell_type": "code",
   "execution_count": 77,
   "id": "7b6163b1",
   "metadata": {},
   "outputs": [],
   "source": [
    "transactions_df = raw_transactions_df.join(merchant_df, raw_transactions_df.merchant_abn == merchant_df.merchant_abn, 'inner')\\\n",
    "                           .join(consumer_df, raw_transactions_df.user_id == consumer_df.user_id, 'inner')\\\n",
    "                           .drop('merchant_abn', 'order_id', 'user_id', 'consumer_id', 'consumer_name')"
   ]
  },
  {
   "cell_type": "code",
   "execution_count": 78,
   "id": "230d9dc5",
   "metadata": {
    "scrolled": true
   },
   "outputs": [
    {
     "name": "stderr",
     "output_type": "stream",
     "text": [
      "                                                                                \r"
     ]
    },
    {
     "data": {
      "text/plain": [
       "(563440, 540364)"
      ]
     },
     "execution_count": 78,
     "metadata": {},
     "output_type": "execute_result"
    }
   ],
   "source": [
    "raw_transactions_df.count(), transactions_df.count()"
   ]
  },
  {
   "cell_type": "markdown",
   "id": "96e7a0e4",
   "metadata": {},
   "source": [
    "Since some merchant abns from the transaction data do not match with any merchant from the merchant, we should remove them by inner join with the merchant dataset. About  5% of data are eliminated."
   ]
  },
  {
   "cell_type": "code",
   "execution_count": 79,
   "id": "fcf6d683",
   "metadata": {
    "scrolled": false
   },
   "outputs": [
    {
     "name": "stderr",
     "output_type": "stream",
     "text": [
      "                                                                                \r"
     ]
    },
    {
     "data": {
      "text/html": [
       "<table border='1'>\n",
       "<tr><th>dollar_value</th><th>merchant_name</th><th>tags</th><th>consumer_address</th><th>state</th><th>postcode</th><th>gender</th></tr>\n",
       "<tr><td>188.28973315308076</td><td>Vulputate Dui Nec...</td><td>[[computer progra...</td><td>122 Brandon Cliff</td><td>QLD</td><td>4606</td><td>Female</td></tr>\n",
       "<tr><td>104.28588019514527</td><td>Semper Incorporated</td><td>([digital goods: ...</td><td>122 Brandon Cliff</td><td>QLD</td><td>4606</td><td>Female</td></tr>\n",
       "<tr><td>31.24707699002731</td><td>Suspendisse Dui C...</td><td>((opticians, opti...</td><td>122 Brandon Cliff</td><td>QLD</td><td>4606</td><td>Female</td></tr>\n",
       "<tr><td>24.235220789680053</td><td>Eu Dui Cum Ltd</td><td>[[tent and awning...</td><td>122 Brandon Cliff</td><td>QLD</td><td>4606</td><td>Female</td></tr>\n",
       "<tr><td>62.10343310638136</td><td>Lorem Ipsum Sodal...</td><td>([florists suppli...</td><td>122 Brandon Cliff</td><td>QLD</td><td>4606</td><td>Female</td></tr>\n",
       "<tr><td>179.95765381097175</td><td>Phasellus Dapibus...</td><td>[(motor vehicle s...</td><td>122 Brandon Cliff</td><td>QLD</td><td>4606</td><td>Female</td></tr>\n",
       "<tr><td>89.93535555889761</td><td>Hendrerit Corpora...</td><td>((gift, card, nov...</td><td>122 Brandon Cliff</td><td>QLD</td><td>4606</td><td>Female</td></tr>\n",
       "<tr><td>427.9830846366457</td><td>At PC</td><td>[[computers, comp...</td><td>122 Brandon Cliff</td><td>QLD</td><td>4606</td><td>Female</td></tr>\n",
       "<tr><td>107.59365756886233</td><td>Nam Interdum Ltd</td><td>[[florists suppli...</td><td>122 Brandon Cliff</td><td>QLD</td><td>4606</td><td>Female</td></tr>\n",
       "<tr><td>25.296741327912205</td><td>Leo In Consulting</td><td>[[watch, clock, a...</td><td>122 Brandon Cliff</td><td>QLD</td><td>4606</td><td>Female</td></tr>\n",
       "</table>\n"
      ],
      "text/plain": [
       "+------------------+--------------------+--------------------+-----------------+-----+--------+------+\n",
       "|      dollar_value|       merchant_name|                tags| consumer_address|state|postcode|gender|\n",
       "+------------------+--------------------+--------------------+-----------------+-----+--------+------+\n",
       "|188.28973315308076|Vulputate Dui Nec...|[[computer progra...|122 Brandon Cliff|  QLD|    4606|Female|\n",
       "|104.28588019514527| Semper Incorporated|([digital goods: ...|122 Brandon Cliff|  QLD|    4606|Female|\n",
       "| 31.24707699002731|Suspendisse Dui C...|((opticians, opti...|122 Brandon Cliff|  QLD|    4606|Female|\n",
       "|24.235220789680053|      Eu Dui Cum Ltd|[[tent and awning...|122 Brandon Cliff|  QLD|    4606|Female|\n",
       "| 62.10343310638136|Lorem Ipsum Sodal...|([florists suppli...|122 Brandon Cliff|  QLD|    4606|Female|\n",
       "|179.95765381097175|Phasellus Dapibus...|[(motor vehicle s...|122 Brandon Cliff|  QLD|    4606|Female|\n",
       "| 89.93535555889761|Hendrerit Corpora...|((gift, card, nov...|122 Brandon Cliff|  QLD|    4606|Female|\n",
       "| 427.9830846366457|               At PC|[[computers, comp...|122 Brandon Cliff|  QLD|    4606|Female|\n",
       "|107.59365756886233|    Nam Interdum Ltd|[[florists suppli...|122 Brandon Cliff|  QLD|    4606|Female|\n",
       "|25.296741327912205|   Leo In Consulting|[[watch, clock, a...|122 Brandon Cliff|  QLD|    4606|Female|\n",
       "+------------------+--------------------+--------------------+-----------------+-----+--------+------+"
      ]
     },
     "execution_count": 79,
     "metadata": {},
     "output_type": "execute_result"
    }
   ],
   "source": [
    "transactions_df.limit(10)"
   ]
  },
  {
   "cell_type": "markdown",
   "id": "f11eeae9",
   "metadata": {},
   "source": [
    "We compute the total income and number of transactions for each merchant for the preliminary analysis."
   ]
  },
  {
   "cell_type": "code",
   "execution_count": 80,
   "id": "43876e2a",
   "metadata": {},
   "outputs": [],
   "source": [
    "merchant_income = transactions_df.groupBy('merchant_name', 'tags')\\\n",
    "                  .agg(\n",
    "                       F.round(F.sum('dollar_value'),2).alias('total_income'),\n",
    "                       F.count('merchant_name').alias('total_transactions'))\\\n",
    "                  .orderBy('total_income', ascending = False)\\\n",
    "                  .withColumn('mean_transaction_amount',  F.round(F.col('total_income')/F.col('total_transactions')))"
   ]
  },
  {
   "cell_type": "code",
   "execution_count": 81,
   "id": "fc37e4be",
   "metadata": {
    "scrolled": true
   },
   "outputs": [
    {
     "name": "stderr",
     "output_type": "stream",
     "text": [
      "                                                                                \r"
     ]
    },
    {
     "data": {
      "text/html": [
       "<div>\n",
       "<style scoped>\n",
       "    .dataframe tbody tr th:only-of-type {\n",
       "        vertical-align: middle;\n",
       "    }\n",
       "\n",
       "    .dataframe tbody tr th {\n",
       "        vertical-align: top;\n",
       "    }\n",
       "\n",
       "    .dataframe thead th {\n",
       "        text-align: right;\n",
       "    }\n",
       "</style>\n",
       "<table border=\"1\" class=\"dataframe\">\n",
       "  <thead>\n",
       "    <tr style=\"text-align: right;\">\n",
       "      <th></th>\n",
       "      <th>merchant_name</th>\n",
       "      <th>tags</th>\n",
       "      <th>total_income</th>\n",
       "      <th>total_transactions</th>\n",
       "      <th>mean_transaction_amount</th>\n",
       "    </tr>\n",
       "  </thead>\n",
       "  <tbody>\n",
       "    <tr>\n",
       "      <th>0</th>\n",
       "      <td>Amet Risus Inc.</td>\n",
       "      <td>([furniture, home furnishings and equipment sh...</td>\n",
       "      <td>461558.32</td>\n",
       "      <td>213</td>\n",
       "      <td>2167.0</td>\n",
       "    </tr>\n",
       "    <tr>\n",
       "      <th>1</th>\n",
       "      <td>Lacus Aliquam Corporation</td>\n",
       "      <td>[(antique shops - sales,  repairs, and restora...</td>\n",
       "      <td>424664.29</td>\n",
       "      <td>62</td>\n",
       "      <td>6849.0</td>\n",
       "    </tr>\n",
       "    <tr>\n",
       "      <th>2</th>\n",
       "      <td>Nec Incorporated</td>\n",
       "      <td>[[telecom], [a], [take rate: 5.55]]</td>\n",
       "      <td>398455.26</td>\n",
       "      <td>218</td>\n",
       "      <td>1828.0</td>\n",
       "    </tr>\n",
       "    <tr>\n",
       "      <th>3</th>\n",
       "      <td>Commodo Ipsum Industries</td>\n",
       "      <td>([jewelry, watch, Clock, and silverware shops]...</td>\n",
       "      <td>396344.19</td>\n",
       "      <td>36</td>\n",
       "      <td>11010.0</td>\n",
       "    </tr>\n",
       "    <tr>\n",
       "      <th>4</th>\n",
       "      <td>Ornare Limited</td>\n",
       "      <td>([motor vehicle supplies and new parts], [a], ...</td>\n",
       "      <td>388384.73</td>\n",
       "      <td>1234</td>\n",
       "      <td>315.0</td>\n",
       "    </tr>\n",
       "    <tr>\n",
       "      <th>...</th>\n",
       "      <td>...</td>\n",
       "      <td>...</td>\n",
       "      <td>...</td>\n",
       "      <td>...</td>\n",
       "      <td>...</td>\n",
       "    </tr>\n",
       "    <tr>\n",
       "      <th>3679</th>\n",
       "      <td>Dictum Incorporated</td>\n",
       "      <td>([arTist supply and craft shops], [a], [take r...</td>\n",
       "      <td>66.71</td>\n",
       "      <td>1</td>\n",
       "      <td>67.0</td>\n",
       "    </tr>\n",
       "    <tr>\n",
       "      <th>3680</th>\n",
       "      <td>Maecenas Mi Felis Limited</td>\n",
       "      <td>([health and beauty spas], [b], [take rate: 5....</td>\n",
       "      <td>56.66</td>\n",
       "      <td>1</td>\n",
       "      <td>57.0</td>\n",
       "    </tr>\n",
       "    <tr>\n",
       "      <th>3681</th>\n",
       "      <td>Adipiscing Elit Company</td>\n",
       "      <td>([artist supply and craft shops], [c], [take r...</td>\n",
       "      <td>50.15</td>\n",
       "      <td>1</td>\n",
       "      <td>50.0</td>\n",
       "    </tr>\n",
       "    <tr>\n",
       "      <th>3682</th>\n",
       "      <td>Odio Consulting</td>\n",
       "      <td>[[computeR programming , data processing, and ...</td>\n",
       "      <td>42.19</td>\n",
       "      <td>2</td>\n",
       "      <td>21.0</td>\n",
       "    </tr>\n",
       "    <tr>\n",
       "      <th>3683</th>\n",
       "      <td>Fringilla Mi Lacinia Incorporated</td>\n",
       "      <td>((telecom), (a), (take rate: 5.55))</td>\n",
       "      <td>30.21</td>\n",
       "      <td>1</td>\n",
       "      <td>30.0</td>\n",
       "    </tr>\n",
       "  </tbody>\n",
       "</table>\n",
       "<p>3684 rows × 5 columns</p>\n",
       "</div>"
      ],
      "text/plain": [
       "                          merchant_name  \\\n",
       "0                       Amet Risus Inc.   \n",
       "1             Lacus Aliquam Corporation   \n",
       "2                      Nec Incorporated   \n",
       "3              Commodo Ipsum Industries   \n",
       "4                        Ornare Limited   \n",
       "...                                 ...   \n",
       "3679                Dictum Incorporated   \n",
       "3680          Maecenas Mi Felis Limited   \n",
       "3681            Adipiscing Elit Company   \n",
       "3682                    Odio Consulting   \n",
       "3683  Fringilla Mi Lacinia Incorporated   \n",
       "\n",
       "                                                   tags  total_income  \\\n",
       "0     ([furniture, home furnishings and equipment sh...     461558.32   \n",
       "1     [(antique shops - sales,  repairs, and restora...     424664.29   \n",
       "2                   [[telecom], [a], [take rate: 5.55]]     398455.26   \n",
       "3     ([jewelry, watch, Clock, and silverware shops]...     396344.19   \n",
       "4     ([motor vehicle supplies and new parts], [a], ...     388384.73   \n",
       "...                                                 ...           ...   \n",
       "3679  ([arTist supply and craft shops], [a], [take r...         66.71   \n",
       "3680  ([health and beauty spas], [b], [take rate: 5....         56.66   \n",
       "3681  ([artist supply and craft shops], [c], [take r...         50.15   \n",
       "3682  [[computeR programming , data processing, and ...         42.19   \n",
       "3683                ((telecom), (a), (take rate: 5.55))         30.21   \n",
       "\n",
       "      total_transactions  mean_transaction_amount  \n",
       "0                    213                   2167.0  \n",
       "1                     62                   6849.0  \n",
       "2                    218                   1828.0  \n",
       "3                     36                  11010.0  \n",
       "4                   1234                    315.0  \n",
       "...                  ...                      ...  \n",
       "3679                   1                     67.0  \n",
       "3680                   1                     57.0  \n",
       "3681                   1                     50.0  \n",
       "3682                   2                     21.0  \n",
       "3683                   1                     30.0  \n",
       "\n",
       "[3684 rows x 5 columns]"
      ]
     },
     "execution_count": 81,
     "metadata": {},
     "output_type": "execute_result"
    }
   ],
   "source": [
    "merchant_income.toPandas()"
   ]
  },
  {
   "cell_type": "code",
   "execution_count": 82,
   "id": "9f5bc2c9",
   "metadata": {
    "scrolled": true
   },
   "outputs": [
    {
     "name": "stderr",
     "output_type": "stream",
     "text": [
      "                                                                                \r"
     ]
    },
    {
     "data": {
      "text/html": [
       "<div>\n",
       "<style scoped>\n",
       "    .dataframe tbody tr th:only-of-type {\n",
       "        vertical-align: middle;\n",
       "    }\n",
       "\n",
       "    .dataframe tbody tr th {\n",
       "        vertical-align: top;\n",
       "    }\n",
       "\n",
       "    .dataframe thead th {\n",
       "        text-align: right;\n",
       "    }\n",
       "</style>\n",
       "<table border=\"1\" class=\"dataframe\">\n",
       "  <thead>\n",
       "    <tr style=\"text-align: right;\">\n",
       "      <th></th>\n",
       "      <th>merchant_name</th>\n",
       "      <th>tags</th>\n",
       "      <th>total_income</th>\n",
       "      <th>total_transactions</th>\n",
       "      <th>mean_transaction_amount</th>\n",
       "    </tr>\n",
       "  </thead>\n",
       "  <tbody>\n",
       "    <tr>\n",
       "      <th>0</th>\n",
       "      <td>Erat Vitae LLP</td>\n",
       "      <td>[(florists supplies, nursery stock, and floWer...</td>\n",
       "      <td>342276.83</td>\n",
       "      <td>11366</td>\n",
       "      <td>30.0</td>\n",
       "    </tr>\n",
       "    <tr>\n",
       "      <th>1</th>\n",
       "      <td>Leo In Consulting</td>\n",
       "      <td>[[watch, clock, and jewelry repair shops], [a]...</td>\n",
       "      <td>383480.78</td>\n",
       "      <td>10981</td>\n",
       "      <td>35.0</td>\n",
       "    </tr>\n",
       "    <tr>\n",
       "      <th>2</th>\n",
       "      <td>Pede Nonummy Corp.</td>\n",
       "      <td>((tent and awning shops), (c), (take rate: 2.86))</td>\n",
       "      <td>298106.19</td>\n",
       "      <td>10387</td>\n",
       "      <td>29.0</td>\n",
       "    </tr>\n",
       "    <tr>\n",
       "      <th>3</th>\n",
       "      <td>Non Vestibulum Industries</td>\n",
       "      <td>((teNt and awning shops), (a), (take rate: 5.80))</td>\n",
       "      <td>283962.38</td>\n",
       "      <td>9827</td>\n",
       "      <td>29.0</td>\n",
       "    </tr>\n",
       "    <tr>\n",
       "      <th>4</th>\n",
       "      <td>Suspendisse Dui Corporation</td>\n",
       "      <td>((opticians, optical goods, and eyeglasses), (...</td>\n",
       "      <td>279790.38</td>\n",
       "      <td>9330</td>\n",
       "      <td>30.0</td>\n",
       "    </tr>\n",
       "    <tr>\n",
       "      <th>...</th>\n",
       "      <td>...</td>\n",
       "      <td>...</td>\n",
       "      <td>...</td>\n",
       "      <td>...</td>\n",
       "      <td>...</td>\n",
       "    </tr>\n",
       "    <tr>\n",
       "      <th>3679</th>\n",
       "      <td>Fermentum Metus Ltd</td>\n",
       "      <td>([jewelry, watch, clock, and silverware shops]...</td>\n",
       "      <td>5593.31</td>\n",
       "      <td>1</td>\n",
       "      <td>5593.0</td>\n",
       "    </tr>\n",
       "    <tr>\n",
       "      <th>3680</th>\n",
       "      <td>Ac Arcu Inc.</td>\n",
       "      <td>([artist supply and craft shops], [c], [take r...</td>\n",
       "      <td>541.42</td>\n",
       "      <td>1</td>\n",
       "      <td>541.0</td>\n",
       "    </tr>\n",
       "    <tr>\n",
       "      <th>3681</th>\n",
       "      <td>Non Foundation</td>\n",
       "      <td>((equipment, tool, furniture, and appliance re...</td>\n",
       "      <td>992.78</td>\n",
       "      <td>1</td>\n",
       "      <td>993.0</td>\n",
       "    </tr>\n",
       "    <tr>\n",
       "      <th>3682</th>\n",
       "      <td>Ullamcorper Corp.</td>\n",
       "      <td>[(books, periodicals, and newspapers), (b), (t...</td>\n",
       "      <td>104.82</td>\n",
       "      <td>1</td>\n",
       "      <td>105.0</td>\n",
       "    </tr>\n",
       "    <tr>\n",
       "      <th>3683</th>\n",
       "      <td>Libero Proin Mi Incorporated</td>\n",
       "      <td>[[art dealers and galleries], [a], [take rate:...</td>\n",
       "      <td>4372.68</td>\n",
       "      <td>1</td>\n",
       "      <td>4373.0</td>\n",
       "    </tr>\n",
       "  </tbody>\n",
       "</table>\n",
       "<p>3684 rows × 5 columns</p>\n",
       "</div>"
      ],
      "text/plain": [
       "                     merchant_name  \\\n",
       "0                   Erat Vitae LLP   \n",
       "1                Leo In Consulting   \n",
       "2               Pede Nonummy Corp.   \n",
       "3        Non Vestibulum Industries   \n",
       "4      Suspendisse Dui Corporation   \n",
       "...                            ...   \n",
       "3679           Fermentum Metus Ltd   \n",
       "3680                  Ac Arcu Inc.   \n",
       "3681                Non Foundation   \n",
       "3682             Ullamcorper Corp.   \n",
       "3683  Libero Proin Mi Incorporated   \n",
       "\n",
       "                                                   tags  total_income  \\\n",
       "0     [(florists supplies, nursery stock, and floWer...     342276.83   \n",
       "1     [[watch, clock, and jewelry repair shops], [a]...     383480.78   \n",
       "2     ((tent and awning shops), (c), (take rate: 2.86))     298106.19   \n",
       "3     ((teNt and awning shops), (a), (take rate: 5.80))     283962.38   \n",
       "4     ((opticians, optical goods, and eyeglasses), (...     279790.38   \n",
       "...                                                 ...           ...   \n",
       "3679  ([jewelry, watch, clock, and silverware shops]...       5593.31   \n",
       "3680  ([artist supply and craft shops], [c], [take r...        541.42   \n",
       "3681  ((equipment, tool, furniture, and appliance re...        992.78   \n",
       "3682  [(books, periodicals, and newspapers), (b), (t...        104.82   \n",
       "3683  [[art dealers and galleries], [a], [take rate:...       4372.68   \n",
       "\n",
       "      total_transactions  mean_transaction_amount  \n",
       "0                  11366                     30.0  \n",
       "1                  10981                     35.0  \n",
       "2                  10387                     29.0  \n",
       "3                   9827                     29.0  \n",
       "4                   9330                     30.0  \n",
       "...                  ...                      ...  \n",
       "3679                   1                   5593.0  \n",
       "3680                   1                    541.0  \n",
       "3681                   1                    993.0  \n",
       "3682                   1                    105.0  \n",
       "3683                   1                   4373.0  \n",
       "\n",
       "[3684 rows x 5 columns]"
      ]
     },
     "execution_count": 82,
     "metadata": {},
     "output_type": "execute_result"
    }
   ],
   "source": [
    "merchant_income.orderBy('total_transactions', ascending = False).toPandas()"
   ]
  },
  {
   "cell_type": "code",
   "execution_count": 83,
   "id": "c837c0b2",
   "metadata": {},
   "outputs": [
    {
     "name": "stderr",
     "output_type": "stream",
     "text": [
      "                                                                                \r"
     ]
    },
    {
     "data": {
      "text/html": [
       "<div>\n",
       "<style scoped>\n",
       "    .dataframe tbody tr th:only-of-type {\n",
       "        vertical-align: middle;\n",
       "    }\n",
       "\n",
       "    .dataframe tbody tr th {\n",
       "        vertical-align: top;\n",
       "    }\n",
       "\n",
       "    .dataframe thead th {\n",
       "        text-align: right;\n",
       "    }\n",
       "</style>\n",
       "<table border=\"1\" class=\"dataframe\">\n",
       "  <thead>\n",
       "    <tr style=\"text-align: right;\">\n",
       "      <th></th>\n",
       "      <th>merchant_name</th>\n",
       "      <th>tags</th>\n",
       "      <th>total_income</th>\n",
       "      <th>total_transactions</th>\n",
       "      <th>mean_transaction_amount</th>\n",
       "    </tr>\n",
       "  </thead>\n",
       "  <tbody>\n",
       "    <tr>\n",
       "      <th>0</th>\n",
       "      <td>Lacinia Orci Incorporated</td>\n",
       "      <td>([antique shops - sales, repairs, and restorat...</td>\n",
       "      <td>65774.72</td>\n",
       "      <td>2</td>\n",
       "      <td>32887.0</td>\n",
       "    </tr>\n",
       "    <tr>\n",
       "      <th>1</th>\n",
       "      <td>Accumsan Corporation</td>\n",
       "      <td>[(jewelRy, watch, clock, and silverware shops)...</td>\n",
       "      <td>103485.33</td>\n",
       "      <td>4</td>\n",
       "      <td>25871.0</td>\n",
       "    </tr>\n",
       "    <tr>\n",
       "      <th>2</th>\n",
       "      <td>Diam Nunc Associates</td>\n",
       "      <td>((jewelry, watch, clock, and silverware shops)...</td>\n",
       "      <td>99950.11</td>\n",
       "      <td>4</td>\n",
       "      <td>24988.0</td>\n",
       "    </tr>\n",
       "    <tr>\n",
       "      <th>3</th>\n",
       "      <td>Ligula Elit Pretium Foundation</td>\n",
       "      <td>[[antique shops - sales, repairs, and restorat...</td>\n",
       "      <td>158303.12</td>\n",
       "      <td>7</td>\n",
       "      <td>22615.0</td>\n",
       "    </tr>\n",
       "    <tr>\n",
       "      <th>4</th>\n",
       "      <td>Ut Corporation</td>\n",
       "      <td>((antique shops - sales, repairs, and resTorat...</td>\n",
       "      <td>43610.64</td>\n",
       "      <td>2</td>\n",
       "      <td>21805.0</td>\n",
       "    </tr>\n",
       "    <tr>\n",
       "      <th>...</th>\n",
       "      <td>...</td>\n",
       "      <td>...</td>\n",
       "      <td>...</td>\n",
       "      <td>...</td>\n",
       "      <td>...</td>\n",
       "    </tr>\n",
       "    <tr>\n",
       "      <th>3679</th>\n",
       "      <td>Urna Nullam Lobortis Institute</td>\n",
       "      <td>((tent and awning shops), (b), (take rate: 3.48))</td>\n",
       "      <td>719.32</td>\n",
       "      <td>55</td>\n",
       "      <td>13.0</td>\n",
       "    </tr>\n",
       "    <tr>\n",
       "      <th>3680</th>\n",
       "      <td>Malesuada Fringilla Est Institute</td>\n",
       "      <td>[(tent and  Awning shops), (a), (take rate: 5....</td>\n",
       "      <td>732.90</td>\n",
       "      <td>59</td>\n",
       "      <td>12.0</td>\n",
       "    </tr>\n",
       "    <tr>\n",
       "      <th>3681</th>\n",
       "      <td>Eros Limited</td>\n",
       "      <td>[[digital goods: books, movies, music], [c], [...</td>\n",
       "      <td>24845.59</td>\n",
       "      <td>2147</td>\n",
       "      <td>12.0</td>\n",
       "    </tr>\n",
       "    <tr>\n",
       "      <th>3682</th>\n",
       "      <td>Pretium Neque Inc.</td>\n",
       "      <td>([tent and awning shops], [a], [take rate: 5.80])</td>\n",
       "      <td>1616.39</td>\n",
       "      <td>132</td>\n",
       "      <td>12.0</td>\n",
       "    </tr>\n",
       "    <tr>\n",
       "      <th>3683</th>\n",
       "      <td>Curabitur Dictum Phasellus LLC</td>\n",
       "      <td>[[gift, card, novelty, and souvenir shops], [c...</td>\n",
       "      <td>1046.23</td>\n",
       "      <td>137</td>\n",
       "      <td>8.0</td>\n",
       "    </tr>\n",
       "  </tbody>\n",
       "</table>\n",
       "<p>3684 rows × 5 columns</p>\n",
       "</div>"
      ],
      "text/plain": [
       "                          merchant_name  \\\n",
       "0             Lacinia Orci Incorporated   \n",
       "1                  Accumsan Corporation   \n",
       "2                  Diam Nunc Associates   \n",
       "3        Ligula Elit Pretium Foundation   \n",
       "4                        Ut Corporation   \n",
       "...                                 ...   \n",
       "3679     Urna Nullam Lobortis Institute   \n",
       "3680  Malesuada Fringilla Est Institute   \n",
       "3681                       Eros Limited   \n",
       "3682                 Pretium Neque Inc.   \n",
       "3683     Curabitur Dictum Phasellus LLC   \n",
       "\n",
       "                                                   tags  total_income  \\\n",
       "0     ([antique shops - sales, repairs, and restorat...      65774.72   \n",
       "1     [(jewelRy, watch, clock, and silverware shops)...     103485.33   \n",
       "2     ((jewelry, watch, clock, and silverware shops)...      99950.11   \n",
       "3     [[antique shops - sales, repairs, and restorat...     158303.12   \n",
       "4     ((antique shops - sales, repairs, and resTorat...      43610.64   \n",
       "...                                                 ...           ...   \n",
       "3679  ((tent and awning shops), (b), (take rate: 3.48))        719.32   \n",
       "3680  [(tent and  Awning shops), (a), (take rate: 5....        732.90   \n",
       "3681  [[digital goods: books, movies, music], [c], [...      24845.59   \n",
       "3682  ([tent and awning shops], [a], [take rate: 5.80])       1616.39   \n",
       "3683  [[gift, card, novelty, and souvenir shops], [c...       1046.23   \n",
       "\n",
       "      total_transactions  mean_transaction_amount  \n",
       "0                      2                  32887.0  \n",
       "1                      4                  25871.0  \n",
       "2                      4                  24988.0  \n",
       "3                      7                  22615.0  \n",
       "4                      2                  21805.0  \n",
       "...                  ...                      ...  \n",
       "3679                  55                     13.0  \n",
       "3680                  59                     12.0  \n",
       "3681                2147                     12.0  \n",
       "3682                 132                     12.0  \n",
       "3683                 137                      8.0  \n",
       "\n",
       "[3684 rows x 5 columns]"
      ]
     },
     "execution_count": 83,
     "metadata": {},
     "output_type": "execute_result"
    }
   ],
   "source": [
    "merchant_income.orderBy('mean_transaction_amount', ascending = False).toPandas()"
   ]
  },
  {
   "cell_type": "code",
   "execution_count": 84,
   "id": "e3570cbf",
   "metadata": {},
   "outputs": [
    {
     "name": "stderr",
     "output_type": "stream",
     "text": [
      "                                                                                \r"
     ]
    },
    {
     "data": {
      "text/plain": [
       "(3684, 4026)"
      ]
     },
     "execution_count": 84,
     "metadata": {},
     "output_type": "execute_result"
    }
   ],
   "source": [
    "merchant_income.count(), merchant_df.count()"
   ]
  },
  {
   "cell_type": "markdown",
   "id": "1d6631e5",
   "metadata": {},
   "source": [
    "About 350 merchants does not have any transactions in this month, a longer period of data should be considered. "
   ]
  },
  {
   "cell_type": "markdown",
   "id": "9ce96ef9",
   "metadata": {},
   "source": [
    "# 3. Preliminarily check distribution of data"
   ]
  },
  {
   "cell_type": "code",
   "execution_count": 85,
   "id": "b8676207",
   "metadata": {},
   "outputs": [
    {
     "name": "stderr",
     "output_type": "stream",
     "text": [
      "                                                                                \r"
     ]
    },
    {
     "data": {
      "image/png": "[encoded data removed]",
      "text/plain": [
       "<Figure size 432x288 with 1 Axes>"
      ]
     },
     "metadata": {
      "needs_background": "light"
     },
     "output_type": "display_data"
    }
   ],
   "source": [
    "bins, counts = merchant_income.select('total_income').rdd.flatMap(lambda x: x).histogram(200)\n",
    "plt.hist(bins[:-1], bins=bins, weights=counts)\n",
    "plt.ylabel('Frequency')\n",
    "plt.xlabel('total income (dollar)')\n",
    "plt.title('Histogram graph of total income')\n",
    "plt.savefig('../plots/Histogram graph of total income')\n",
    "plt.show()"
   ]
  },
  {
   "cell_type": "code",
   "execution_count": 86,
   "id": "74cef7dd",
   "metadata": {},
   "outputs": [
    {
     "name": "stderr",
     "output_type": "stream",
     "text": [
      "                                                                                \r"
     ]
    },
    {
     "data": {
      "image/png": "[encoded data removed]",
      "text/plain": [
       "<Figure size 432x288 with 1 Axes>"
      ]
     },
     "metadata": {
      "needs_background": "light"
     },
     "output_type": "display_data"
    }
   ],
   "source": [
    "bins, counts = merchant_income.select('total_transactions').rdd.flatMap(lambda x: x).histogram(200)\n",
    "plt.hist(bins[:-1], bins=bins, weights=counts)\n",
    "plt.ylabel('Frequency')\n",
    "plt.xlabel('transaction frequency')\n",
    "plt.title('Histogram graph of total transactions')\n",
    "plt.savefig('../plots/Histogram graph of total transactions')\n",
    "plt.show()"
   ]
  },
  {
   "cell_type": "code",
   "execution_count": 87,
   "id": "8393fc7a",
   "metadata": {},
   "outputs": [
    {
     "name": "stderr",
     "output_type": "stream",
     "text": [
      "                                                                                \r"
     ]
    },
    {
     "data": {
      "image/png": "[encoded data removed]",
      "text/plain": [
       "<Figure size 432x288 with 1 Axes>"
      ]
     },
     "metadata": {
      "needs_background": "light"
     },
     "output_type": "display_data"
    }
   ],
   "source": [
    "bins, counts = merchant_income.select('mean_transaction_amount').rdd.flatMap(lambda x: x).histogram(200)\n",
    "plt.hist(bins[:-1], bins=bins, weights=counts)\n",
    "plt.ylabel('Frequency')\n",
    "plt.xlabel('mean transaction (dollar)')\n",
    "plt.title('Histogram graph of mean transaction amount')\n",
    "plt.savefig('../plots/Histogram graph of mean transaction amount')\n",
    "plt.show()"
   ]
  },
  {
   "cell_type": "markdown",
   "id": "03fa2c14",
   "metadata": {},
   "source": [
    "There are some extremely large values, outliers elimination and data transformation may be needed."
   ]
  }
 ],
 "metadata": {
  "kernelspec": {
   "display_name": "Python 3 (ipykernel)",
   "language": "python",
   "name": "python3"
  },
  "language_info": {
   "codemirror_mode": {
    "name": "ipython",
    "version": 3
   },
   "file_extension": ".py",
   "mimetype": "text/x-python",
   "name": "python",
   "nbconvert_exporter": "python",
   "pygments_lexer": "ipython3",
   "version": "3.8.10"
  }
 },
 "nbformat": 4,
 "nbformat_minor": 5
}
