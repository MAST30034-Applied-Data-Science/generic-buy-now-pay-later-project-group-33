{
 "cells": [
  {
   "cell_type": "code",
   "execution_count": 1,
   "metadata": {},
   "outputs": [],
   "source": [
    "from pyspark.sql import functions as F\n",
    "from pyspark.sql.functions import *\n",
    "import matplotlib.pyplot as plt\n",
    "import pandas as pd\n",
    "import numpy as np"
   ]
  },
  {
   "cell_type": "code",
   "execution_count": 2,
   "metadata": {},
   "outputs": [],
   "source": [
    "from pyspark.sql import SparkSession\n",
    "\n",
    "# Create a spark session\n",
    "spark = (\n",
    "    SparkSession.builder.appName(\"MAST30034 Project 2\")\n",
    "    .config(\"spark.sql.repl.eagerEval.enabled\", True) \n",
    "    .config(\"spark.sql.parquet.cacheMetadata\", \"true\")\n",
    "    .getOrCreate()\n",
    ")"
   ]
  },
  {
   "cell_type": "code",
   "execution_count": 3,
   "metadata": {},
   "outputs": [],
   "source": [
    "period1 = pd.date_range('2021-2-28','2021-08-27', freq='D').strftime(\"%Y-%m-%d\").tolist()\n",
    "period2 = pd.date_range('2021-8-28','2022-02-27', freq='D').strftime(\"%Y-%m-%d\").tolist()\n",
    "period3 = pd.date_range('2022-2-28','2022-08-28', freq='D').strftime(\"%Y-%m-%d\").tolist()\n",
    "path_prefix1 = '../data/tables/transactions_20210228_20210827_snapshot/order_datetime='\n",
    "path_prefix2 = '../data/tables/transactions_20210828_20220227_snapshot/order_datetime='\n",
    "path_prefix3 = '../data/tables/transactions_20220228_20220828_snapshot/order_datetime='\n"
   ]
  },
  {
   "cell_type": "code",
   "execution_count": 4,
   "metadata": {},
   "outputs": [],
   "source": [
    "# add a column of date\n",
    "from pyspark.sql.functions import lit"
   ]
  },
  {
   "cell_type": "code",
   "execution_count": 6,
   "metadata": {},
   "outputs": [
    {
     "data": {
      "text/plain": [
       "StructType([StructField('user_id', LongType(), True), StructField('merchant_abn', LongType(), True), StructField('dollar_value', DoubleType(), True), StructField('order_id', StringType(), True)])"
      ]
     },
     "execution_count": 6,
     "metadata": {},
     "output_type": "execute_result"
    }
   ],
   "source": [
    "dfSchema = spark.read.parquet('../data/tables/transactions_20210228_20210827_snapshot/order_datetime=2021-02-28')\n",
    "dfSchema.schema"
   ]
  },
  {
   "cell_type": "code",
   "execution_count": 5,
   "metadata": {},
   "outputs": [
    {
     "data": {
      "text/html": [
       "<table border='1'>\n",
       "<tr><th>user_id</th><th>merchant_abn</th><th>dollar_value</th><th>order_id</th><th>date</th></tr>\n",
       "</table>\n"
      ],
      "text/plain": [
       "+-------+------------+------------+--------+----+\n",
       "|user_id|merchant_abn|dollar_value|order_id|date|\n",
       "+-------+------------+------------+--------+----+\n",
       "+-------+------------+------------+--------+----+"
      ]
     },
     "execution_count": 5,
     "metadata": {},
     "output_type": "execute_result"
    }
   ],
   "source": [
    "# Create a empty dataframe to \n",
    "\n",
    "from pyspark.sql.types import StructType,StructField, StringType, LongType, DoubleType, IntegerType\n",
    "emptyRDD = spark.sparkContext.emptyRDD()\n",
    "schema = StructType([StructField('user_id', LongType(), True), StructField('merchant_abn', LongType(), True), StructField('dollar_value', DoubleType(), True), StructField('order_id', StringType(), True), StructField('date', IntegerType(), False)])\n",
    "df = spark.createDataFrame(emptyRDD,schema)\n",
    "df"
   ]
  },
  {
   "cell_type": "code",
   "execution_count": 6,
   "metadata": {},
   "outputs": [],
   "source": [
    "\n",
    "for date in period1:\n",
    "\n",
    "    tep = spark.read.parquet(path_prefix1 + date)\n",
    "    \n",
    "    tep = tep.withColumn(\"date\", lit(date))\n",
    "    df = df.union(tep)\n",
    "    \n"
   ]
  },
  {
   "cell_type": "code",
   "execution_count": 7,
   "metadata": {},
   "outputs": [],
   "source": [
    "for date in period2:\n",
    "\n",
    "    tep = spark.read.parquet(path_prefix2 + date)\n",
    "    \n",
    "    tep = tep.withColumn(\"date\", lit(date))\n",
    "    df = df.union(tep)\n",
    "\n",
    "for date in period3:\n",
    "\n",
    "    tep = spark.read.parquet(path_prefix3 + date)\n",
    "    \n",
    "    tep = tep.withColumn(\"date\", lit(date))\n",
    "    df = df.union(tep)"
   ]
  },
  {
   "cell_type": "code",
   "execution_count": null,
   "metadata": {},
   "outputs": [],
   "source": [
    "df.limit(3)"
   ]
  },
  {
   "cell_type": "code",
   "execution_count": null,
   "metadata": {},
   "outputs": [],
   "source": [
    "df1=df.select(F.date_format('date','yyyy-MM').alias('month'),'merchant_abn','dollar_value')\n",
    "df1.limit(5)"
   ]
  },
  {
   "cell_type": "code",
   "execution_count": null,
   "metadata": {},
   "outputs": [],
   "source": [
    "df2 = df1.groupby('month','merchant_abn').agg(sum('dollar_value').alias('monthly_value'))"
   ]
  },
  {
   "cell_type": "code",
   "execution_count": null,
   "metadata": {},
   "outputs": [],
   "source": [
    "from pyspark.sql.window import Window\n",
    "\n",
    "price_window = Window.partitionBy(\"merchant_abn\").orderBy(\"month\")\n",
    "df5 = df2.withColumn(\"prev_value\", F.lag('monthly_value').over(price_window))\n"
   ]
  },
  {
   "cell_type": "code",
   "execution_count": null,
   "metadata": {},
   "outputs": [],
   "source": [
    "df5.limit(5)"
   ]
  },
  {
   "cell_type": "code",
   "execution_count": null,
   "metadata": {},
   "outputs": [],
   "source": [
    "df6 = df5.withColumn(\"growth_rate_per_month\", F.when(F.isnull(df5.monthly_value - df5.prev_value), 0).otherwise((df5.monthly_value - df5.prev_value)/df5.monthly_value))"
   ]
  },
  {
   "cell_type": "code",
   "execution_count": null,
   "metadata": {},
   "outputs": [],
   "source": [
    "df6.limit(5)"
   ]
  },
  {
   "cell_type": "code",
   "execution_count": null,
   "metadata": {},
   "outputs": [],
   "source": [
    "df7=df6.groupby(\"merchant_abn\").agg(sum(\"growth_rate_per_month\"))"
   ]
  },
  {
   "cell_type": "code",
   "execution_count": null,
   "metadata": {},
   "outputs": [],
   "source": [
    "df7.limit(10)"
   ]
  },
  {
   "cell_type": "code",
   "execution_count": null,
   "metadata": {},
   "outputs": [],
   "source": []
  }
 ],
 "metadata": {
  "kernelspec": {
   "display_name": "Python 3.9.7 64-bit",
   "language": "python",
   "name": "python3"
  },
  "language_info": {
   "codemirror_mode": {
    "name": "ipython",
    "version": 3
   },
   "file_extension": ".py",
   "mimetype": "text/x-python",
   "name": "python",
   "nbconvert_exporter": "python",
   "pygments_lexer": "ipython3",
   "version": "3.9.7"
  },
  "vscode": {
   "interpreter": {
    "hash": "f5f6c98c67c2a3212f91bc544dd5c32ae7624554b9af89e587d1457bd09b43e5"
   }
  }
 },
 "nbformat": 4,
 "nbformat_minor": 2
}
