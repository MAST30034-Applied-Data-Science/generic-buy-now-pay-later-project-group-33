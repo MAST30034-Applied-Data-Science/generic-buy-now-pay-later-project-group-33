{
 "cells": [
  {
   "cell_type": "markdown",
   "id": "e745c4bb",
   "metadata": {},
   "source": [
    "# Project Summary"
   ]
  },
  {
   "cell_type": "markdown",
   "id": "f50d7621",
   "metadata": {},
   "source": [
    "## Overall Approach"
   ]
  },
  {
   "cell_type": "markdown",
   "id": "14842760",
   "metadata": {},
   "source": [
    "This project first preprocess the raw data, including steps of checking null values, compute relevant features and aggregating the collected features. "
   ]
  },
  {
   "cell_type": "markdown",
   "id": "7d31f695",
   "metadata": {},
   "source": [
    "这里稍微写一下preprocess做了那些feature"
   ]
  },
  {
   "cell_type": "markdown",
   "id": "8b5678df",
   "metadata": {},
   "source": [
    "Then, according to each type of products provided by the merchants, we separted them into 5 main categories: 'Technology and Equipment, Luxury, Entertainment, Services, Stationeries'."
   ]
  },
  {
   "cell_type": "markdown",
   "id": "95dd59d1",
   "metadata": {},
   "source": [
    "Below is the weekly income of Australian by postcodes, and we noticed that it might have some relationship with the consumers purchasing power.  "
   ]
  },
  {
   "cell_type": "code",
   "execution_count": null,
   "id": "3b7d656a",
   "metadata": {},
   "outputs": [],
   "source": [
    "import webbrowser\n",
    "webbrowser.open('../plots/income_weekly.html', new=2)"
   ]
  },
  {
   "cell_type": "markdown",
   "id": "5ec018d3",
   "metadata": {},
   "source": [
    "Therefore, the postcodes with the most number of transaction of each merchant is taken as a feature for further analysis."
   ]
  },
  {
   "cell_type": "markdown",
   "id": "0d4e73c1",
   "metadata": {},
   "source": [
    "## The Ranking System"
   ]
  },
  {
   "cell_type": "markdown",
   "id": "32ee80a7",
   "metadata": {},
   "source": [
    "Our final ranking system uses the follow 3 features: Monthly income, Monthly profit growth, and fraud probability.\n",
    "With the formula below:"
   ]
  },
  {
   "cell_type": "markdown",
   "id": "aa322add",
   "metadata": {},
   "source": [
    "$ EstimatedProfit = (MonthlyProfit + 12 * ProfitGrowth) * (1 - FraudProbability) $"
   ]
  },
  {
   "cell_type": "markdown",
   "id": "b63519fc",
   "metadata": {},
   "source": [
    "### Monthly Income"
   ]
  },
  {
   "cell_type": "markdown",
   "id": "21873107",
   "metadata": {},
   "source": []
  },
  {
   "cell_type": "markdown",
   "id": "45d53848",
   "metadata": {},
   "source": [
    "### Monthly Profit Growth"
   ]
  },
  {
   "cell_type": "markdown",
   "id": "884c069f",
   "metadata": {},
   "source": []
  },
  {
   "cell_type": "markdown",
   "id": "77cca711",
   "metadata": {},
   "source": [
    "### Fraud Probability"
   ]
  },
  {
   "cell_type": "markdown",
   "id": "b907f919",
   "metadata": {},
   "source": []
  },
  {
   "cell_type": "markdown",
   "id": "a88ac9f8",
   "metadata": {},
   "source": [
    "## Ranking System Results"
   ]
  },
  {
   "cell_type": "markdown",
   "id": "aa687a84",
   "metadata": {},
   "source": []
  }
 ],
 "metadata": {
  "kernelspec": {
   "display_name": "Python 3 (ipykernel)",
   "language": "python",
   "name": "python3"
  },
  "language_info": {
   "codemirror_mode": {
    "name": "ipython",
    "version": 3
   },
   "file_extension": ".py",
   "mimetype": "text/x-python",
   "name": "python",
   "nbconvert_exporter": "python",
   "pygments_lexer": "ipython3",
   "version": "3.8.10"
  }
 },
 "nbformat": 4,
 "nbformat_minor": 5
}
