{
 "cells": [
  {
   "cell_type": "code",
   "execution_count": null,
   "id": "1a53f16c",
   "metadata": {},
   "outputs": [],
   "source": [
    "import pandas as pd\n",
    "from pyspark.sql.functions import *"
   ]
  },
  {
   "cell_type": "code",
   "execution_count": null,
   "id": "7dde19a3",
   "metadata": {
    "scrolled": true
   },
   "outputs": [],
   "source": [
    "from pyspark.sql import SparkSession\n",
    "\n",
    "# Create a spark session\n",
    "spark = (\n",
    "    SparkSession.builder.appName(\"MAST30034 Project 2\")\n",
    "    .config(\"spark.sql.repl.eagerEval.enabled\", True) \n",
    "    .config(\"spark.sql.parquet.cacheMetadata\", \"true\") \n",
    "    .config(\"spark.executor.memory\", \"2g\")\n",
    "    .config(\"spark.driver.memory\", \"4g\")\n",
    "    .getOrCreate()\n",
    ")"
   ]
  },
  {
   "cell_type": "markdown",
   "id": "d8d174eb",
   "metadata": {},
   "source": [
    "## Adding postcode income as feature "
   ]
  },
  {
   "cell_type": "markdown",
   "id": "e3a52808",
   "metadata": {},
   "source": [
    "This notebook finds each merchant's main consumer postcodes and adds that postcodes' median weekly personal income as a feature of the merchat for further ranking and testing."
   ]
  },
  {
   "cell_type": "markdown",
   "id": "741d88b3",
   "metadata": {},
   "source": [
    "First reduce some of the transactions, as the income dataframe have some missing postcodes."
   ]
  },
  {
   "cell_type": "code",
   "execution_count": null,
   "id": "6ab55052",
   "metadata": {},
   "outputs": [],
   "source": [
    "# Read the transaction dataframe\n",
    "transaction_df = pd.read_parquet('../data/curated/transactions_detail.parquet')"
   ]
  },
  {
   "cell_type": "code",
   "execution_count": null,
   "id": "bfd94148",
   "metadata": {},
   "outputs": [],
   "source": [
    "transaction_df"
   ]
  },
  {
   "cell_type": "code",
   "execution_count": null,
   "id": "90702c36",
   "metadata": {},
   "outputs": [],
   "source": [
    "# Read the income dataframe\n",
    "income_df = pd.read_csv(\"../data/income/2021_income.csv\")\n",
    "income_df['POA_CODE_2021'] = income_df['POA_CODE_2021'].astype(int)"
   ]
  },
  {
   "cell_type": "code",
   "execution_count": null,
   "id": "0c6a88e7",
   "metadata": {},
   "outputs": [],
   "source": [
    "# Merge the income and transaction dataframe\n",
    "transaction_df['postcode'] = transaction_df['postcode'].astype(int)\n",
    "merged_df = transaction_df \\\n",
    "    .merge(income_df[['POA_CODE_2021']], left_on='postcode', right_on='POA_CODE_2021') \\\n",
    "    .drop('POA_CODE_2021', axis=1)\n",
    "merged_df"
   ]
  },
  {
   "cell_type": "code",
   "execution_count": null,
   "id": "43b46727",
   "metadata": {},
   "outputs": [],
   "source": [
    "merged_df.to_parquet(r'../data/curated/reduced_transactions.parquet')"
   ]
  },
  {
   "cell_type": "code",
   "execution_count": null,
   "id": "5fdeef96",
   "metadata": {
    "scrolled": false
   },
   "outputs": [],
   "source": [
    "transaction_df = spark.read.parquet('../data/curated/reduced_transactions.parquet')\n",
    "transaction_df"
   ]
  },
  {
   "cell_type": "markdown",
   "id": "0932392d",
   "metadata": {},
   "source": [
    "Now count and see which postcode of each merchant has the highest number of transactions."
   ]
  },
  {
   "cell_type": "code",
   "execution_count": null,
   "id": "2e5b200f",
   "metadata": {},
   "outputs": [],
   "source": [
    "transaction_count_df = transaction_df.groupBy('merchant_name', 'postcode').count()\n",
    "transaction_count_df = transaction_count_df.withColumnRenamed(\"count\",\"transaction_count\")"
   ]
  },
  {
   "cell_type": "code",
   "execution_count": null,
   "id": "4b6014e9",
   "metadata": {},
   "outputs": [],
   "source": [
    "from pyspark.sql import Window\n",
    "import pyspark.sql.functions as f\n",
    "\n",
    "w = Window.partitionBy('merchant_name')\n",
    "max_count_df = transaction_count_df.withColumn('max_count', f.max('transaction_count').over(w))\\\n",
    "                .where(f.col('transaction_count') == f.col('max_count'))\\\n",
    "                .drop('max_count')\\\n",
    "                .dropDuplicates(['merchant_name'])\n"
   ]
  },
  {
   "cell_type": "markdown",
   "id": "e7930022",
   "metadata": {},
   "source": [
    "Then include the postcode's income into the merchant detail, as a new feature."
   ]
  },
  {
   "cell_type": "code",
   "execution_count": null,
   "id": "c6a3f277",
   "metadata": {},
   "outputs": [],
   "source": [
    "merchant_detail = spark.read.parquet('../data/curated/merchant_detail.parquet')"
   ]
  },
  {
   "cell_type": "code",
   "execution_count": null,
   "id": "af914070",
   "metadata": {},
   "outputs": [],
   "source": [
    "merchant_detail = merchant_detail.join(max_count_df.drop(col(\"transaction_count\")),['merchant_name'],how='inner')"
   ]
  },
  {
   "cell_type": "code",
   "execution_count": null,
   "id": "5bb94a41",
   "metadata": {},
   "outputs": [],
   "source": [
    "merchant_detail = merchant_detail.toPandas()\n",
    "merchant_detail['postcode'] = merchant_detail['postcode'].astype(int)"
   ]
  },
  {
   "cell_type": "code",
   "execution_count": null,
   "id": "8daee63e",
   "metadata": {},
   "outputs": [],
   "source": [
    "merged_df = merchant_detail \\\n",
    "    .merge(income_df[['POA_CODE_2021', 'Median_tot_prsnl_inc_weekly']], left_on='postcode', right_on='POA_CODE_2021') \\\n",
    "    .drop('POA_CODE_2021', axis=1)\n"
   ]
  },
  {
   "cell_type": "code",
   "execution_count": null,
   "id": "a238a631",
   "metadata": {},
   "outputs": [],
   "source": [
    "merged_df"
   ]
  },
  {
   "cell_type": "code",
   "execution_count": null,
   "id": "3076d3b3",
   "metadata": {},
   "outputs": [],
   "source": [
    "merged_df.to_csv(r'../data/curated/merchant_detail_with_income.csv', index = False, header=True)"
   ]
  }
 ],
 "metadata": {
  "kernelspec": {
   "display_name": "Python 3 (ipykernel)",
   "language": "python",
   "name": "python3"
  },
  "language_info": {
   "codemirror_mode": {
    "name": "ipython",
    "version": 3
   },
   "file_extension": ".py",
   "mimetype": "text/x-python",
   "name": "python",
   "nbconvert_exporter": "python",
   "pygments_lexer": "ipython3",
   "version": "3.8.10"
  }
 },
 "nbformat": 4,
 "nbformat_minor": 5
}
