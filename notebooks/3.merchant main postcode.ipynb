{
 "cells": [
  {
   "cell_type": "code",
   "execution_count": 1,
   "id": "1a53f16c",
   "metadata": {},
   "outputs": [],
   "source": [
    "import pandas as pd\n",
    "from pyspark.sql.functions import *"
   ]
  },
  {
   "cell_type": "code",
   "execution_count": 2,
   "id": "7dde19a3",
   "metadata": {},
   "outputs": [
    {
     "name": "stdout",
     "output_type": "stream",
     "text": [
      "22/10/03 12:16:27 WARN Utils: Your hostname, LAPTOP-UQ7BDL4T resolves to a loopback address: 127.0.1.1; using 172.24.128.113 instead (on interface eth0)\n",
      "22/10/03 12:16:27 WARN Utils: Set SPARK_LOCAL_IP if you need to bind to another address\n"
     ]
    },
    {
     "name": "stderr",
     "output_type": "stream",
     "text": [
      "Setting default log level to \"WARN\".\n",
      "To adjust logging level use sc.setLogLevel(newLevel). For SparkR, use setLogLevel(newLevel).\n"
     ]
    },
    {
     "name": "stdout",
     "output_type": "stream",
     "text": [
      "22/10/03 12:16:29 WARN NativeCodeLoader: Unable to load native-hadoop library for your platform... using builtin-java classes where applicable\n"
     ]
    }
   ],
   "source": [
    "from pyspark.sql import SparkSession\n",
    "\n",
    "# Create a spark session\n",
    "spark = (\n",
    "    SparkSession.builder.appName(\"MAST30034 Project 2\")\n",
    "    .config(\"spark.sql.repl.eagerEval.enabled\", True) \n",
    "    .config(\"spark.sql.parquet.cacheMetadata\", \"true\") \n",
    "    .config(\"spark.executor.memory\", \"2g\")\n",
    "    .config(\"spark.driver.memory\", \"4g\")\n",
    "    .getOrCreate()\n",
    ")"
   ]
  },
  {
   "cell_type": "code",
   "execution_count": 3,
   "id": "5fdeef96",
   "metadata": {},
   "outputs": [
    {
     "name": "stderr",
     "output_type": "stream",
     "text": [
      "                                                                                \r"
     ]
    }
   ],
   "source": [
    "transaction_df = spark.read.parquet('../data/curated/transactions_detail.parquet')"
   ]
  },
  {
   "cell_type": "code",
   "execution_count": 4,
   "id": "2e5b200f",
   "metadata": {},
   "outputs": [],
   "source": [
    "transaction_count_df = transaction_df.groupBy('merchant_name', 'postcode').count()\n",
    "transaction_count_df = transaction_count_df.withColumnRenamed(\"count\",\"transaction_count\")"
   ]
  },
  {
   "cell_type": "code",
   "execution_count": 5,
   "id": "4b6014e9",
   "metadata": {},
   "outputs": [],
   "source": [
    "from pyspark.sql import Window\n",
    "import pyspark.sql.functions as f\n",
    "\n",
    "w = Window.partitionBy('merchant_name')\n",
    "max_count_df = transaction_count_df.withColumn('max_count', f.max('transaction_count').over(w))\\\n",
    "                .where(f.col('transaction_count') == f.col('max_count'))\\\n",
    "                .drop('max_count')\\\n",
    "                .dropDuplicates(['merchant_name'])\n"
   ]
  },
  {
   "cell_type": "code",
   "execution_count": 6,
   "id": "c6a3f277",
   "metadata": {},
   "outputs": [],
   "source": [
    "merchant_detail = spark.read.parquet('../data/curated/merchant_detail.parquet')"
   ]
  },
  {
   "cell_type": "code",
   "execution_count": 7,
   "id": "af914070",
   "metadata": {},
   "outputs": [],
   "source": [
    "merchant_detail = merchant_detail.join(max_count_df.drop(col(\"transaction_count\")),['merchant_name'],how='inner')"
   ]
  },
  {
   "cell_type": "code",
   "execution_count": 13,
   "id": "5bb94a41",
   "metadata": {},
   "outputs": [
    {
     "name": "stderr",
     "output_type": "stream",
     "text": [
      "                                                                                \r"
     ]
    }
   ],
   "source": [
    "merchant_detail = merchant_detail.toPandas()\n",
    "merchant_detail['postcode'] = merchant_detail['postcode'].astype(int)"
   ]
  },
  {
   "cell_type": "code",
   "execution_count": 10,
   "id": "0b163277",
   "metadata": {},
   "outputs": [],
   "source": [
    "income_df = pd.read_csv(\"../data/income/2021_income.csv\")\n",
    "income_df['POA_CODE_2021'] = income_df['POA_CODE_2021'].astype(int)"
   ]
  },
  {
   "cell_type": "code",
   "execution_count": 14,
   "id": "8daee63e",
   "metadata": {},
   "outputs": [],
   "source": [
    "merged_df = merchant_detail \\\n",
    "    .merge(income_df[['POA_CODE_2021', 'Median_tot_prsnl_inc_weekly']], left_on='postcode', right_on='POA_CODE_2021') \\\n",
    "    .drop('POA_CODE_2021', axis=1)\n"
   ]
  },
  {
   "cell_type": "code",
   "execution_count": 15,
   "id": "a238a631",
   "metadata": {},
   "outputs": [
    {
     "data": {
      "text/html": [
       "<div>\n",
       "<style scoped>\n",
       "    .dataframe tbody tr th:only-of-type {\n",
       "        vertical-align: middle;\n",
       "    }\n",
       "\n",
       "    .dataframe tbody tr th {\n",
       "        vertical-align: top;\n",
       "    }\n",
       "\n",
       "    .dataframe thead th {\n",
       "        text-align: right;\n",
       "    }\n",
       "</style>\n",
       "<table border=\"1\" class=\"dataframe\">\n",
       "  <thead>\n",
       "    <tr style=\"text-align: right;\">\n",
       "      <th></th>\n",
       "      <th>merchant_name</th>\n",
       "      <th>merchant_abn</th>\n",
       "      <th>type</th>\n",
       "      <th>take_rate</th>\n",
       "      <th>total_income</th>\n",
       "      <th>total_transactions</th>\n",
       "      <th>mean_transaction_amount</th>\n",
       "      <th>monthly_profit</th>\n",
       "      <th>postcode</th>\n",
       "      <th>Median_tot_prsnl_inc_weekly</th>\n",
       "    </tr>\n",
       "  </thead>\n",
       "  <tbody>\n",
       "    <tr>\n",
       "      <th>0</th>\n",
       "      <td>A Associates</td>\n",
       "      <td>14955471775</td>\n",
       "      <td>opticians, optical goods, and eyeglasses</td>\n",
       "      <td>4.95</td>\n",
       "      <td>24797.58</td>\n",
       "      <td>71</td>\n",
       "      <td>349.0</td>\n",
       "      <td>68.0</td>\n",
       "      <td>4620</td>\n",
       "      <td>476</td>\n",
       "    </tr>\n",
       "    <tr>\n",
       "      <th>1</th>\n",
       "      <td>Sollicitudin Orci Inc.</td>\n",
       "      <td>29839336901</td>\n",
       "      <td>shoe shops</td>\n",
       "      <td>4.54</td>\n",
       "      <td>17246.95</td>\n",
       "      <td>72</td>\n",
       "      <td>240.0</td>\n",
       "      <td>44.0</td>\n",
       "      <td>4620</td>\n",
       "      <td>476</td>\n",
       "    </tr>\n",
       "    <tr>\n",
       "      <th>2</th>\n",
       "      <td>Ante Vivamus Industries</td>\n",
       "      <td>57540672941</td>\n",
       "      <td>bicycle shops - sales and service</td>\n",
       "      <td>4.71</td>\n",
       "      <td>490063.47</td>\n",
       "      <td>609</td>\n",
       "      <td>805.0</td>\n",
       "      <td>1282.0</td>\n",
       "      <td>4620</td>\n",
       "      <td>476</td>\n",
       "    </tr>\n",
       "    <tr>\n",
       "      <th>3</th>\n",
       "      <td>A Felis Ullamcorper Corporation</td>\n",
       "      <td>36800720158</td>\n",
       "      <td>florists supplies, nursery stock, and flowers</td>\n",
       "      <td>6.04</td>\n",
       "      <td>509614.30</td>\n",
       "      <td>1155</td>\n",
       "      <td>441.0</td>\n",
       "      <td>1710.0</td>\n",
       "      <td>4620</td>\n",
       "      <td>476</td>\n",
       "    </tr>\n",
       "    <tr>\n",
       "      <th>4</th>\n",
       "      <td>A Felis Company</td>\n",
       "      <td>83878211395</td>\n",
       "      <td>tent and awning shops</td>\n",
       "      <td>4.32</td>\n",
       "      <td>93165.80</td>\n",
       "      <td>81</td>\n",
       "      <td>1150.0</td>\n",
       "      <td>224.0</td>\n",
       "      <td>3177</td>\n",
       "      <td>584</td>\n",
       "    </tr>\n",
       "    <tr>\n",
       "      <th>...</th>\n",
       "      <td>...</td>\n",
       "      <td>...</td>\n",
       "      <td>...</td>\n",
       "      <td>...</td>\n",
       "      <td>...</td>\n",
       "      <td>...</td>\n",
       "      <td>...</td>\n",
       "      <td>...</td>\n",
       "      <td>...</td>\n",
       "      <td>...</td>\n",
       "    </tr>\n",
       "    <tr>\n",
       "      <th>3378</th>\n",
       "      <td>Vitae Orci Phasellus LLP</td>\n",
       "      <td>59614227972</td>\n",
       "      <td>lawn and garden supply outlets, including nurs...</td>\n",
       "      <td>3.72</td>\n",
       "      <td>112488.42</td>\n",
       "      <td>93</td>\n",
       "      <td>1210.0</td>\n",
       "      <td>232.0</td>\n",
       "      <td>3128</td>\n",
       "      <td>682</td>\n",
       "    </tr>\n",
       "    <tr>\n",
       "      <th>3379</th>\n",
       "      <td>Vivamus Limited</td>\n",
       "      <td>22614311069</td>\n",
       "      <td>equipment, tool, furniture, and appliance rent...</td>\n",
       "      <td>6.34</td>\n",
       "      <td>179856.93</td>\n",
       "      <td>147</td>\n",
       "      <td>1224.0</td>\n",
       "      <td>633.0</td>\n",
       "      <td>4670</td>\n",
       "      <td>614</td>\n",
       "    </tr>\n",
       "    <tr>\n",
       "      <th>3380</th>\n",
       "      <td>Vivamus Sit Associates</td>\n",
       "      <td>85726387922</td>\n",
       "      <td>health and beauty spas</td>\n",
       "      <td>6.28</td>\n",
       "      <td>101880.04</td>\n",
       "      <td>258</td>\n",
       "      <td>395.0</td>\n",
       "      <td>355.0</td>\n",
       "      <td>5266</td>\n",
       "      <td>868</td>\n",
       "    </tr>\n",
       "    <tr>\n",
       "      <th>3381</th>\n",
       "      <td>Viverra Maecenas Iaculis Associates</td>\n",
       "      <td>78522984877</td>\n",
       "      <td>furniture, home furnishings and equipment shop...</td>\n",
       "      <td>5.57</td>\n",
       "      <td>370083.51</td>\n",
       "      <td>2132</td>\n",
       "      <td>174.0</td>\n",
       "      <td>1145.0</td>\n",
       "      <td>3915</td>\n",
       "      <td>643</td>\n",
       "    </tr>\n",
       "    <tr>\n",
       "      <th>3382</th>\n",
       "      <td>Volutpat Nunc Institute</td>\n",
       "      <td>78957925458</td>\n",
       "      <td>bicycle shops - sales and service</td>\n",
       "      <td>5.08</td>\n",
       "      <td>12826.14</td>\n",
       "      <td>135</td>\n",
       "      <td>95.0</td>\n",
       "      <td>36.0</td>\n",
       "      <td>5037</td>\n",
       "      <td>781</td>\n",
       "    </tr>\n",
       "  </tbody>\n",
       "</table>\n",
       "<p>3383 rows × 10 columns</p>\n",
       "</div>"
      ],
      "text/plain": [
       "                            merchant_name  merchant_abn  \\\n",
       "0                            A Associates   14955471775   \n",
       "1                  Sollicitudin Orci Inc.   29839336901   \n",
       "2                 Ante Vivamus Industries   57540672941   \n",
       "3         A Felis Ullamcorper Corporation   36800720158   \n",
       "4                         A Felis Company   83878211395   \n",
       "...                                   ...           ...   \n",
       "3378             Vitae Orci Phasellus LLP   59614227972   \n",
       "3379                      Vivamus Limited   22614311069   \n",
       "3380               Vivamus Sit Associates   85726387922   \n",
       "3381  Viverra Maecenas Iaculis Associates   78522984877   \n",
       "3382              Volutpat Nunc Institute   78957925458   \n",
       "\n",
       "                                                   type  take_rate  \\\n",
       "0              opticians, optical goods, and eyeglasses       4.95   \n",
       "1                                            shoe shops       4.54   \n",
       "2                     bicycle shops - sales and service       4.71   \n",
       "3         florists supplies, nursery stock, and flowers       6.04   \n",
       "4                                 tent and awning shops       4.32   \n",
       "...                                                 ...        ...   \n",
       "3378  lawn and garden supply outlets, including nurs...       3.72   \n",
       "3379  equipment, tool, furniture, and appliance rent...       6.34   \n",
       "3380                             health and beauty spas       6.28   \n",
       "3381  furniture, home furnishings and equipment shop...       5.57   \n",
       "3382                  bicycle shops - sales and service       5.08   \n",
       "\n",
       "      total_income  total_transactions  mean_transaction_amount  \\\n",
       "0         24797.58                  71                    349.0   \n",
       "1         17246.95                  72                    240.0   \n",
       "2        490063.47                 609                    805.0   \n",
       "3        509614.30                1155                    441.0   \n",
       "4         93165.80                  81                   1150.0   \n",
       "...            ...                 ...                      ...   \n",
       "3378     112488.42                  93                   1210.0   \n",
       "3379     179856.93                 147                   1224.0   \n",
       "3380     101880.04                 258                    395.0   \n",
       "3381     370083.51                2132                    174.0   \n",
       "3382      12826.14                 135                     95.0   \n",
       "\n",
       "      monthly_profit  postcode  Median_tot_prsnl_inc_weekly  \n",
       "0               68.0      4620                          476  \n",
       "1               44.0      4620                          476  \n",
       "2             1282.0      4620                          476  \n",
       "3             1710.0      4620                          476  \n",
       "4              224.0      3177                          584  \n",
       "...              ...       ...                          ...  \n",
       "3378           232.0      3128                          682  \n",
       "3379           633.0      4670                          614  \n",
       "3380           355.0      5266                          868  \n",
       "3381          1145.0      3915                          643  \n",
       "3382            36.0      5037                          781  \n",
       "\n",
       "[3383 rows x 10 columns]"
      ]
     },
     "execution_count": 15,
     "metadata": {},
     "output_type": "execute_result"
    }
   ],
   "source": [
    "merged_df"
   ]
  },
  {
   "cell_type": "code",
   "execution_count": 16,
   "id": "3076d3b3",
   "metadata": {},
   "outputs": [],
   "source": [
    "merged_df.to_csv(r'../data/curated/merchant_detail_with_income.csv', index = False, header=True)"
   ]
  }
 ],
 "metadata": {
  "kernelspec": {
   "display_name": "Python 3 (ipykernel)",
   "language": "python",
   "name": "python3"
  },
  "language_info": {
   "codemirror_mode": {
    "name": "ipython",
    "version": 3
   },
   "file_extension": ".py",
   "mimetype": "text/x-python",
   "name": "python",
   "nbconvert_exporter": "python",
   "pygments_lexer": "ipython3",
   "version": "3.8.10"
  }
 },
 "nbformat": 4,
 "nbformat_minor": 5
}
