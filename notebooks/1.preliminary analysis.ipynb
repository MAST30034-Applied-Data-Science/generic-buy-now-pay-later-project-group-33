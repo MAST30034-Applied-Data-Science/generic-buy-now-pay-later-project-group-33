{
 "cells": [
  {
   "cell_type": "code",
   "execution_count": 1,
   "id": "cbc6ccfc",
   "metadata": {},
   "outputs": [
    {
     "name": "stderr",
     "output_type": "stream",
     "text": [
      "WARNING:root:'PYARROW_IGNORE_TIMEZONE' environment variable was not set. It is required to set this environment variable to '1' in both driver and executor sides if you use pyarrow>=2.0.0. pandas-on-Spark will set it for you but it does not work if there is a Spark context already launched.\n"
     ]
    }
   ],
   "source": [
    "from pyspark.sql import functions as F\n",
    "from pyspark.sql.functions import *\n",
    "import pyspark.pandas\n",
    "import matplotlib.pyplot as plt\n",
    "import pandas as pd\n",
    "import numpy as np"
   ]
  },
  {
   "cell_type": "code",
   "execution_count": 2,
   "id": "407a3036",
   "metadata": {
    "scrolled": false
   },
   "outputs": [
    {
     "name": "stdout",
     "output_type": "stream",
     "text": [
      "22/10/10 00:34:52 WARN Utils: Your hostname, LAPTOP-UQ7BDL4T resolves to a loopback address: 127.0.1.1; using 172.22.156.140 instead (on interface eth0)\n",
      "22/10/10 00:34:52 WARN Utils: Set SPARK_LOCAL_IP if you need to bind to another address\n"
     ]
    },
    {
     "name": "stderr",
     "output_type": "stream",
     "text": [
      "Setting default log level to \"WARN\".\n",
      "To adjust logging level use sc.setLogLevel(newLevel). For SparkR, use setLogLevel(newLevel).\n"
     ]
    },
    {
     "name": "stdout",
     "output_type": "stream",
     "text": [
      "22/10/10 00:34:55 WARN NativeCodeLoader: Unable to load native-hadoop library for your platform... using builtin-java classes where applicable\n"
     ]
    }
   ],
   "source": [
    "from pyspark.sql import SparkSession\n",
    "\n",
    "# Create a spark session\n",
    "spark = (\n",
    "    SparkSession.builder.appName(\"MAST30034 Project 2\")\n",
    "    .config(\"spark.sql.repl.eagerEval.enabled\", True) \n",
    "    .config(\"spark.sql.parquet.cacheMetadata\", \"true\")\n",
    "    .config(\"spark.executor.memory\", \"2g\")\n",
    "    .config(\"spark.driver.memory\", \"4g\")\n",
    "    .getOrCreate()\n",
    ")"
   ]
  },
  {
   "cell_type": "markdown",
   "id": "6abeee62",
   "metadata": {},
   "source": [
    "# 1.Read the data in and check the presence of null value"
   ]
  },
  {
   "cell_type": "code",
   "execution_count": 3,
   "id": "7b4e3b7a",
   "metadata": {},
   "outputs": [],
   "source": [
    "# function used to check the presence of null values.\n",
    "def check_null_value(dataframe):\n",
    "    \"\"\" Accept a dataframe, check the presence of null values.\n",
    "    \"\"\"\n",
    "    for columns in dataframe.columns:\n",
    "        print('Number of null value in', columns, ':', dataframe.where(F.col(columns).isNull()).count())\n",
    "    return"
   ]
  },
  {
   "cell_type": "code",
   "execution_count": 4,
   "id": "17c170a0",
   "metadata": {
    "scrolled": true
   },
   "outputs": [
    {
     "name": "stderr",
     "output_type": "stream",
     "text": [
      "                                                                                \r"
     ]
    },
    {
     "name": "stdout",
     "output_type": "stream",
     "text": [
      "Number of null value in user_id : 0\n",
      "Number of null value in consumer_id : 0\n"
     ]
    }
   ],
   "source": [
    "consumer_id = spark.read.parquet('../data/tables/consumer_user_details.parquet')\n",
    "check_null_value(consumer_id)"
   ]
  },
  {
   "cell_type": "code",
   "execution_count": 5,
   "id": "a54adcee",
   "metadata": {
    "scrolled": true
   },
   "outputs": [
    {
     "name": "stderr",
     "output_type": "stream",
     "text": [
      "                                                                                \r"
     ]
    },
    {
     "name": "stdout",
     "output_type": "stream",
     "text": [
      "Number of null value in name : 0\n",
      "Number of null value in address : 0\n",
      "Number of null value in state : 0\n",
      "Number of null value in postcode : 0\n",
      "Number of null value in gender : 0\n",
      "Number of null value in consumer_id : 0\n"
     ]
    }
   ],
   "source": [
    "# Use pandas read consumer csv\n",
    "raw_consumer_df = spark.read.option(\"header\",True).csv('../data/tables/tbl_consumer.csv')\n",
    "check_null_value(raw_consumer_df)"
   ]
  },
  {
   "cell_type": "code",
   "execution_count": 6,
   "id": "69d18a73",
   "metadata": {},
   "outputs": [
    {
     "name": "stdout",
     "output_type": "stream",
     "text": [
      "Number of null value in merchant_name : 0\n",
      "Number of null value in tags : 0\n",
      "Number of null value in merchant_abn : 0\n"
     ]
    }
   ],
   "source": [
    "raw_merchant_df = spark.read.parquet('../data/tables/tbl_merchants.parquet').withColumnRenamed('name','merchant_name')\n",
    "check_null_value(raw_merchant_df)"
   ]
  },
  {
   "cell_type": "code",
   "execution_count": 7,
   "id": "acbbc1c3",
   "metadata": {
    "scrolled": false
   },
   "outputs": [
    {
     "name": "stderr",
     "output_type": "stream",
     "text": [
      "                                                                                \r"
     ]
    },
    {
     "name": "stdout",
     "output_type": "stream",
     "text": [
      "Number of null value in user_id : 0\n"
     ]
    },
    {
     "name": "stderr",
     "output_type": "stream",
     "text": [
      "                                                                                \r"
     ]
    },
    {
     "name": "stdout",
     "output_type": "stream",
     "text": [
      "Number of null value in merchant_abn : 0\n"
     ]
    },
    {
     "name": "stderr",
     "output_type": "stream",
     "text": [
      "                                                                                \r"
     ]
    },
    {
     "name": "stdout",
     "output_type": "stream",
     "text": [
      "Number of null value in dollar_value : 0\n"
     ]
    },
    {
     "name": "stderr",
     "output_type": "stream",
     "text": [
      "[Stage 47:==================================================>     (20 + 2) / 22]\r"
     ]
    },
    {
     "name": "stdout",
     "output_type": "stream",
     "text": [
      "Number of null value in order_id : 0\n"
     ]
    },
    {
     "name": "stderr",
     "output_type": "stream",
     "text": [
      "\r",
      "                                                                                \r"
     ]
    }
   ],
   "source": [
    "path_list = []\n",
    "period1 = pd.date_range('2021-2-28','2021-08-27', freq='D').strftime(\"%Y-%m-%d\").tolist()\n",
    "period2 = pd.date_range('2021-8-28','2022-02-27', freq='D').strftime(\"%Y-%m-%d\").tolist()\n",
    "period3 = pd.date_range('2022-2-28','2022-08-28', freq='D').strftime(\"%Y-%m-%d\").tolist()\n",
    "path_prefix1 = '../data/tables/transactions_20210228_20210827_snapshot/order_datetime='\n",
    "path_prefix2 = '../data/tables/transactions_20210828_20220227_snapshot/order_datetime='\n",
    "path_prefix3 = '../data/tables/transactions_20220228_20220828_snapshot/order_datetime='\n",
    "for date in period1:\n",
    "    path_list.append(path_prefix1 + date)\n",
    "for date in period2:\n",
    "    path_list.append(path_prefix2 + date)\n",
    "for date in period3:\n",
    "    path_list.append(path_prefix3 + date)\n",
    "\n",
    "raw_transactions_df = spark.read.parquet(*path_list)\n",
    "\n",
    "check_null_value(raw_transactions_df)"
   ]
  },
  {
   "cell_type": "markdown",
   "id": "cc4cfa97",
   "metadata": {},
   "source": [
    "#### No null value is found in the raw datasets."
   ]
  },
  {
   "cell_type": "markdown",
   "id": "ca5b798d",
   "metadata": {},
   "source": [
    "# 2. Data aggregation"
   ]
  },
  {
   "cell_type": "markdown",
   "id": "10b3a9c2",
   "metadata": {},
   "source": [
    "First, we aggregate the given consumer, merchant and transactions data, drop the irrelevant features for the ranking system such as consumers' id and name, transactions' order id and merchants' abn."
   ]
  },
  {
   "cell_type": "code",
   "execution_count": 8,
   "id": "92362397",
   "metadata": {},
   "outputs": [],
   "source": [
    "consumer_df =  consumer_id.join(raw_consumer_df, consumer_id.consumer_id == raw_consumer_df.consumer_id, 'inner')\\\n",
    "                            .withColumnRenamed('name','consumer_name')\\\n",
    "                            .withColumnRenamed('address','consumer_address')"
   ]
  },
  {
   "cell_type": "code",
   "execution_count": 9,
   "id": "886044cd",
   "metadata": {},
   "outputs": [
    {
     "data": {
      "text/html": [
       "<table border='1'>\n",
       "<tr><th>merchant_name</th><th>tags</th><th>merchant_abn</th></tr>\n",
       "<tr><td>Felis Limited</td><td>((furniture, home...</td><td>10023283211</td></tr>\n",
       "<tr><td>Arcu Ac Orci Corp...</td><td>([cable, satellit...</td><td>10142254217</td></tr>\n",
       "<tr><td>Nunc Sed Company</td><td>([jewelry, watch,...</td><td>10165489824</td></tr>\n",
       "<tr><td>Ultricies Digniss...</td><td>([wAtch, clock, a...</td><td>10187291046</td></tr>\n",
       "<tr><td>Enim Condimentum PC</td><td>([music shops - m...</td><td>10192359162</td></tr>\n",
       "<tr><td>Fusce Company</td><td>[(gift, card, nov...</td><td>10206519221</td></tr>\n",
       "<tr><td>Aliquam Enim Inco...</td><td>[(computers, comP...</td><td>10255988167</td></tr>\n",
       "<tr><td>Ipsum Primis Ltd</td><td>[[watch, clock, a...</td><td>10264435225</td></tr>\n",
       "<tr><td>Pede Ultrices Ind...</td><td>([computer progra...</td><td>10279061213</td></tr>\n",
       "<tr><td>Nunc Inc.</td><td>[(furniture, home...</td><td>10323485998</td></tr>\n",
       "<tr><td>Facilisis Facilis...</td><td>([computers, comp...</td><td>10342410215</td></tr>\n",
       "<tr><td>Odio Institute</td><td>((equipment, tool...</td><td>10346855916</td></tr>\n",
       "<tr><td>Rutrum Justo Ltd</td><td>([music shops - m...</td><td>10364012396</td></tr>\n",
       "<tr><td>Tellus Foundation</td><td>[[artist supply a...</td><td>10385011947</td></tr>\n",
       "<tr><td>Sed Et Company</td><td>([florists suppli...</td><td>10385163239</td></tr>\n",
       "<tr><td>Id Ltd</td><td>([computers, comp...</td><td>10385250025</td></tr>\n",
       "<tr><td>Consequat Foundation</td><td>[[antique shops -...</td><td>10404542215</td></tr>\n",
       "<tr><td>Sit Amet Nulla Corp.</td><td>[[motor vehicle s...</td><td>10430380319</td></tr>\n",
       "<tr><td>Massa Vestibulum ...</td><td>[(moTor vehicle s...</td><td>10441711491</td></tr>\n",
       "<tr><td>Ut Consulting</td><td>([gift, card, nov...</td><td>10462560289</td></tr>\n",
       "</table>\n",
       "only showing top 20 rows\n"
      ],
      "text/plain": [
       "+--------------------+--------------------+------------+\n",
       "|       merchant_name|                tags|merchant_abn|\n",
       "+--------------------+--------------------+------------+\n",
       "|       Felis Limited|((furniture, home...| 10023283211|\n",
       "|Arcu Ac Orci Corp...|([cable, satellit...| 10142254217|\n",
       "|    Nunc Sed Company|([jewelry, watch,...| 10165489824|\n",
       "|Ultricies Digniss...|([wAtch, clock, a...| 10187291046|\n",
       "| Enim Condimentum PC|([music shops - m...| 10192359162|\n",
       "|       Fusce Company|[(gift, card, nov...| 10206519221|\n",
       "|Aliquam Enim Inco...|[(computers, comP...| 10255988167|\n",
       "|    Ipsum Primis Ltd|[[watch, clock, a...| 10264435225|\n",
       "|Pede Ultrices Ind...|([computer progra...| 10279061213|\n",
       "|           Nunc Inc.|[(furniture, home...| 10323485998|\n",
       "|Facilisis Facilis...|([computers, comp...| 10342410215|\n",
       "|      Odio Institute|((equipment, tool...| 10346855916|\n",
       "|    Rutrum Justo Ltd|([music shops - m...| 10364012396|\n",
       "|   Tellus Foundation|[[artist supply a...| 10385011947|\n",
       "|      Sed Et Company|([florists suppli...| 10385163239|\n",
       "|              Id Ltd|([computers, comp...| 10385250025|\n",
       "|Consequat Foundation|[[antique shops -...| 10404542215|\n",
       "|Sit Amet Nulla Corp.|[[motor vehicle s...| 10430380319|\n",
       "|Massa Vestibulum ...|[(moTor vehicle s...| 10441711491|\n",
       "|       Ut Consulting|([gift, card, nov...| 10462560289|\n",
       "+--------------------+--------------------+------------+\n",
       "only showing top 20 rows"
      ]
     },
     "execution_count": 9,
     "metadata": {},
     "output_type": "execute_result"
    }
   ],
   "source": [
    "raw_merchant_df"
   ]
  },
  {
   "cell_type": "markdown",
   "id": "3f834336",
   "metadata": {},
   "source": [
    "Get the take rate of each merchant."
   ]
  },
  {
   "cell_type": "code",
   "execution_count": 10,
   "id": "92301d25",
   "metadata": {},
   "outputs": [],
   "source": [
    "merchant_df = raw_merchant_df.withColumn('tags_string1', split(raw_merchant_df['tags'], ':'))\\\n",
    "                             .withColumn('tags_string2', split(raw_merchant_df['tags'], '\\)'))\\\n",
    "                             .withColumn('tags_string3', element_at(col('tags_string2'), 1))\\\n",
    "                             .withColumn('rate_string', element_at(col('tags_string1'), -1))\\\n",
    "                             .withColumn('rate_substring', substring('rate_string', 1, 5))\\\n",
    "                             .withColumn('take_rate', col('rate_substring').cast('double'))\\\n",
    "                             .drop('rate_string', 'rate_substring','tags_string1', 'tags_string2')"
   ]
  },
  {
   "cell_type": "code",
   "execution_count": 11,
   "id": "ad0be604",
   "metadata": {},
   "outputs": [],
   "source": [
    "merchant_df = merchant_df.withColumn('tags_string4', split(merchant_df['tags_string3'], ']'))\\\n",
    "                         .withColumn('type_string1', element_at(col('tags_string4'), 1))\\\n",
    "                         .withColumn('type_string2', substring('type_string1', 3, 100))\\\n",
    "                         .withColumn('type1', lower(col('type_string2')))\\\n",
    "                         .withColumn('type', regexp_replace(col('type1'), '  ', ' '))\\\n",
    "                         .drop('tags', 'tags_string3', 'tags_string4', 'type_string', 'type_string1','type_string2','type1')"
   ]
  },
  {
   "cell_type": "code",
   "execution_count": 12,
   "id": "28dae0f1",
   "metadata": {},
   "outputs": [
    {
     "data": {
      "text/html": [
       "<table border='1'>\n",
       "<tr><th>merchant_name</th><th>merchant_abn</th><th>take_rate</th><th>type</th></tr>\n",
       "<tr><td>Felis Limited</td><td>10023283211</td><td>0.18</td><td>furniture, home f...</td></tr>\n",
       "<tr><td>Arcu Ac Orci Corp...</td><td>10142254217</td><td>4.22</td><td>cable, satellite,...</td></tr>\n",
       "<tr><td>Nunc Sed Company</td><td>10165489824</td><td>4.4</td><td>jewelry, watch, c...</td></tr>\n",
       "<tr><td>Ultricies Digniss...</td><td>10187291046</td><td>3.29</td><td>watch, clock, and...</td></tr>\n",
       "<tr><td>Enim Condimentum PC</td><td>10192359162</td><td>6.33</td><td>music shops - mus...</td></tr>\n",
       "<tr><td>Fusce Company</td><td>10206519221</td><td>6.34</td><td>gift, card, novel...</td></tr>\n",
       "<tr><td>Aliquam Enim Inco...</td><td>10255988167</td><td>4.32</td><td>computers, comput...</td></tr>\n",
       "<tr><td>Ipsum Primis Ltd</td><td>10264435225</td><td>2.39</td><td>watch, clock, and...</td></tr>\n",
       "<tr><td>Pede Ultrices Ind...</td><td>10279061213</td><td>5.71</td><td>computer programm...</td></tr>\n",
       "<tr><td>Nunc Inc.</td><td>10323485998</td><td>6.61</td><td>furniture, home f...</td></tr>\n",
       "<tr><td>Facilisis Facilis...</td><td>10342410215</td><td>6.34</td><td>computers, comput...</td></tr>\n",
       "<tr><td>Odio Institute</td><td>10346855916</td><td>3.57</td><td>equipment, tool, ...</td></tr>\n",
       "<tr><td>Rutrum Justo Ltd</td><td>10364012396</td><td>3.63</td><td>music shops - mus...</td></tr>\n",
       "<tr><td>Tellus Foundation</td><td>10385011947</td><td>3.17</td><td>artist supply and...</td></tr>\n",
       "<tr><td>Sed Et Company</td><td>10385163239</td><td>6.61</td><td>florists supplies...</td></tr>\n",
       "<tr><td>Id Ltd</td><td>10385250025</td><td>5.54</td><td>computers, comput...</td></tr>\n",
       "<tr><td>Consequat Foundation</td><td>10404542215</td><td>6.93</td><td>antique shops - s...</td></tr>\n",
       "<tr><td>Sit Amet Nulla Corp.</td><td>10430380319</td><td>4.97</td><td>motor vehicle sup...</td></tr>\n",
       "<tr><td>Massa Vestibulum ...</td><td>10441711491</td><td>5.77</td><td>motor vehicle sup...</td></tr>\n",
       "<tr><td>Ut Consulting</td><td>10462560289</td><td>2.95</td><td>gift, card, novel...</td></tr>\n",
       "</table>\n",
       "only showing top 20 rows\n"
      ],
      "text/plain": [
       "+--------------------+------------+---------+--------------------+\n",
       "|       merchant_name|merchant_abn|take_rate|                type|\n",
       "+--------------------+------------+---------+--------------------+\n",
       "|       Felis Limited| 10023283211|     0.18|furniture, home f...|\n",
       "|Arcu Ac Orci Corp...| 10142254217|     4.22|cable, satellite,...|\n",
       "|    Nunc Sed Company| 10165489824|      4.4|jewelry, watch, c...|\n",
       "|Ultricies Digniss...| 10187291046|     3.29|watch, clock, and...|\n",
       "| Enim Condimentum PC| 10192359162|     6.33|music shops - mus...|\n",
       "|       Fusce Company| 10206519221|     6.34|gift, card, novel...|\n",
       "|Aliquam Enim Inco...| 10255988167|     4.32|computers, comput...|\n",
       "|    Ipsum Primis Ltd| 10264435225|     2.39|watch, clock, and...|\n",
       "|Pede Ultrices Ind...| 10279061213|     5.71|computer programm...|\n",
       "|           Nunc Inc.| 10323485998|     6.61|furniture, home f...|\n",
       "|Facilisis Facilis...| 10342410215|     6.34|computers, comput...|\n",
       "|      Odio Institute| 10346855916|     3.57|equipment, tool, ...|\n",
       "|    Rutrum Justo Ltd| 10364012396|     3.63|music shops - mus...|\n",
       "|   Tellus Foundation| 10385011947|     3.17|artist supply and...|\n",
       "|      Sed Et Company| 10385163239|     6.61|florists supplies...|\n",
       "|              Id Ltd| 10385250025|     5.54|computers, comput...|\n",
       "|Consequat Foundation| 10404542215|     6.93|antique shops - s...|\n",
       "|Sit Amet Nulla Corp.| 10430380319|     4.97|motor vehicle sup...|\n",
       "|Massa Vestibulum ...| 10441711491|     5.77|motor vehicle sup...|\n",
       "|       Ut Consulting| 10462560289|     2.95|gift, card, novel...|\n",
       "+--------------------+------------+---------+--------------------+\n",
       "only showing top 20 rows"
      ]
     },
     "execution_count": 12,
     "metadata": {},
     "output_type": "execute_result"
    }
   ],
   "source": [
    "merchant_df"
   ]
  },
  {
   "cell_type": "code",
   "execution_count": 13,
   "id": "fb984b24",
   "metadata": {},
   "outputs": [],
   "source": [
    "merchant_type = merchant_df.groupBy('type')\\\n",
    "                  .agg(F.count('type').alias('count'), )\\\n",
    "                  .toPandas()\n",
    "merchant_type['index'] = merchant_type.index+1"
   ]
  },
  {
   "cell_type": "code",
   "execution_count": 14,
   "id": "d948c960",
   "metadata": {
    "scrolled": true
   },
   "outputs": [
    {
     "data": {
      "text/html": [
       "<div>\n",
       "<style scoped>\n",
       "    .dataframe tbody tr th:only-of-type {\n",
       "        vertical-align: middle;\n",
       "    }\n",
       "\n",
       "    .dataframe tbody tr th {\n",
       "        vertical-align: top;\n",
       "    }\n",
       "\n",
       "    .dataframe thead th {\n",
       "        text-align: right;\n",
       "    }\n",
       "</style>\n",
       "<table border=\"1\" class=\"dataframe\">\n",
       "  <thead>\n",
       "    <tr style=\"text-align: right;\">\n",
       "      <th></th>\n",
       "      <th>type</th>\n",
       "      <th>count</th>\n",
       "      <th>index</th>\n",
       "    </tr>\n",
       "  </thead>\n",
       "  <tbody>\n",
       "    <tr>\n",
       "      <th>0</th>\n",
       "      <td>opticians, optical goods, and eyeglasses</td>\n",
       "      <td>151</td>\n",
       "      <td>1</td>\n",
       "    </tr>\n",
       "    <tr>\n",
       "      <th>1</th>\n",
       "      <td>watch, clock, and jewelry repair shops</td>\n",
       "      <td>170</td>\n",
       "      <td>2</td>\n",
       "    </tr>\n",
       "    <tr>\n",
       "      <th>2</th>\n",
       "      <td>computer programming , data processing, and in...</td>\n",
       "      <td>191</td>\n",
       "      <td>3</td>\n",
       "    </tr>\n",
       "    <tr>\n",
       "      <th>3</th>\n",
       "      <td>digital goods: books, movies, music</td>\n",
       "      <td>195</td>\n",
       "      <td>4</td>\n",
       "    </tr>\n",
       "    <tr>\n",
       "      <th>4</th>\n",
       "      <td>books, periodicals, and newspapers</td>\n",
       "      <td>164</td>\n",
       "      <td>5</td>\n",
       "    </tr>\n",
       "    <tr>\n",
       "      <th>5</th>\n",
       "      <td>florists supplies, nursery stock, and flowers</td>\n",
       "      <td>180</td>\n",
       "      <td>6</td>\n",
       "    </tr>\n",
       "    <tr>\n",
       "      <th>6</th>\n",
       "      <td>art dealers and galleries</td>\n",
       "      <td>112</td>\n",
       "      <td>7</td>\n",
       "    </tr>\n",
       "    <tr>\n",
       "      <th>7</th>\n",
       "      <td>antique shops - sales, repairs, and restoratio...</td>\n",
       "      <td>129</td>\n",
       "      <td>8</td>\n",
       "    </tr>\n",
       "    <tr>\n",
       "      <th>8</th>\n",
       "      <td>gift, card, novelty, and souvenir shops</td>\n",
       "      <td>182</td>\n",
       "      <td>9</td>\n",
       "    </tr>\n",
       "    <tr>\n",
       "      <th>9</th>\n",
       "      <td>equipment, tool, furniture, and appliance rent...</td>\n",
       "      <td>134</td>\n",
       "      <td>10</td>\n",
       "    </tr>\n",
       "    <tr>\n",
       "      <th>10</th>\n",
       "      <td>cable, satellite, and other pay television and...</td>\n",
       "      <td>175</td>\n",
       "      <td>11</td>\n",
       "    </tr>\n",
       "    <tr>\n",
       "      <th>11</th>\n",
       "      <td>tent and awning shops</td>\n",
       "      <td>178</td>\n",
       "      <td>12</td>\n",
       "    </tr>\n",
       "    <tr>\n",
       "      <th>12</th>\n",
       "      <td>artist supply and craft shops</td>\n",
       "      <td>193</td>\n",
       "      <td>13</td>\n",
       "    </tr>\n",
       "    <tr>\n",
       "      <th>13</th>\n",
       "      <td>stationery, office supplies and printing and w...</td>\n",
       "      <td>161</td>\n",
       "      <td>14</td>\n",
       "    </tr>\n",
       "    <tr>\n",
       "      <th>14</th>\n",
       "      <td>furniture, home furnishings and equipment shop...</td>\n",
       "      <td>182</td>\n",
       "      <td>15</td>\n",
       "    </tr>\n",
       "    <tr>\n",
       "      <th>15</th>\n",
       "      <td>telecom</td>\n",
       "      <td>125</td>\n",
       "      <td>16</td>\n",
       "    </tr>\n",
       "    <tr>\n",
       "      <th>16</th>\n",
       "      <td>jewelry, watch, clock, and silverware shops</td>\n",
       "      <td>91</td>\n",
       "      <td>17</td>\n",
       "    </tr>\n",
       "    <tr>\n",
       "      <th>17</th>\n",
       "      <td>shoe shops</td>\n",
       "      <td>185</td>\n",
       "      <td>18</td>\n",
       "    </tr>\n",
       "    <tr>\n",
       "      <th>18</th>\n",
       "      <td>hobby, toy and game shops</td>\n",
       "      <td>142</td>\n",
       "      <td>19</td>\n",
       "    </tr>\n",
       "    <tr>\n",
       "      <th>19</th>\n",
       "      <td>computers, computer peripheral equipment, and ...</td>\n",
       "      <td>181</td>\n",
       "      <td>20</td>\n",
       "    </tr>\n",
       "    <tr>\n",
       "      <th>20</th>\n",
       "      <td>music shops - musical instruments, pianos, and...</td>\n",
       "      <td>167</td>\n",
       "      <td>21</td>\n",
       "    </tr>\n",
       "    <tr>\n",
       "      <th>21</th>\n",
       "      <td>health and beauty spas</td>\n",
       "      <td>164</td>\n",
       "      <td>22</td>\n",
       "    </tr>\n",
       "    <tr>\n",
       "      <th>22</th>\n",
       "      <td>lawn and garden supply outlets, including nurs...</td>\n",
       "      <td>153</td>\n",
       "      <td>23</td>\n",
       "    </tr>\n",
       "    <tr>\n",
       "      <th>23</th>\n",
       "      <td>motor vehicle supplies and new parts</td>\n",
       "      <td>151</td>\n",
       "      <td>24</td>\n",
       "    </tr>\n",
       "    <tr>\n",
       "      <th>24</th>\n",
       "      <td>bicycle shops - sales and service</td>\n",
       "      <td>170</td>\n",
       "      <td>25</td>\n",
       "    </tr>\n",
       "  </tbody>\n",
       "</table>\n",
       "</div>"
      ],
      "text/plain": [
       "                                                 type  count  index\n",
       "0            opticians, optical goods, and eyeglasses    151      1\n",
       "1              watch, clock, and jewelry repair shops    170      2\n",
       "2   computer programming , data processing, and in...    191      3\n",
       "3                 digital goods: books, movies, music    195      4\n",
       "4                  books, periodicals, and newspapers    164      5\n",
       "5       florists supplies, nursery stock, and flowers    180      6\n",
       "6                           art dealers and galleries    112      7\n",
       "7   antique shops - sales, repairs, and restoratio...    129      8\n",
       "8             gift, card, novelty, and souvenir shops    182      9\n",
       "9   equipment, tool, furniture, and appliance rent...    134     10\n",
       "10  cable, satellite, and other pay television and...    175     11\n",
       "11                              tent and awning shops    178     12\n",
       "12                      artist supply and craft shops    193     13\n",
       "13  stationery, office supplies and printing and w...    161     14\n",
       "14  furniture, home furnishings and equipment shop...    182     15\n",
       "15                                            telecom    125     16\n",
       "16        jewelry, watch, clock, and silverware shops     91     17\n",
       "17                                         shoe shops    185     18\n",
       "18                          hobby, toy and game shops    142     19\n",
       "19  computers, computer peripheral equipment, and ...    181     20\n",
       "20  music shops - musical instruments, pianos, and...    167     21\n",
       "21                             health and beauty spas    164     22\n",
       "22  lawn and garden supply outlets, including nurs...    153     23\n",
       "23               motor vehicle supplies and new parts    151     24\n",
       "24                  bicycle shops - sales and service    170     25"
      ]
     },
     "execution_count": 14,
     "metadata": {},
     "output_type": "execute_result"
    }
   ],
   "source": [
    "merchant_type"
   ]
  },
  {
   "cell_type": "code",
   "execution_count": 15,
   "id": "531bd700",
   "metadata": {
    "scrolled": true
   },
   "outputs": [
    {
     "data": {
      "text/plain": [
       "Text(0.5, 1.0, 'the number of merchants for each type')"
      ]
     },
     "execution_count": 15,
     "metadata": {},
     "output_type": "execute_result"
    },
    {
     "data": {
      "image/png": "[encoded data removed]",
      "text/plain": [
       "<Figure size 432x288 with 1 Axes>"
      ]
     },
     "metadata": {
      "needs_background": "light"
     },
     "output_type": "display_data"
    }
   ],
   "source": [
    "merchant_type.plot.bar(x='index', y='count')\n",
    "plt.xlabel('type_index')\n",
    "plt.title('the number of merchants for each type')"
   ]
  },
  {
   "cell_type": "code",
   "execution_count": 16,
   "id": "7b6163b1",
   "metadata": {},
   "outputs": [],
   "source": [
    "transactions_df = raw_transactions_df.join(merchant_df, raw_transactions_df.merchant_abn == merchant_df.merchant_abn, 'inner')\\\n",
    "                           .join(consumer_df, raw_transactions_df.user_id == consumer_df.user_id, 'inner')\\\n",
    "                           .drop('consumer_id', 'consumer_name')\\\n",
    "                           .drop(consumer_df.user_id)\\\n",
    "                           .drop(raw_transactions_df.merchant_abn)"
   ]
  },
  {
   "cell_type": "code",
   "execution_count": 17,
   "id": "230d9dc5",
   "metadata": {
    "scrolled": true
   },
   "outputs": [
    {
     "name": "stderr",
     "output_type": "stream",
     "text": [
      "                                                                                \r"
     ]
    },
    {
     "data": {
      "text/plain": [
       "(12561377, 12047317)"
      ]
     },
     "execution_count": 17,
     "metadata": {},
     "output_type": "execute_result"
    }
   ],
   "source": [
    "raw_transactions_df.count(), transactions_df.count()"
   ]
  },
  {
   "cell_type": "markdown",
   "id": "96e7a0e4",
   "metadata": {},
   "source": [
    "Since some merchant abns from the transaction data do not match with any merchant from the merchant, we should remove them by inner join with the merchant dataset. About  5% of data are eliminated."
   ]
  },
  {
   "cell_type": "markdown",
   "id": "f11eeae9",
   "metadata": {},
   "source": [
    "We compute the total income, the number of transactions, the mean transaction amount and the profit for each merchant for the preliminary analysis."
   ]
  },
  {
   "cell_type": "code",
   "execution_count": 18,
   "id": "43876e2a",
   "metadata": {},
   "outputs": [],
   "source": [
    "merchant_detail = transactions_df.groupBy('merchant_abn', 'merchant_name', 'type', 'take_rate')\\\n",
    "                  .agg(\n",
    "                       F.round(F.sum('dollar_value'),2).alias('total_income'),\n",
    "                       F.count('merchant_name').alias('total_transactions'), )\\\n",
    "                  .withColumn('mean_transaction_amount',  F.round(F.col('total_income')/F.col('total_transactions')))\\\n",
    "                  .withColumn('BNPL_monthly_profit',  F.round(F.col('total_income')*F.col('take_rate')/100/18))\\\n",
    "                  .orderBy('BNPL_monthly_profit', ascending = False)"
   ]
  },
  {
   "cell_type": "code",
   "execution_count": 19,
   "id": "fc37e4be",
   "metadata": {
    "scrolled": false
   },
   "outputs": [
    {
     "name": "stderr",
     "output_type": "stream",
     "text": [
      "                                                                                \r"
     ]
    },
    {
     "data": {
      "text/html": [
       "<table border='1'>\n",
       "<tr><th>merchant_abn</th><th>merchant_name</th><th>type</th><th>take_rate</th><th>total_income</th><th>total_transactions</th><th>mean_transaction_amount</th><th>BNPL_monthly_profit</th></tr>\n",
       "<tr><td>79827781481</td><td>Amet Risus Inc.</td><td>furniture, home f...</td><td>6.82</td><td>8657277.1</td><td>4251</td><td>2037.0</td><td>32801.0</td></tr>\n",
       "<tr><td>48534649627</td><td>Dignissim Maecena...</td><td>opticians, optica...</td><td>6.64</td><td>8316735.67</td><td>58685</td><td>142.0</td><td>30680.0</td></tr>\n",
       "<tr><td>32361057556</td><td>Orci In Consequat...</td><td>gift, card, novel...</td><td>6.61</td><td>8339994.52</td><td>75853</td><td>110.0</td><td>30626.0</td></tr>\n",
       "<tr><td>86578477987</td><td>Leo In Consulting</td><td>watch, clock, and...</td><td>6.43</td><td>8443178.7</td><td>241336</td><td>35.0</td><td>30161.0</td></tr>\n",
       "<tr><td>38700038932</td><td>Etiam Bibendum In...</td><td>tent and awning s...</td><td>6.31</td><td>8482176.66</td><td>6341</td><td>1338.0</td><td>29735.0</td></tr>\n",
       "<tr><td>45629217853</td><td>Lacus Consulting</td><td>gift, card, novel...</td><td>6.98</td><td>7436925.45</td><td>201830</td><td>37.0</td><td>28839.0</td></tr>\n",
       "<tr><td>96680767841</td><td>Ornare Limited</td><td>motor vehicle sup...</td><td>5.91</td><td>8679874.17</td><td>27541</td><td>315.0</td><td>28499.0</td></tr>\n",
       "<tr><td>21439773999</td><td>Mauris Non Institute</td><td>cable, satellite,...</td><td>6.1</td><td>8337853.96</td><td>106724</td><td>78.0</td><td>28256.0</td></tr>\n",
       "<tr><td>63123845164</td><td>Odio Phasellus In...</td><td>artist supply and...</td><td>6.59</td><td>7570160.92</td><td>10075</td><td>751.0</td><td>27715.0</td></tr>\n",
       "<tr><td>64403598239</td><td>Lobortis Ultrices...</td><td>music shops - mus...</td><td>6.31</td><td>7842635.61</td><td>100394</td><td>78.0</td><td>27493.0</td></tr>\n",
       "<tr><td>82368304209</td><td>Nec Incorporated</td><td>telecom</td><td>5.55</td><td>8559519.37</td><td>4588</td><td>1866.0</td><td>26392.0</td></tr>\n",
       "<tr><td>89726005175</td><td>Est Nunc Consulting</td><td>tent and awning s...</td><td>6.01</td><td>7875721.23</td><td>190960</td><td>41.0</td><td>26296.0</td></tr>\n",
       "<tr><td>94493496784</td><td>Dictum Phasellus ...</td><td>gift, card, novel...</td><td>5.65</td><td>8054257.65</td><td>87649</td><td>92.0</td><td>25281.0</td></tr>\n",
       "<tr><td>49322182190</td><td>Gravida Mauris In...</td><td>watch, clock, and...</td><td>6.35</td><td>6951140.73</td><td>45950</td><td>151.0</td><td>24522.0</td></tr>\n",
       "<tr><td>40515428545</td><td>Elit Sed Consequa...</td><td>artist supply and...</td><td>5.89</td><td>6892622.58</td><td>11537</td><td>597.0</td><td>22554.0</td></tr>\n",
       "<tr><td>35909341340</td><td>Arcu Sed Eu Incor...</td><td>computer programm...</td><td>4.8</td><td>8417217.01</td><td>33554</td><td>251.0</td><td>22446.0</td></tr>\n",
       "<tr><td>72472909171</td><td>Nullam Consulting</td><td>digital goods: bo...</td><td>6.33</td><td>6333215.63</td><td>90089</td><td>70.0</td><td>22272.0</td></tr>\n",
       "<tr><td>79417999332</td><td>Phasellus At Company</td><td>gift, card, novel...</td><td>4.95</td><td>8082526.42</td><td>87905</td><td>92.0</td><td>22227.0</td></tr>\n",
       "<tr><td>67978471888</td><td>Magna Malesuada C...</td><td>artist supply and...</td><td>5.56</td><td>7150835.6</td><td>11023</td><td>649.0</td><td>22088.0</td></tr>\n",
       "<tr><td>98166254020</td><td>Magna Sed Industries</td><td>art dealers and g...</td><td>5.96</td><td>6560361.51</td><td>3575</td><td>1835.0</td><td>21722.0</td></tr>\n",
       "</table>\n",
       "only showing top 20 rows\n"
      ],
      "text/plain": [
       "+------------+--------------------+--------------------+---------+------------+------------------+-----------------------+-------------------+\n",
       "|merchant_abn|       merchant_name|                type|take_rate|total_income|total_transactions|mean_transaction_amount|BNPL_monthly_profit|\n",
       "+------------+--------------------+--------------------+---------+------------+------------------+-----------------------+-------------------+\n",
       "| 79827781481|     Amet Risus Inc.|furniture, home f...|     6.82|   8657277.1|              4251|                 2037.0|            32801.0|\n",
       "| 48534649627|Dignissim Maecena...|opticians, optica...|     6.64|  8316735.67|             58685|                  142.0|            30680.0|\n",
       "| 32361057556|Orci In Consequat...|gift, card, novel...|     6.61|  8339994.52|             75853|                  110.0|            30626.0|\n",
       "| 86578477987|   Leo In Consulting|watch, clock, and...|     6.43|   8443178.7|            241336|                   35.0|            30161.0|\n",
       "| 38700038932|Etiam Bibendum In...|tent and awning s...|     6.31|  8482176.66|              6341|                 1338.0|            29735.0|\n",
       "| 45629217853|    Lacus Consulting|gift, card, novel...|     6.98|  7436925.45|            201830|                   37.0|            28839.0|\n",
       "| 96680767841|      Ornare Limited|motor vehicle sup...|     5.91|  8679874.17|             27541|                  315.0|            28499.0|\n",
       "| 21439773999|Mauris Non Institute|cable, satellite,...|      6.1|  8337853.96|            106724|                   78.0|            28256.0|\n",
       "| 63123845164|Odio Phasellus In...|artist supply and...|     6.59|  7570160.92|             10075|                  751.0|            27715.0|\n",
       "| 64403598239|Lobortis Ultrices...|music shops - mus...|     6.31|  7842635.61|            100394|                   78.0|            27493.0|\n",
       "| 82368304209|    Nec Incorporated|             telecom|     5.55|  8559519.37|              4588|                 1866.0|            26392.0|\n",
       "| 89726005175| Est Nunc Consulting|tent and awning s...|     6.01|  7875721.23|            190960|                   41.0|            26296.0|\n",
       "| 94493496784|Dictum Phasellus ...|gift, card, novel...|     5.65|  8054257.65|             87649|                   92.0|            25281.0|\n",
       "| 49322182190|Gravida Mauris In...|watch, clock, and...|     6.35|  6951140.73|             45950|                  151.0|            24522.0|\n",
       "| 40515428545|Elit Sed Consequa...|artist supply and...|     5.89|  6892622.58|             11537|                  597.0|            22554.0|\n",
       "| 35909341340|Arcu Sed Eu Incor...|computer programm...|      4.8|  8417217.01|             33554|                  251.0|            22446.0|\n",
       "| 72472909171|   Nullam Consulting|digital goods: bo...|     6.33|  6333215.63|             90089|                   70.0|            22272.0|\n",
       "| 79417999332|Phasellus At Company|gift, card, novel...|     4.95|  8082526.42|             87905|                   92.0|            22227.0|\n",
       "| 67978471888|Magna Malesuada C...|artist supply and...|     5.56|   7150835.6|             11023|                  649.0|            22088.0|\n",
       "| 98166254020|Magna Sed Industries|art dealers and g...|     5.96|  6560361.51|              3575|                 1835.0|            21722.0|\n",
       "+------------+--------------------+--------------------+---------+------------+------------------+-----------------------+-------------------+\n",
       "only showing top 20 rows"
      ]
     },
     "execution_count": 19,
     "metadata": {},
     "output_type": "execute_result"
    }
   ],
   "source": [
    "merchant_detail"
   ]
  },
  {
   "cell_type": "code",
   "execution_count": 20,
   "id": "e3570cbf",
   "metadata": {
    "scrolled": true
   },
   "outputs": [
    {
     "name": "stderr",
     "output_type": "stream",
     "text": [
      "                                                                                \r"
     ]
    },
    {
     "data": {
      "text/plain": [
       "(4026, 4026)"
      ]
     },
     "execution_count": 20,
     "metadata": {},
     "output_type": "execute_result"
    }
   ],
   "source": [
    "merchant_detail.count(), merchant_df.count()"
   ]
  },
  {
   "cell_type": "code",
   "execution_count": 21,
   "id": "e49fb9c8",
   "metadata": {},
   "outputs": [
    {
     "name": "stderr",
     "output_type": "stream",
     "text": [
      "                                                                                \r"
     ]
    }
   ],
   "source": [
    "merchant_detail.write.mode('overwrite').parquet('../data/curated/merchant_detail.parquet')"
   ]
  },
  {
   "cell_type": "code",
   "execution_count": null,
   "id": "ba18e094",
   "metadata": {},
   "outputs": [
    {
     "name": "stderr",
     "output_type": "stream",
     "text": [
      "[Stage 135:>                                                       (0 + 8) / 19]\r"
     ]
    }
   ],
   "source": [
    "transactions_df.write.mode('overwrite').parquet('../data/curated/transactions_detail.parquet')"
   ]
  },
  {
   "cell_type": "markdown",
   "id": "9ce96ef9",
   "metadata": {},
   "source": [
    "# 3. Preliminarily check distribution of data"
   ]
  },
  {
   "cell_type": "code",
   "execution_count": null,
   "id": "692e1f26",
   "metadata": {},
   "outputs": [],
   "source": [
    "bins, counts = merchant_detail.select('BNPL_monthly_profit').rdd.flatMap(lambda x: x).histogram(200)\n",
    "plt.hist(bins[:-1], bins=bins, weights=counts)\n",
    "plt.ylabel('Frequency')\n",
    "plt.xlabel('monthly_profit (dollar)')\n",
    "plt.title('Histogram graph of monthly profit')\n",
    "plt.show()"
   ]
  },
  {
   "cell_type": "code",
   "execution_count": null,
   "id": "74cef7dd",
   "metadata": {},
   "outputs": [],
   "source": [
    "bins, counts = merchant_detail.select('total_transactions').rdd.flatMap(lambda x: x).histogram(200)\n",
    "plt.hist(bins[:-1], bins=bins, weights=counts)\n",
    "plt.ylabel('Frequency')\n",
    "plt.xlabel('transaction frequency')\n",
    "plt.title('Histogram graph of total transactions')\n",
    "plt.show()"
   ]
  },
  {
   "cell_type": "code",
   "execution_count": null,
   "id": "8393fc7a",
   "metadata": {
    "scrolled": true
   },
   "outputs": [],
   "source": [
    "bins, counts = merchant_detail.select('mean_transaction_amount').rdd.flatMap(lambda x: x).histogram(200)\n",
    "plt.hist(bins[:-1], bins=bins, weights=counts)\n",
    "plt.ylabel('Frequency')\n",
    "plt.xlabel('mean transaction (dollar)')\n",
    "plt.title('Histogram graph of mean transaction amount')\n",
    "plt.show()"
   ]
  },
  {
   "cell_type": "markdown",
   "id": "03fa2c14",
   "metadata": {},
   "source": [
    "There are some extremely large values, outliers elimination and data transformation may be needed."
   ]
  }
 ],
 "metadata": {
  "kernelspec": {
   "display_name": "Python 3 (ipykernel)",
   "language": "python",
   "name": "python3"
  },
  "language_info": {
   "codemirror_mode": {
    "name": "ipython",
    "version": 3
   },
   "file_extension": ".py",
   "mimetype": "text/x-python",
   "name": "python",
   "nbconvert_exporter": "python",
   "pygments_lexer": "ipython3",
   "version": "3.8.10"
  }
 },
 "nbformat": 4,
 "nbformat_minor": 5
}
