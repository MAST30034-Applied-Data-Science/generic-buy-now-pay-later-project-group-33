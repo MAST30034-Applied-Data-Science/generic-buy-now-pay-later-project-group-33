{
 "cells": [
  {
   "cell_type": "code",
   "execution_count": 91,
   "id": "6d40e99f",
   "metadata": {},
   "outputs": [],
   "source": [
    "from pyspark.sql import functions as F\n",
    "from pyspark.sql.functions import *\n",
    "import matplotlib.pyplot as plt\n",
    "import pandas as pd\n",
    "import numpy as np"
   ]
  },
  {
   "cell_type": "markdown",
   "id": "97c81dfb",
   "metadata": {},
   "source": [
    "# Missing values"
   ]
  },
  {
   "cell_type": "markdown",
   "id": "81a2db36",
   "metadata": {},
   "source": [
    "As discussed in the preliminary analysis, there is not any null value in the consumer, merchant and transaction data."
   ]
  },
  {
   "cell_type": "code",
   "execution_count": 92,
   "id": "07144987",
   "metadata": {},
   "outputs": [],
   "source": [
    "raw_income_df = pd.read_csv(\"../data/income/2021_income.csv\").sort_values('POA_CODE_2021')"
   ]
  },
  {
   "cell_type": "code",
   "execution_count": 94,
   "id": "f4c587b2",
   "metadata": {},
   "outputs": [
    {
     "data": {
      "text/html": [
       "<div>\n",
       "<style scoped>\n",
       "    .dataframe tbody tr th:only-of-type {\n",
       "        vertical-align: middle;\n",
       "    }\n",
       "\n",
       "    .dataframe tbody tr th {\n",
       "        vertical-align: top;\n",
       "    }\n",
       "\n",
       "    .dataframe thead th {\n",
       "        text-align: right;\n",
       "    }\n",
       "</style>\n",
       "<table border=\"1\" class=\"dataframe\">\n",
       "  <thead>\n",
       "    <tr style=\"text-align: right;\">\n",
       "      <th></th>\n",
       "      <th>postcode</th>\n",
       "      <th>Median_tot_prsnl_inc_weekly</th>\n",
       "    </tr>\n",
       "  </thead>\n",
       "  <tbody>\n",
       "    <tr>\n",
       "      <th>2579</th>\n",
       "      <td>800</td>\n",
       "      <td>1236</td>\n",
       "    </tr>\n",
       "    <tr>\n",
       "      <th>2580</th>\n",
       "      <td>810</td>\n",
       "      <td>1058</td>\n",
       "    </tr>\n",
       "    <tr>\n",
       "      <th>2581</th>\n",
       "      <td>812</td>\n",
       "      <td>979</td>\n",
       "    </tr>\n",
       "    <tr>\n",
       "      <th>2582</th>\n",
       "      <td>820</td>\n",
       "      <td>1271</td>\n",
       "    </tr>\n",
       "    <tr>\n",
       "      <th>2583</th>\n",
       "      <td>822</td>\n",
       "      <td>298</td>\n",
       "    </tr>\n",
       "    <tr>\n",
       "      <th>...</th>\n",
       "      <td>...</td>\n",
       "      <td>...</td>\n",
       "    </tr>\n",
       "    <tr>\n",
       "      <th>2576</th>\n",
       "      <td>7468</td>\n",
       "      <td>722</td>\n",
       "    </tr>\n",
       "    <tr>\n",
       "      <th>2577</th>\n",
       "      <td>7469</td>\n",
       "      <td>503</td>\n",
       "    </tr>\n",
       "    <tr>\n",
       "      <th>2578</th>\n",
       "      <td>7470</td>\n",
       "      <td>524</td>\n",
       "    </tr>\n",
       "    <tr>\n",
       "      <th>2641</th>\n",
       "      <td>9494</td>\n",
       "      <td>0</td>\n",
       "    </tr>\n",
       "    <tr>\n",
       "      <th>2642</th>\n",
       "      <td>9797</td>\n",
       "      <td>1887</td>\n",
       "    </tr>\n",
       "  </tbody>\n",
       "</table>\n",
       "<p>2643 rows × 2 columns</p>\n",
       "</div>"
      ],
      "text/plain": [
       "      postcode  Median_tot_prsnl_inc_weekly\n",
       "2579       800                         1236\n",
       "2580       810                         1058\n",
       "2581       812                          979\n",
       "2582       820                         1271\n",
       "2583       822                          298\n",
       "...        ...                          ...\n",
       "2576      7468                          722\n",
       "2577      7469                          503\n",
       "2578      7470                          524\n",
       "2641      9494                            0\n",
       "2642      9797                         1887\n",
       "\n",
       "[2643 rows x 2 columns]"
      ]
     },
     "execution_count": 94,
     "metadata": {},
     "output_type": "execute_result"
    }
   ],
   "source": [
    "income_df = raw_income_df[['POA_CODE_2021', 'Median_tot_prsnl_inc_weekly']].rename(columns={'POA_CODE_2021': 'postcode'})\n",
    "income_df"
   ]
  },
  {
   "cell_type": "code",
   "execution_count": 95,
   "id": "75e0efc2",
   "metadata": {
    "scrolled": true
   },
   "outputs": [
    {
     "data": {
      "text/html": [
       "<div>\n",
       "<style scoped>\n",
       "    .dataframe tbody tr th:only-of-type {\n",
       "        vertical-align: middle;\n",
       "    }\n",
       "\n",
       "    .dataframe tbody tr th {\n",
       "        vertical-align: top;\n",
       "    }\n",
       "\n",
       "    .dataframe thead th {\n",
       "        text-align: right;\n",
       "    }\n",
       "</style>\n",
       "<table border=\"1\" class=\"dataframe\">\n",
       "  <thead>\n",
       "    <tr style=\"text-align: right;\">\n",
       "      <th></th>\n",
       "      <th>postcode</th>\n",
       "      <th>Median_tot_prsnl_inc_weekly</th>\n",
       "    </tr>\n",
       "  </thead>\n",
       "  <tbody>\n",
       "    <tr>\n",
       "      <th>2205</th>\n",
       "      <td>6182</td>\n",
       "      <td>0</td>\n",
       "    </tr>\n",
       "    <tr>\n",
       "      <th>2641</th>\n",
       "      <td>9494</td>\n",
       "      <td>0</td>\n",
       "    </tr>\n",
       "  </tbody>\n",
       "</table>\n",
       "</div>"
      ],
      "text/plain": [
       "      postcode  Median_tot_prsnl_inc_weekly\n",
       "2205      6182                            0\n",
       "2641      9494                            0"
      ]
     },
     "execution_count": 95,
     "metadata": {},
     "output_type": "execute_result"
    }
   ],
   "source": [
    "income_df[income_df['Median_tot_prsnl_inc_weekly'] == 0]"
   ]
  },
  {
   "cell_type": "code",
   "execution_count": 96,
   "id": "808f7fa2",
   "metadata": {},
   "outputs": [],
   "source": [
    "consumer_df = pd.read_csv('../data/tables/tbl_consumer.csv')"
   ]
  },
  {
   "cell_type": "code",
   "execution_count": 105,
   "id": "cef735b2",
   "metadata": {
    "scrolled": false
   },
   "outputs": [
    {
     "data": {
      "text/html": [
       "<div>\n",
       "<style scoped>\n",
       "    .dataframe tbody tr th:only-of-type {\n",
       "        vertical-align: middle;\n",
       "    }\n",
       "\n",
       "    .dataframe tbody tr th {\n",
       "        vertical-align: top;\n",
       "    }\n",
       "\n",
       "    .dataframe thead th {\n",
       "        text-align: right;\n",
       "    }\n",
       "</style>\n",
       "<table border=\"1\" class=\"dataframe\">\n",
       "  <thead>\n",
       "    <tr style=\"text-align: right;\">\n",
       "      <th></th>\n",
       "      <th>name</th>\n",
       "      <th>address</th>\n",
       "      <th>state</th>\n",
       "      <th>postcode</th>\n",
       "      <th>gender</th>\n",
       "      <th>consumer_id</th>\n",
       "    </tr>\n",
       "  </thead>\n",
       "  <tbody>\n",
       "    <tr>\n",
       "      <th>1171</th>\n",
       "      <td>Christopher Williams</td>\n",
       "      <td>88158 Rogers Mews</td>\n",
       "      <td>WA</td>\n",
       "      <td>6182</td>\n",
       "      <td>Male</td>\n",
       "      <td>710913</td>\n",
       "    </tr>\n",
       "    <tr>\n",
       "      <th>1608</th>\n",
       "      <td>Charles Choi</td>\n",
       "      <td>3437 Davis Loop Apt. 339</td>\n",
       "      <td>WA</td>\n",
       "      <td>6182</td>\n",
       "      <td>Male</td>\n",
       "      <td>1373799</td>\n",
       "    </tr>\n",
       "    <tr>\n",
       "      <th>2957</th>\n",
       "      <td>Katelyn Huffman</td>\n",
       "      <td>73706 Stephens Centers</td>\n",
       "      <td>WA</td>\n",
       "      <td>6182</td>\n",
       "      <td>Female</td>\n",
       "      <td>395793</td>\n",
       "    </tr>\n",
       "    <tr>\n",
       "      <th>3303</th>\n",
       "      <td>Steven Morrison</td>\n",
       "      <td>2423 Walter Square Apt. 390</td>\n",
       "      <td>WA</td>\n",
       "      <td>6182</td>\n",
       "      <td>Male</td>\n",
       "      <td>361676</td>\n",
       "    </tr>\n",
       "    <tr>\n",
       "      <th>7005</th>\n",
       "      <td>Larry Roman</td>\n",
       "      <td>30521 Whitney Square</td>\n",
       "      <td>WA</td>\n",
       "      <td>6182</td>\n",
       "      <td>Male</td>\n",
       "      <td>1272657</td>\n",
       "    </tr>\n",
       "    <tr>\n",
       "      <th>...</th>\n",
       "      <td>...</td>\n",
       "      <td>...</td>\n",
       "      <td>...</td>\n",
       "      <td>...</td>\n",
       "      <td>...</td>\n",
       "      <td>...</td>\n",
       "    </tr>\n",
       "    <tr>\n",
       "      <th>494595</th>\n",
       "      <td>Brandy Frazier</td>\n",
       "      <td>7912 Hopkins Summit Apt. 055</td>\n",
       "      <td>WA</td>\n",
       "      <td>6182</td>\n",
       "      <td>Female</td>\n",
       "      <td>848810</td>\n",
       "    </tr>\n",
       "    <tr>\n",
       "      <th>494619</th>\n",
       "      <td>Norma Ryan</td>\n",
       "      <td>0735 Clark Court Apt. 563</td>\n",
       "      <td>WA</td>\n",
       "      <td>6182</td>\n",
       "      <td>Female</td>\n",
       "      <td>1263984</td>\n",
       "    </tr>\n",
       "    <tr>\n",
       "      <th>494874</th>\n",
       "      <td>James Olson</td>\n",
       "      <td>2941 Thompson Ridge Suite 663</td>\n",
       "      <td>WA</td>\n",
       "      <td>6182</td>\n",
       "      <td>Male</td>\n",
       "      <td>805630</td>\n",
       "    </tr>\n",
       "    <tr>\n",
       "      <th>496992</th>\n",
       "      <td>Dawn Hall</td>\n",
       "      <td>82980 Hawkins Glens Suite 271</td>\n",
       "      <td>WA</td>\n",
       "      <td>6182</td>\n",
       "      <td>Female</td>\n",
       "      <td>993915</td>\n",
       "    </tr>\n",
       "    <tr>\n",
       "      <th>498798</th>\n",
       "      <td>Luis Allen</td>\n",
       "      <td>95466 Rodriguez Groves Suite 802</td>\n",
       "      <td>WA</td>\n",
       "      <td>6182</td>\n",
       "      <td>Male</td>\n",
       "      <td>746941</td>\n",
       "    </tr>\n",
       "  </tbody>\n",
       "</table>\n",
       "<p>159 rows × 6 columns</p>\n",
       "</div>"
      ],
      "text/plain": [
       "                        name                           address state  \\\n",
       "1171    Christopher Williams                 88158 Rogers Mews    WA   \n",
       "1608            Charles Choi          3437 Davis Loop Apt. 339    WA   \n",
       "2957         Katelyn Huffman            73706 Stephens Centers    WA   \n",
       "3303         Steven Morrison       2423 Walter Square Apt. 390    WA   \n",
       "7005             Larry Roman              30521 Whitney Square    WA   \n",
       "...                      ...                               ...   ...   \n",
       "494595        Brandy Frazier      7912 Hopkins Summit Apt. 055    WA   \n",
       "494619            Norma Ryan         0735 Clark Court Apt. 563    WA   \n",
       "494874           James Olson     2941 Thompson Ridge Suite 663    WA   \n",
       "496992             Dawn Hall     82980 Hawkins Glens Suite 271    WA   \n",
       "498798            Luis Allen  95466 Rodriguez Groves Suite 802    WA   \n",
       "\n",
       "        postcode  gender  consumer_id  \n",
       "1171        6182    Male       710913  \n",
       "1608        6182    Male      1373799  \n",
       "2957        6182  Female       395793  \n",
       "3303        6182    Male       361676  \n",
       "7005        6182    Male      1272657  \n",
       "...          ...     ...          ...  \n",
       "494595      6182  Female       848810  \n",
       "494619      6182  Female      1263984  \n",
       "494874      6182    Male       805630  \n",
       "496992      6182  Female       993915  \n",
       "498798      6182    Male       746941  \n",
       "\n",
       "[159 rows x 6 columns]"
      ]
     },
     "execution_count": 105,
     "metadata": {},
     "output_type": "execute_result"
    }
   ],
   "source": [
    "consumer_df[consumer_df['postcode'] == 6182]"
   ]
  },
  {
   "cell_type": "code",
   "execution_count": 106,
   "id": "5110688d",
   "metadata": {
    "scrolled": false
   },
   "outputs": [
    {
     "data": {
      "text/html": [
       "<div>\n",
       "<style scoped>\n",
       "    .dataframe tbody tr th:only-of-type {\n",
       "        vertical-align: middle;\n",
       "    }\n",
       "\n",
       "    .dataframe tbody tr th {\n",
       "        vertical-align: top;\n",
       "    }\n",
       "\n",
       "    .dataframe thead th {\n",
       "        text-align: right;\n",
       "    }\n",
       "</style>\n",
       "<table border=\"1\" class=\"dataframe\">\n",
       "  <thead>\n",
       "    <tr style=\"text-align: right;\">\n",
       "      <th></th>\n",
       "      <th>name</th>\n",
       "      <th>address</th>\n",
       "      <th>state</th>\n",
       "      <th>postcode</th>\n",
       "      <th>gender</th>\n",
       "      <th>consumer_id</th>\n",
       "    </tr>\n",
       "  </thead>\n",
       "  <tbody>\n",
       "  </tbody>\n",
       "</table>\n",
       "</div>"
      ],
      "text/plain": [
       "Empty DataFrame\n",
       "Columns: [name, address, state, postcode, gender, consumer_id]\n",
       "Index: []"
      ]
     },
     "execution_count": 106,
     "metadata": {},
     "output_type": "execute_result"
    }
   ],
   "source": [
    "consumer_df[consumer_df['postcode'] == 9494]"
   ]
  },
  {
   "cell_type": "markdown",
   "id": "56c4e1ec",
   "metadata": {},
   "source": [
    "In the income data, the data of areas with postcode 6182 and 9494 is missing. Since no consumer from the consumer dataset lives in the area with postcode 9494, we will ignore this area and impute the weekly personal income for the area with postcode 6182 using the personal family income of two cloest postal areas. "
   ]
  },
  {
   "cell_type": "code",
   "execution_count": 107,
   "id": "26728f34",
   "metadata": {
    "scrolled": false
   },
   "outputs": [
    {
     "data": {
      "text/html": [
       "<div>\n",
       "<style scoped>\n",
       "    .dataframe tbody tr th:only-of-type {\n",
       "        vertical-align: middle;\n",
       "    }\n",
       "\n",
       "    .dataframe tbody tr th {\n",
       "        vertical-align: top;\n",
       "    }\n",
       "\n",
       "    .dataframe thead th {\n",
       "        text-align: right;\n",
       "    }\n",
       "</style>\n",
       "<table border=\"1\" class=\"dataframe\">\n",
       "  <thead>\n",
       "    <tr style=\"text-align: right;\">\n",
       "      <th></th>\n",
       "      <th>postcode</th>\n",
       "      <th>Median_tot_prsnl_inc_weekly</th>\n",
       "    </tr>\n",
       "  </thead>\n",
       "  <tbody>\n",
       "    <tr>\n",
       "      <th>2202</th>\n",
       "      <td>6176</td>\n",
       "      <td>895.0</td>\n",
       "    </tr>\n",
       "    <tr>\n",
       "      <th>2203</th>\n",
       "      <td>6180</td>\n",
       "      <td>785.0</td>\n",
       "    </tr>\n",
       "    <tr>\n",
       "      <th>2204</th>\n",
       "      <td>6181</td>\n",
       "      <td>900.0</td>\n",
       "    </tr>\n",
       "    <tr>\n",
       "      <th>2205</th>\n",
       "      <td>6182</td>\n",
       "      <td>842.5</td>\n",
       "    </tr>\n",
       "    <tr>\n",
       "      <th>2206</th>\n",
       "      <td>6207</td>\n",
       "      <td>765.0</td>\n",
       "    </tr>\n",
       "    <tr>\n",
       "      <th>...</th>\n",
       "      <td>...</td>\n",
       "      <td>...</td>\n",
       "    </tr>\n",
       "    <tr>\n",
       "      <th>2576</th>\n",
       "      <td>7468</td>\n",
       "      <td>722.0</td>\n",
       "    </tr>\n",
       "    <tr>\n",
       "      <th>2577</th>\n",
       "      <td>7469</td>\n",
       "      <td>503.0</td>\n",
       "    </tr>\n",
       "    <tr>\n",
       "      <th>2578</th>\n",
       "      <td>7470</td>\n",
       "      <td>524.0</td>\n",
       "    </tr>\n",
       "    <tr>\n",
       "      <th>2641</th>\n",
       "      <td>9494</td>\n",
       "      <td>0.0</td>\n",
       "    </tr>\n",
       "    <tr>\n",
       "      <th>2642</th>\n",
       "      <td>9797</td>\n",
       "      <td>1887.0</td>\n",
       "    </tr>\n",
       "  </tbody>\n",
       "</table>\n",
       "<p>381 rows × 2 columns</p>\n",
       "</div>"
      ],
      "text/plain": [
       "      postcode  Median_tot_prsnl_inc_weekly\n",
       "2202      6176                        895.0\n",
       "2203      6180                        785.0\n",
       "2204      6181                        900.0\n",
       "2205      6182                        842.5\n",
       "2206      6207                        765.0\n",
       "...        ...                          ...\n",
       "2576      7468                        722.0\n",
       "2577      7469                        503.0\n",
       "2578      7470                        524.0\n",
       "2641      9494                          0.0\n",
       "2642      9797                       1887.0\n",
       "\n",
       "[381 rows x 2 columns]"
      ]
     },
     "execution_count": 107,
     "metadata": {},
     "output_type": "execute_result"
    }
   ],
   "source": [
    "income_df[income_df['postcode'] >= 6176]"
   ]
  },
  {
   "cell_type": "code",
   "execution_count": 100,
   "id": "edf424e8",
   "metadata": {
    "scrolled": false
   },
   "outputs": [
    {
     "data": {
      "text/html": [
       "<div>\n",
       "<style scoped>\n",
       "    .dataframe tbody tr th:only-of-type {\n",
       "        vertical-align: middle;\n",
       "    }\n",
       "\n",
       "    .dataframe tbody tr th {\n",
       "        vertical-align: top;\n",
       "    }\n",
       "\n",
       "    .dataframe thead th {\n",
       "        text-align: right;\n",
       "    }\n",
       "</style>\n",
       "<table border=\"1\" class=\"dataframe\">\n",
       "  <thead>\n",
       "    <tr style=\"text-align: right;\">\n",
       "      <th></th>\n",
       "      <th>postcode</th>\n",
       "      <th>Median_tot_prsnl_inc_weekly</th>\n",
       "    </tr>\n",
       "  </thead>\n",
       "  <tbody>\n",
       "    <tr>\n",
       "      <th>2205</th>\n",
       "      <td>6182</td>\n",
       "      <td>842.5</td>\n",
       "    </tr>\n",
       "  </tbody>\n",
       "</table>\n",
       "</div>"
      ],
      "text/plain": [
       "      postcode  Median_tot_prsnl_inc_weekly\n",
       "2205      6182                        842.5"
      ]
     },
     "execution_count": 100,
     "metadata": {},
     "output_type": "execute_result"
    }
   ],
   "source": [
    "# Use average income of the areas with postcode 6180 and 6182 to impute the estimated income for the area with postcode 6182. \n",
    "income_df.loc[2205,'Median_tot_prsnl_inc_weekly'] = (785+900)/2\n",
    "income_df[income_df['postcode'] == 6182]"
   ]
  },
  {
   "cell_type": "code",
   "execution_count": 110,
   "id": "621f995d",
   "metadata": {},
   "outputs": [],
   "source": [
    "consumer_with_income = consumer_df.merge(income_df, on='postcode', how='inner')"
   ]
  },
  {
   "cell_type": "code",
   "execution_count": 117,
   "id": "f366ac8e",
   "metadata": {
    "scrolled": true
   },
   "outputs": [
    {
     "data": {
      "text/plain": [
       "(499999, 416818)"
      ]
     },
     "execution_count": 117,
     "metadata": {},
     "output_type": "execute_result"
    }
   ],
   "source": [
    "len(consumer_df),len(consumer_with_income)"
   ]
  },
  {
   "cell_type": "markdown",
   "id": "d56c863c",
   "metadata": {},
   "source": [
    "As mentioned in the preliminary analysis, since some merchant abns from the transaction data do not match with any merchant from the merchant, we should remove them by inner join with the merchant dataset. About 4% of data are eliminated. (12561377, 12047317)"
   ]
  },
  {
   "cell_type": "markdown",
   "id": "f695b506",
   "metadata": {},
   "source": [
    "# Outliers"
   ]
  },
  {
   "cell_type": "markdown",
   "id": "fe0665a5",
   "metadata": {},
   "source": [
    "Since our aim is to rank the merchants, we will remove the outliers with few transactions and low profit."
   ]
  },
  {
   "cell_type": "code",
   "execution_count": 101,
   "id": "f0fe7133",
   "metadata": {
    "scrolled": true
   },
   "outputs": [],
   "source": [
    "merchant_detail = pd.read_parquet('../data/curated/merchant_detail.parquet')"
   ]
  },
  {
   "cell_type": "code",
   "execution_count": 102,
   "id": "c4ac6c33",
   "metadata": {
    "scrolled": true
   },
   "outputs": [
    {
     "data": {
      "text/html": [
       "<div>\n",
       "<style scoped>\n",
       "    .dataframe tbody tr th:only-of-type {\n",
       "        vertical-align: middle;\n",
       "    }\n",
       "\n",
       "    .dataframe tbody tr th {\n",
       "        vertical-align: top;\n",
       "    }\n",
       "\n",
       "    .dataframe thead th {\n",
       "        text-align: right;\n",
       "    }\n",
       "</style>\n",
       "<table border=\"1\" class=\"dataframe\">\n",
       "  <thead>\n",
       "    <tr style=\"text-align: right;\">\n",
       "      <th></th>\n",
       "      <th>merchant_name</th>\n",
       "      <th>tags</th>\n",
       "      <th>take_rate</th>\n",
       "      <th>total_income</th>\n",
       "      <th>total_transactions</th>\n",
       "      <th>mean_transaction_amount</th>\n",
       "      <th>monthly_profit</th>\n",
       "    </tr>\n",
       "  </thead>\n",
       "  <tbody>\n",
       "    <tr>\n",
       "      <th>0</th>\n",
       "      <td>Amet Risus Inc.</td>\n",
       "      <td>([furniture, home furnishings and equipment sh...</td>\n",
       "      <td>6.82</td>\n",
       "      <td>8657277.10</td>\n",
       "      <td>4251</td>\n",
       "      <td>2037.0</td>\n",
       "      <td>32801.0</td>\n",
       "    </tr>\n",
       "    <tr>\n",
       "      <th>1</th>\n",
       "      <td>Dignissim Maecenas Foundation</td>\n",
       "      <td>[[opticians, oPtical goods, and eyeglasses], [...</td>\n",
       "      <td>6.64</td>\n",
       "      <td>8316735.67</td>\n",
       "      <td>58685</td>\n",
       "      <td>142.0</td>\n",
       "      <td>30680.0</td>\n",
       "    </tr>\n",
       "    <tr>\n",
       "      <th>2</th>\n",
       "      <td>Orci In Consequat Corporation</td>\n",
       "      <td>([gift, card, novelty, and souvenir shops], [a...</td>\n",
       "      <td>6.61</td>\n",
       "      <td>8339994.52</td>\n",
       "      <td>75853</td>\n",
       "      <td>110.0</td>\n",
       "      <td>30626.0</td>\n",
       "    </tr>\n",
       "    <tr>\n",
       "      <th>3</th>\n",
       "      <td>Leo In Consulting</td>\n",
       "      <td>[[watch, clock, and jewelry repair shops], [a]...</td>\n",
       "      <td>6.43</td>\n",
       "      <td>8443178.70</td>\n",
       "      <td>241336</td>\n",
       "      <td>35.0</td>\n",
       "      <td>30161.0</td>\n",
       "    </tr>\n",
       "    <tr>\n",
       "      <th>4</th>\n",
       "      <td>Etiam Bibendum Industries</td>\n",
       "      <td>[(tent and awning shops), (a), (take rate: 6.31)]</td>\n",
       "      <td>6.31</td>\n",
       "      <td>8482176.66</td>\n",
       "      <td>6341</td>\n",
       "      <td>1338.0</td>\n",
       "      <td>29735.0</td>\n",
       "    </tr>\n",
       "    <tr>\n",
       "      <th>...</th>\n",
       "      <td>...</td>\n",
       "      <td>...</td>\n",
       "      <td>...</td>\n",
       "      <td>...</td>\n",
       "      <td>...</td>\n",
       "      <td>...</td>\n",
       "      <td>...</td>\n",
       "    </tr>\n",
       "    <tr>\n",
       "      <th>4021</th>\n",
       "      <td>Feugiat Nec Diam LLC</td>\n",
       "      <td>([computers, computer peripheral equipment, an...</td>\n",
       "      <td>0.30</td>\n",
       "      <td>18710.78</td>\n",
       "      <td>703</td>\n",
       "      <td>27.0</td>\n",
       "      <td>3.0</td>\n",
       "    </tr>\n",
       "    <tr>\n",
       "      <th>4022</th>\n",
       "      <td>Proin Vel Inc.</td>\n",
       "      <td>[[stationery, office supplies and printing and...</td>\n",
       "      <td>0.16</td>\n",
       "      <td>21967.78</td>\n",
       "      <td>31</td>\n",
       "      <td>709.0</td>\n",
       "      <td>2.0</td>\n",
       "    </tr>\n",
       "    <tr>\n",
       "      <th>4023</th>\n",
       "      <td>Hendrerit Donec Limited</td>\n",
       "      <td>[(digital goods: books, movies, music), (e), (...</td>\n",
       "      <td>0.18</td>\n",
       "      <td>20034.94</td>\n",
       "      <td>590</td>\n",
       "      <td>34.0</td>\n",
       "      <td>2.0</td>\n",
       "    </tr>\n",
       "    <tr>\n",
       "      <th>4024</th>\n",
       "      <td>Turpis Incorporated</td>\n",
       "      <td>[[gift, card, novelty, and souvenir shops], [e...</td>\n",
       "      <td>0.23</td>\n",
       "      <td>16159.06</td>\n",
       "      <td>156</td>\n",
       "      <td>104.0</td>\n",
       "      <td>2.0</td>\n",
       "    </tr>\n",
       "    <tr>\n",
       "      <th>4025</th>\n",
       "      <td>Lacus LLP</td>\n",
       "      <td>[(books, periodicals, and newspapers), (e), (t...</td>\n",
       "      <td>0.10</td>\n",
       "      <td>9882.35</td>\n",
       "      <td>26</td>\n",
       "      <td>380.0</td>\n",
       "      <td>1.0</td>\n",
       "    </tr>\n",
       "  </tbody>\n",
       "</table>\n",
       "<p>4026 rows × 7 columns</p>\n",
       "</div>"
      ],
      "text/plain": [
       "                      merchant_name  \\\n",
       "0                   Amet Risus Inc.   \n",
       "1     Dignissim Maecenas Foundation   \n",
       "2     Orci In Consequat Corporation   \n",
       "3                 Leo In Consulting   \n",
       "4         Etiam Bibendum Industries   \n",
       "...                             ...   \n",
       "4021           Feugiat Nec Diam LLC   \n",
       "4022                 Proin Vel Inc.   \n",
       "4023        Hendrerit Donec Limited   \n",
       "4024            Turpis Incorporated   \n",
       "4025                      Lacus LLP   \n",
       "\n",
       "                                                   tags  take_rate  \\\n",
       "0     ([furniture, home furnishings and equipment sh...       6.82   \n",
       "1     [[opticians, oPtical goods, and eyeglasses], [...       6.64   \n",
       "2     ([gift, card, novelty, and souvenir shops], [a...       6.61   \n",
       "3     [[watch, clock, and jewelry repair shops], [a]...       6.43   \n",
       "4     [(tent and awning shops), (a), (take rate: 6.31)]       6.31   \n",
       "...                                                 ...        ...   \n",
       "4021  ([computers, computer peripheral equipment, an...       0.30   \n",
       "4022  [[stationery, office supplies and printing and...       0.16   \n",
       "4023  [(digital goods: books, movies, music), (e), (...       0.18   \n",
       "4024  [[gift, card, novelty, and souvenir shops], [e...       0.23   \n",
       "4025  [(books, periodicals, and newspapers), (e), (t...       0.10   \n",
       "\n",
       "      total_income  total_transactions  mean_transaction_amount  \\\n",
       "0       8657277.10                4251                   2037.0   \n",
       "1       8316735.67               58685                    142.0   \n",
       "2       8339994.52               75853                    110.0   \n",
       "3       8443178.70              241336                     35.0   \n",
       "4       8482176.66                6341                   1338.0   \n",
       "...            ...                 ...                      ...   \n",
       "4021      18710.78                 703                     27.0   \n",
       "4022      21967.78                  31                    709.0   \n",
       "4023      20034.94                 590                     34.0   \n",
       "4024      16159.06                 156                    104.0   \n",
       "4025       9882.35                  26                    380.0   \n",
       "\n",
       "      monthly_profit  \n",
       "0            32801.0  \n",
       "1            30680.0  \n",
       "2            30626.0  \n",
       "3            30161.0  \n",
       "4            29735.0  \n",
       "...              ...  \n",
       "4021             3.0  \n",
       "4022             2.0  \n",
       "4023             2.0  \n",
       "4024             2.0  \n",
       "4025             1.0  \n",
       "\n",
       "[4026 rows x 7 columns]"
      ]
     },
     "execution_count": 102,
     "metadata": {},
     "output_type": "execute_result"
    }
   ],
   "source": [
    "merchant_detail"
   ]
  },
  {
   "cell_type": "code",
   "execution_count": 118,
   "id": "aba54a9c",
   "metadata": {
    "scrolled": true
   },
   "outputs": [
    {
     "data": {
      "image/png": "[encoded data removed]",
      "text/plain": [
       "<Figure size 432x288 with 1 Axes>"
      ]
     },
     "metadata": {
      "needs_background": "light"
     },
     "output_type": "display_data"
    }
   ],
   "source": [
    "merchant_detail['total_transactions'].plot(kind='box', title='total_transactions')\n",
    "plt.show()"
   ]
  },
  {
   "cell_type": "code",
   "execution_count": 119,
   "id": "6636b077",
   "metadata": {},
   "outputs": [
    {
     "data": {
      "image/png": "[encoded data removed]",
      "text/plain": [
       "<Figure size 432x288 with 1 Axes>"
      ]
     },
     "metadata": {
      "needs_background": "light"
     },
     "output_type": "display_data"
    }
   ],
   "source": [
    "merchant_detail['monthly_profit'].plot(kind='box', title='monthly_profit')\n",
    "plt.show()"
   ]
  },
  {
   "cell_type": "markdown",
   "id": "c6e3f263",
   "metadata": {},
   "source": [
    "From the boxplot above, we can find that the scale of graph is highly stretched by the extremely large value. But we cannot simply remove these merchants since they might be important in the ranking system. Therefore, we take log transformation for the number of transactions and monthly profit to solve this problem."
   ]
  },
  {
   "cell_type": "code",
   "execution_count": 120,
   "id": "c1dc348d",
   "metadata": {},
   "outputs": [],
   "source": [
    "merchant_detail['log_transactions_number'] = np.log(merchant_detail['total_transactions'])\n",
    "merchant_detail['log_monthly_profit'] = np.log(merchant_detail['monthly_profit'])"
   ]
  },
  {
   "cell_type": "code",
   "execution_count": 122,
   "id": "06c8063f",
   "metadata": {
    "scrolled": true
   },
   "outputs": [
    {
     "data": {
      "image/png": "[encoded data removed]",
      "text/plain": [
       "<Figure size 432x288 with 1 Axes>"
      ]
     },
     "metadata": {
      "needs_background": "light"
     },
     "output_type": "display_data"
    }
   ],
   "source": [
    "merchant_detail['log_transactions_number'].plot(kind='box', title='log_transactions_number')\n",
    "plt.show()"
   ]
  },
  {
   "cell_type": "code",
   "execution_count": 123,
   "id": "c206071b",
   "metadata": {},
   "outputs": [
    {
     "data": {
      "image/png": "[encoded data removed]",
      "text/plain": [
       "<Figure size 432x288 with 1 Axes>"
      ]
     },
     "metadata": {
      "needs_background": "light"
     },
     "output_type": "display_data"
    }
   ],
   "source": [
    "merchant_detail['log_monthly_profit'].plot(kind='box', title='log_monthly_profit')\n",
    "plt.show()"
   ]
  },
  {
   "cell_type": "markdown",
   "id": "85e45477",
   "metadata": {},
   "source": [
    "Now, the boxplot looks much more clear.\n",
    "Then, we will use Interquartile Range Method to remove the merchants with extreme few transactions or low profit."
   ]
  },
  {
   "cell_type": "code",
   "execution_count": 146,
   "id": "79cd25ad",
   "metadata": {},
   "outputs": [],
   "source": [
    "def calculate_boundary(columns):\n",
    "    Q1 = columns.quantile(0.25)\n",
    "    Q3 = columns.quantile(0.75)\n",
    "    IQR = Q3-Q1\n",
    "    return Q1-1*IQR"
   ]
  },
  {
   "cell_type": "code",
   "execution_count": 147,
   "id": "87cc6326",
   "metadata": {},
   "outputs": [],
   "source": [
    "transactions_boundary = calculate_boundary(merchant_detail['log_transactions_number'])\n",
    "profit_boundary = calculate_boundary(merchant_detail['log_monthly_profit'])"
   ]
  },
  {
   "cell_type": "code",
   "execution_count": 149,
   "id": "82ff7919",
   "metadata": {},
   "outputs": [],
   "source": [
    "filtered_merchant_detail1 = merchant_detail[(merchant_detail['log_transactions_number']>=transactions_boundary)]\n",
    "filtered_merchant_detail2 = filtered_merchant_detail1[(filtered_merchant_detail1['log_monthly_profit']>=profit_boundary)]"
   ]
  },
  {
   "cell_type": "code",
   "execution_count": 156,
   "id": "d19e3807",
   "metadata": {
    "scrolled": true
   },
   "outputs": [
    {
     "data": {
      "text/plain": [
       "array([3.79193884, 4.57546337])"
      ]
     },
     "execution_count": 156,
     "metadata": {},
     "output_type": "execute_result"
    }
   ],
   "source": [
    "np.exp([transactions_boundary, profit_boundary])"
   ]
  },
  {
   "cell_type": "markdown",
   "id": "235d14f0",
   "metadata": {},
   "source": [
    "The merchants with number of transactions lower than 4 or with monthly profit lower than 4.575 will be removed. Overall, 1.8% of merchants is removerd."
   ]
  },
  {
   "cell_type": "code",
   "execution_count": 162,
   "id": "253d2fd0",
   "metadata": {},
   "outputs": [
    {
     "data": {
      "text/plain": [
       "0.01763537009438649"
      ]
     },
     "execution_count": 162,
     "metadata": {},
     "output_type": "execute_result"
    }
   ],
   "source": [
    "(len(merchant_detail)-len(filtered_merchant_detail2))/len(merchant_detail)"
   ]
  },
  {
   "cell_type": "code",
   "execution_count": 163,
   "id": "b6aa7bb1",
   "metadata": {
    "scrolled": true
   },
   "outputs": [
    {
     "data": {
      "image/png": "[encoded data removed]",
      "text/plain": [
       "<Figure size 432x288 with 1 Axes>"
      ]
     },
     "metadata": {
      "needs_background": "light"
     },
     "output_type": "display_data"
    }
   ],
   "source": [
    "filtered_merchant_detail2['log_transactions_number'].plot(kind='box', title='log_transactions_number')\n",
    "plt.show()"
   ]
  },
  {
   "cell_type": "code",
   "execution_count": 164,
   "id": "3945d0e6",
   "metadata": {},
   "outputs": [
    {
     "data": {
      "image/png": "[encoded data removed]",
      "text/plain": [
       "<Figure size 432x288 with 1 Axes>"
      ]
     },
     "metadata": {
      "needs_background": "light"
     },
     "output_type": "display_data"
    }
   ],
   "source": [
    "filtered_merchant_detail2['log_monthly_profit'].plot(kind='box', title='log_monthly_profit')\n",
    "plt.show()"
   ]
  },
  {
   "cell_type": "markdown",
   "id": "eaa26c25",
   "metadata": {},
   "source": [
    "However, the distribution of different types of merchants might be quite different, for example, the number of transactions for the antique merchants is general low but they may be quite profitable. Therefore, we will consider to do the outlier analysis by specific type of merchants in the future. "
   ]
  }
 ],
 "metadata": {
  "kernelspec": {
   "display_name": "Python 3 (ipykernel)",
   "language": "python",
   "name": "python3"
  },
  "language_info": {
   "codemirror_mode": {
    "name": "ipython",
    "version": 3
   },
   "file_extension": ".py",
   "mimetype": "text/x-python",
   "name": "python",
   "nbconvert_exporter": "python",
   "pygments_lexer": "ipython3",
   "version": "3.8.10"
  }
 },
 "nbformat": 4,
 "nbformat_minor": 5
}
