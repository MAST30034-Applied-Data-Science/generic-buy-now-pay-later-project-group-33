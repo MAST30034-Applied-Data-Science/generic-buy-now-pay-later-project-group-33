{
 "cells": [
  {
   "cell_type": "code",
   "execution_count": null,
   "id": "4ad83072",
   "metadata": {},
   "outputs": [],
   "source": [
    "import pandas as pd\n",
    "import geopandas as gpd\n",
    "import folium\n",
    "from pyspark.sql import functions as F\n",
    "from pyspark.sql.functions import *\n",
    "import matplotlib.pyplot as plt\n",
    "import numpy as np"
   ]
  },
  {
   "cell_type": "markdown",
   "id": "3d8f52a6",
   "metadata": {},
   "source": [
    "## 1. Geovisualisation for the weekly income by postcode"
   ]
  },
  {
   "cell_type": "markdown",
   "id": "4b200e10",
   "metadata": {},
   "source": [
    "### Note before you start: This notebook might take up large space to run as the shape file of the whole Australia is huge, if not able to run both visualisations at the same time, try run them one by one."
   ]
  },
  {
   "cell_type": "markdown",
   "id": "165fee38",
   "metadata": {},
   "source": [
    "This creates the geovisualisation for the median weekly personal income"
   ]
  },
  {
   "cell_type": "code",
   "execution_count": null,
   "id": "d86d87bd",
   "metadata": {},
   "outputs": [],
   "source": [
    "income_df = pd.read_csv(\"../data/income/2021_income.csv\")\n",
    "income_df"
   ]
  },
  {
   "cell_type": "code",
   "execution_count": null,
   "id": "05828429",
   "metadata": {},
   "outputs": [],
   "source": [
    "income_df = income_df[(income_df['Median_tot_prsnl_inc_weekly'] < 10000)]"
   ]
  },
  {
   "cell_type": "code",
   "execution_count": null,
   "id": "bc24e6fe",
   "metadata": {},
   "outputs": [],
   "source": [
    "# sf stands for shape file\n",
    "sf = gpd.read_file(\"../data/shapefile/POA_2016_AUST.shp\")\n",
    "\n",
    "sf['POA_CODE16'] = sf['POA_CODE16'].astype(int)\n",
    "sf"
   ]
  },
  {
   "cell_type": "code",
   "execution_count": null,
   "id": "eab70f5c",
   "metadata": {},
   "outputs": [],
   "source": [
    "# Merge the income data frame and the shape file\n",
    "income_df = income_df \\\n",
    "    .merge(sf[['POA_CODE16', 'geometry']], left_on='POA_CODE_2021', right_on='POA_CODE16') \\\n",
    "    .drop('POA_CODE16', axis=1)\n",
    "\n",
    "income_df"
   ]
  },
  {
   "cell_type": "code",
   "execution_count": null,
   "id": "e210db76",
   "metadata": {},
   "outputs": [],
   "source": [
    "geoJSON = sf[['POA_CODE16', 'geometry']].drop_duplicates('POA_CODE16').to_json()"
   ]
  },
  {
   "cell_type": "code",
   "execution_count": null,
   "id": "5ba75ca2",
   "metadata": {
    "scrolled": true
   },
   "outputs": [],
   "source": [
    "# Map of Weekly personal income\n",
    "\n",
    "m = folium.Map(location=[-38.043995, 145.264296], tiles=\"Stamen Terrain\", zoom_start=10)\n",
    "\n",
    "# refer to the folium documentations on more information on how to plot aggregated data.\n",
    "c = folium.Choropleth(\n",
    "    geo_data=geoJSON, # geoJSON \n",
    "    name='choropleth', # name of plot\n",
    "    data=income_df, # data source\n",
    "    columns=['POA_CODE_2021','Median_tot_prsnl_inc_weekly'], # the columns required\n",
    "    key_on='properties.POA_CODE16', # this is from the geoJSON's properties\n",
    "    fill_color='YlOrRd', # color scheme\n",
    "    nan_fill_color='black',\n",
    "    legend_name='Median Total Personal Income Weekly AUD$'\n",
    ")\n",
    "\n",
    "c.add_to(m)\n",
    "\n",
    "m.save('../plots/income_weekly.html')\n",
    "m"
   ]
  },
  {
   "cell_type": "code",
   "execution_count": null,
   "id": "579ff6d7",
   "metadata": {},
   "outputs": [],
   "source": [
    "income_df = income_df.dropna()\n",
    "income_df['centroid'] = income_df['geometry'].apply(lambda x: (x.centroid.y, x.centroid.x))\n",
    "income_df[['POA_CODE_2021', 'Median_tot_prsnl_inc_weekly', 'centroid']].head()"
   ]
  },
  {
   "cell_type": "code",
   "execution_count": null,
   "id": "8bb72377",
   "metadata": {},
   "outputs": [],
   "source": [
    "for income, coord in income_df.loc[income_df['Median_tot_prsnl_inc_weekly'] > 1500, ['Median_tot_prsnl_inc_weekly', 'centroid']].values:\n",
    "    m.add_child(\n",
    "        folium.Marker(location=coord, popup=income)\n",
    "    )\n",
    "m.save('../plots/income_weekly_ping.html')\n",
    "m\n"
   ]
  },
  {
   "cell_type": "markdown",
   "id": "69136b66",
   "metadata": {},
   "source": [
    "## 2. Geovisualisation for the Distribution of Consumers"
   ]
  },
  {
   "cell_type": "markdown",
   "id": "75d63c06",
   "metadata": {},
   "source": [
    "This visualises the distribution of the merchant's consumer count by postcodes"
   ]
  },
  {
   "cell_type": "code",
   "execution_count": null,
   "id": "8e6611b3",
   "metadata": {},
   "outputs": [],
   "source": [
    "from pyspark.sql import SparkSession\n",
    "\n",
    "# Create a spark session\n",
    "spark = (\n",
    "    SparkSession.builder.appName(\"MAST30034 Project 2\")\n",
    "    .config(\"spark.sql.repl.eagerEval.enabled\", True) \n",
    "    .config(\"spark.sql.parquet.cacheMetadata\", \"true\") \n",
    "    .config(\"spark.executor.memory\", \"2g\")\n",
    "    .config(\"spark.driver.memory\", \"4g\")\n",
    "    .getOrCreate()\n",
    ")"
   ]
  },
  {
   "cell_type": "code",
   "execution_count": null,
   "id": "b4b9bc2b",
   "metadata": {},
   "outputs": [],
   "source": [
    "transaction_df = spark.read.parquet('../data/curated/transactions_detail.parquet')\n",
    "transaction_df.limit(10)"
   ]
  },
  {
   "cell_type": "code",
   "execution_count": null,
   "id": "024521d7",
   "metadata": {},
   "outputs": [],
   "source": [
    "transaction_df.count()"
   ]
  },
  {
   "cell_type": "code",
   "execution_count": null,
   "id": "5f03b0ab",
   "metadata": {},
   "outputs": [],
   "source": [
    "transaction_count_df = transaction_df.groupBy('merchant_name', 'postcode').count()\n",
    "transaction_count_df = transaction_count_df.withColumnRenamed(\"count\",\"transaction_count\")"
   ]
  },
  {
   "cell_type": "code",
   "execution_count": null,
   "id": "b2cbc928",
   "metadata": {},
   "outputs": [],
   "source": [
    "transaction_count_df.limit(10)"
   ]
  },
  {
   "cell_type": "code",
   "execution_count": null,
   "id": "dc63f319",
   "metadata": {},
   "outputs": [],
   "source": [
    "transaction_count_df.count()"
   ]
  },
  {
   "cell_type": "code",
   "execution_count": null,
   "id": "a070e0d7",
   "metadata": {},
   "outputs": [],
   "source": [
    "transaction_count_df.filter(transaction_count_df.transaction_count<20)"
   ]
  },
  {
   "cell_type": "code",
   "execution_count": null,
   "id": "80ab53a4",
   "metadata": {},
   "outputs": [],
   "source": [
    "transaction_count_df.groupBy('merchant_name', 'postcode').sum('transaction_count').count()"
   ]
  },
  {
   "cell_type": "markdown",
   "id": "fe8446d6",
   "metadata": {},
   "source": [
    "### Visualising the Distribution of a Merchant\n",
    "\n",
    "Taking the mechant \"Erat Vitae LLP\" as an example for visualisation:"
   ]
  },
  {
   "cell_type": "code",
   "execution_count": null,
   "id": "17a9d593",
   "metadata": {},
   "outputs": [],
   "source": [
    "merchant_dist = transaction_count_df.filter(transaction_count_df.merchant_name=='Erat Vitae LLP').toPandas()\n",
    "merchant_dist"
   ]
  },
  {
   "cell_type": "code",
   "execution_count": null,
   "id": "a990726e",
   "metadata": {},
   "outputs": [],
   "source": [
    "# Merge the two data frame\n",
    "\n",
    "merchant_dist['postcode'] = merchant_dist['postcode'].astype(int)\n",
    "\n",
    "merchant_dist_map = merchant_dist \\\n",
    "    .merge(sf[['POA_CODE16', 'geometry']], left_on='postcode', right_on='POA_CODE16') \\\n",
    "    .drop('POA_CODE16', axis=1)\n",
    "\n",
    "merchant_dist_map"
   ]
  },
  {
   "cell_type": "code",
   "execution_count": null,
   "id": "13047448",
   "metadata": {
    "scrolled": false
   },
   "outputs": [],
   "source": [
    "# Map of consumer distribution of 'Erat Vitae LLP'\n",
    "\n",
    "m = folium.Map(location=[-38.043995, 145.264296], tiles=\"Stamen Terrain\", zoom_start=10)\n",
    "\n",
    "# refer to the folium documentations on more information on how to plot aggregated data.\n",
    "c = folium.Choropleth(\n",
    "    geo_data=geoJSON, # geoJSON \n",
    "    name='choropleth', # name of plot\n",
    "    data=merchant_dist_map, # data source\n",
    "    columns=['postcode','transaction_count'], # the columns required\n",
    "    key_on='properties.POA_CODE16', # this is from the geoJSON's properties\n",
    "    fill_color='YlOrRd', # color scheme\n",
    "    nan_fill_color='black',\n",
    "    legend_name='Number of Transactions'\n",
    ")\n",
    "\n",
    "c.add_to(m)\n",
    "\n",
    "m"
   ]
  },
  {
   "cell_type": "markdown",
   "id": "41f2bbec",
   "metadata": {},
   "source": [
    "Now we add pings for the transaction counts over 150 to visualise which areas have higher transactions."
   ]
  },
  {
   "cell_type": "code",
   "execution_count": null,
   "id": "138c0f84",
   "metadata": {},
   "outputs": [],
   "source": [
    "merchant_dist_map['centroid'] = merchant_dist_map['geometry'].apply(lambda x: (x.centroid.y, x.centroid.x))\n",
    "merchant_dist_map[['postcode', 'transaction_count', 'centroid']].head()"
   ]
  },
  {
   "cell_type": "code",
   "execution_count": null,
   "id": "847a572d",
   "metadata": {
    "scrolled": true
   },
   "outputs": [],
   "source": [
    "merchant_dist_map.loc[merchant_dist_map['transaction_count'] > 150]"
   ]
  },
  {
   "cell_type": "code",
   "execution_count": null,
   "id": "c0d0f569",
   "metadata": {},
   "outputs": [],
   "source": [
    "for count, coord in merchant_dist_map.loc[merchant_dist_map['transaction_count'] > 150, ['transaction_count', 'centroid']].values:\n",
    "    m.add_child(\n",
    "        folium.Marker(location=coord, popup=count)\n",
    "    )\n",
    "m.save('../plots/consumer_distribution_ping.html')\n",
    "m\n"
   ]
  },
  {
   "cell_type": "markdown",
   "id": "513729f4",
   "metadata": {},
   "source": []
  },
  {
   "cell_type": "markdown",
   "id": "57377f12",
   "metadata": {},
   "source": [
    "## Below is the convertion of SA2 to Postcode if needed (example)"
   ]
  },
  {
   "cell_type": "markdown",
   "id": "8ba2a4b2",
   "metadata": {},
   "source": [
    "### Do not need to run the following:\n",
    "This is another dataset of the income based on SA2, it is used to test if the there are lesser missing data (since the postcode income set have some missing postcodes) but it is found that there is not much of difference, so this is not that useful.\n",
    "It is remained in case future testings need it.\n"
   ]
  },
  {
   "cell_type": "code",
   "execution_count": null,
   "id": "6c45d4d2",
   "metadata": {},
   "outputs": [],
   "source": [
    "sa_income_df = pd.read_csv(\"../data/income/SA2_income_2018.csv\")\n",
    "sa_income_df['SA2'] = sa_income_df['SA2'].astype(str)\n",
    "sa_income_df = sa_income_df.replace(',','', regex=True)\n",
    "sa_income_df['Median'] = sa_income_df['Median'].astype(int)\n",
    "sa_income_df"
   ]
  },
  {
   "cell_type": "code",
   "execution_count": null,
   "id": "89ff35f4",
   "metadata": {},
   "outputs": [],
   "source": [
    "sa_income_df.isnull().sum()"
   ]
  },
  {
   "cell_type": "code",
   "execution_count": null,
   "id": "b0908efc",
   "metadata": {},
   "outputs": [],
   "source": [
    "sa_income_df[sa_income_df['Median']>10000]"
   ]
  },
  {
   "cell_type": "code",
   "execution_count": null,
   "id": "6a57f736",
   "metadata": {},
   "outputs": [],
   "source": [
    "# Read the postcode dataframe and simplify into a dataframe only contains postcode and SA2\n",
    "postcode_df = pd.read_csv(\"../data/tables/australian_postcodes.csv\")\n",
    "postcode_df['SA2_MAINCODE_2016'] = postcode_df['SA2_MAINCODE_2016'].fillna(0).astype(int)\n",
    "convert_df = postcode_df[['postcode','SA2_MAINCODE_2016']]\n",
    "convert_df = convert_df.rename(columns={'SA2_MAINCODE_2016':'SA2'})\n",
    "convert_df = convert_df.astype(str)\n",
    "convert_df = convert_df.drop_duplicates()\n",
    "convert_df"
   ]
  },
  {
   "cell_type": "code",
   "execution_count": null,
   "id": "02fbd30c",
   "metadata": {
    "scrolled": false
   },
   "outputs": [],
   "source": [
    "sa_income_df = pd.merge(sa_income_df, convert_df, on='SA2')\n",
    "sa_income_df"
   ]
  },
  {
   "cell_type": "code",
   "execution_count": null,
   "id": "d3e5a6a4",
   "metadata": {},
   "outputs": [],
   "source": [
    "sf = gpd.read_file(\"../data/shapefile/POA_2016_AUST.shp\")\n",
    "\n",
    "sf['POA_CODE16'] = sf['POA_CODE16'].astype(int)\n",
    "sf"
   ]
  },
  {
   "cell_type": "code",
   "execution_count": null,
   "id": "fe270060",
   "metadata": {},
   "outputs": [],
   "source": []
  },
  {
   "cell_type": "code",
   "execution_count": null,
   "id": "54eaff59",
   "metadata": {},
   "outputs": [],
   "source": [
    "# Merge the two data frame\n",
    "sa_income_df['postcode'] = sa_income_df['postcode'].astype(int)\n",
    "\n",
    "sa_income_df = sa_income_df \\\n",
    "    .merge(sf[['POA_CODE16', 'geometry']], left_on='postcode', right_on='POA_CODE16') \\\n",
    "    .drop('POA_CODE16', axis=1)\n",
    "\n",
    "sa_income_df"
   ]
  },
  {
   "cell_type": "code",
   "execution_count": null,
   "id": "67cb4c24",
   "metadata": {},
   "outputs": [],
   "source": [
    "geoJSON = sf[['POA_CODE16', 'geometry']].drop_duplicates('POA_CODE16').to_json()\n"
   ]
  },
  {
   "cell_type": "code",
   "execution_count": null,
   "id": "8d77e4f5",
   "metadata": {},
   "outputs": [],
   "source": [
    "# Map of Salary\n",
    "\n",
    "m = folium.Map(tiles=\"Stamen Terrain\", zoom_start=10)\n",
    "\n",
    "# refer to the folium documentations on more information on how to plot aggregated data.\n",
    "c = folium.Choropleth(\n",
    "    geo_data=geoJSON, # geoJSON \n",
    "    name='choropleth', # name of plot\n",
    "    data=sa_income_df, # data source\n",
    "    columns=['postcode','Median'], # the columns required\n",
    "    key_on='properties.POA_CODE16', # this is from the geoJSON's properties\n",
    "    fill_color='YlOrRd', # color scheme\n",
    "    nan_fill_color='black',\n",
    "    legend_name='Salary'\n",
    ")\n",
    "\n",
    "c.add_to(m)\n",
    "\n",
    "m"
   ]
  },
  {
   "cell_type": "code",
   "execution_count": null,
   "id": "755a422f",
   "metadata": {},
   "outputs": [],
   "source": []
  },
  {
   "cell_type": "code",
   "execution_count": null,
   "id": "18b8d179",
   "metadata": {},
   "outputs": [],
   "source": []
  },
  {
   "cell_type": "code",
   "execution_count": null,
   "id": "686790ef",
   "metadata": {},
   "outputs": [],
   "source": []
  }
 ],
 "metadata": {
  "kernelspec": {
   "display_name": "Python 3 (ipykernel)",
   "language": "python",
   "name": "python3"
  },
  "language_info": {
   "codemirror_mode": {
    "name": "ipython",
    "version": 3
   },
   "file_extension": ".py",
   "mimetype": "text/x-python",
   "name": "python",
   "nbconvert_exporter": "python",
   "pygments_lexer": "ipython3",
   "version": "3.8.10"
  }
 },
 "nbformat": 4,
 "nbformat_minor": 5
}
