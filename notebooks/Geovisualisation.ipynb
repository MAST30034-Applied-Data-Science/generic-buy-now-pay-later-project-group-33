{
 "cells": [
  {
   "cell_type": "code",
   "execution_count": null,
   "id": "4ad83072",
   "metadata": {},
   "outputs": [],
   "source": [
    "import pandas as pd\n",
    "import geopandas as gpd\n",
    "import folium\n"
   ]
  },
  {
   "cell_type": "code",
   "execution_count": null,
   "id": "d86d87bd",
   "metadata": {},
   "outputs": [],
   "source": [
    "income_df = pd.read_csv(\"../data/income/2021_income.csv\")\n",
    "income_df"
   ]
  },
  {
   "cell_type": "code",
   "execution_count": null,
   "id": "bc24e6fe",
   "metadata": {},
   "outputs": [],
   "source": [
    "# sf stands for shape file\n",
    "sf = gpd.read_file(\"../data/shapefile/POA_2016_AUST.shp\")\n",
    "\n",
    "sf['POA_CODE16'] = sf['POA_CODE16'].astype(int)\n",
    "sf"
   ]
  },
  {
   "cell_type": "code",
   "execution_count": null,
   "id": "eab70f5c",
   "metadata": {},
   "outputs": [],
   "source": [
    "# Merge the two data frame\n",
    "income_df = income_df \\\n",
    "    .merge(sf[['POA_CODE16', 'geometry']], left_on='POA_CODE_2021', right_on='POA_CODE16') \\\n",
    "    .drop('POA_CODE16', axis=1)\n",
    "\n",
    "income_df"
   ]
  },
  {
   "cell_type": "code",
   "execution_count": null,
   "id": "e210db76",
   "metadata": {},
   "outputs": [],
   "source": [
    "geoJSON = sf[['POA_CODE16', 'geometry']].drop_duplicates('POA_CODE16').to_json()"
   ]
  },
  {
   "cell_type": "code",
   "execution_count": null,
   "id": "5ba75ca2",
   "metadata": {},
   "outputs": [],
   "source": [
    "# Map of score\n",
    "\n",
    "m = folium.Map(tiles=\"Stamen Terrain\", zoom_start=10)\n",
    "\n",
    "# refer to the folium documentations on more information on how to plot aggregated data.\n",
    "c = folium.Choropleth(\n",
    "    geo_data=geoJSON, # geoJSON \n",
    "    name='choropleth', # name of plot\n",
    "    data=income_df, # data source\n",
    "    columns=['POA_CODE_2021','Median_tot_fam_inc_weekly'], # the columns required\n",
    "    key_on='properties.POA_CODE16', # this is from the geoJSON's properties\n",
    "    fill_color='YlOrRd', # color scheme\n",
    "    nan_fill_color='black',\n",
    "    legend_name='Median Total Family Income Weekly AUD$'\n",
    ")\n",
    "\n",
    "c.add_to(m)\n",
    "\n",
    "m.save('../plots/income_weekly.html')\n",
    "m"
   ]
  },
  {
   "cell_type": "code",
   "execution_count": null,
   "id": "fc00427e",
   "metadata": {},
   "outputs": [],
   "source": []
  },
  {
   "cell_type": "code",
   "execution_count": null,
   "id": "bb990f60",
   "metadata": {},
   "outputs": [],
   "source": []
  },
  {
   "cell_type": "markdown",
   "id": "57377f12",
   "metadata": {},
   "source": [
    "## Below is the convertion of SA2 to Postcode if needed (example)"
   ]
  },
  {
   "cell_type": "code",
   "execution_count": null,
   "id": "6c45d4d2",
   "metadata": {},
   "outputs": [],
   "source": [
    "\n",
    "income_df = pd.read_csv(\"../data/income/SA2_income_2018.csv\")\n",
    "income_df['SA2'] = income_df['SA2'].astype(str)\n",
    "income_df"
   ]
  },
  {
   "cell_type": "code",
   "execution_count": null,
   "id": "6a57f736",
   "metadata": {},
   "outputs": [],
   "source": [
    "# Read the postcode dataframe and simplify into a dataframe only contains postcode and SA2\n",
    "postcode_df = pd.read_csv(\"../data/tables/australian_postcodes.csv\")\n",
    "postcode_df['SA2_MAINCODE_2016'] = postcode_df['SA2_MAINCODE_2016'].fillna(0).astype(int)\n",
    "convert_df = postcode_df[['postcode','SA2_MAINCODE_2016']]\n",
    "convert_df = convert_df.rename(columns={'SA2_MAINCODE_2016':'SA2'})\n",
    "convert_df = convert_df.astype(str)\n",
    "convert_df = convert_df.drop_duplicates()\n",
    "convert_df"
   ]
  },
  {
   "cell_type": "code",
   "execution_count": null,
   "id": "02fbd30c",
   "metadata": {
    "scrolled": false
   },
   "outputs": [],
   "source": [
    "merged_df = pd.merge(income_df, convert_df, on='SA2')\n",
    "merged_df"
   ]
  },
  {
   "cell_type": "code",
   "execution_count": null,
   "id": "d3e5a6a4",
   "metadata": {},
   "outputs": [],
   "source": []
  },
  {
   "cell_type": "code",
   "execution_count": null,
   "id": "54eaff59",
   "metadata": {},
   "outputs": [],
   "source": []
  }
 ],
 "metadata": {
  "kernelspec": {
   "display_name": "Python 3 (ipykernel)",
   "language": "python",
   "name": "python3"
  },
  "language_info": {
   "codemirror_mode": {
    "name": "ipython",
    "version": 3
   },
   "file_extension": ".py",
   "mimetype": "text/x-python",
   "name": "python",
   "nbconvert_exporter": "python",
   "pygments_lexer": "ipython3",
   "version": "3.8.10"
  }
 },
 "nbformat": 4,
 "nbformat_minor": 5
}
