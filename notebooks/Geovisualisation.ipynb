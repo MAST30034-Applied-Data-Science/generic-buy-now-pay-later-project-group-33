{
 "cells": [
  {
   "cell_type": "code",
   "execution_count": null,
   "id": "4ad83072",
   "metadata": {},
   "outputs": [],
   "source": [
    "import pandas as pd\n",
    "import geopandas as gpd\n",
    "import folium\n",
    "from pyspark.sql import functions as F\n",
    "from pyspark.sql.functions import *\n",
    "import matplotlib.pyplot as plt\n",
    "import numpy as np"
   ]
  },
  {
   "cell_type": "markdown",
   "id": "3d8f52a6",
   "metadata": {},
   "source": [
    "## 1. Geovisualisation for the weekly income by postcode"
   ]
  },
  {
   "cell_type": "code",
   "execution_count": null,
   "id": "d86d87bd",
   "metadata": {},
   "outputs": [],
   "source": [
    "income_df = pd.read_csv(\"../data/income/2021_income.csv\")\n",
    "income_df"
   ]
  },
  {
   "cell_type": "code",
   "execution_count": null,
   "id": "bc24e6fe",
   "metadata": {},
   "outputs": [],
   "source": [
    "# sf stands for shape file\n",
    "sf = gpd.read_file(\"../data/shapefile/POA_2016_AUST.shp\")\n",
    "\n",
    "sf['POA_CODE16'] = sf['POA_CODE16'].astype(int)\n",
    "sf"
   ]
  },
  {
   "cell_type": "code",
   "execution_count": null,
   "id": "eab70f5c",
   "metadata": {},
   "outputs": [],
   "source": [
    "# Merge the two data frame\n",
    "income_df = income_df \\\n",
    "    .merge(sf[['POA_CODE16', 'geometry']], left_on='POA_CODE_2021', right_on='POA_CODE16') \\\n",
    "    .drop('POA_CODE16', axis=1)\n",
    "\n",
    "income_df"
   ]
  },
  {
   "cell_type": "code",
   "execution_count": null,
   "id": "e210db76",
   "metadata": {},
   "outputs": [],
   "source": [
    "geoJSON = sf[['POA_CODE16', 'geometry']].drop_duplicates('POA_CODE16').to_json()\n",
    "print(geoJSON[:300])"
   ]
  },
  {
   "cell_type": "code",
   "execution_count": null,
   "id": "5ba75ca2",
   "metadata": {},
   "outputs": [],
   "source": [
    "# Map of Weekly family income\n",
    "\n",
    "m = folium.Map(tiles=\"Stamen Terrain\", zoom_start=10)\n",
    "\n",
    "# refer to the folium documentations on more information on how to plot aggregated data.\n",
    "c = folium.Choropleth(\n",
    "    geo_data=geoJSON, # geoJSON \n",
    "    name='choropleth', # name of plot\n",
    "    data=income_df, # data source\n",
    "    columns=['POA_CODE_2021','Median_tot_fam_inc_weekly'], # the columns required\n",
    "    key_on='properties.POA_CODE16', # this is from the geoJSON's properties\n",
    "    fill_color='YlOrRd', # color scheme\n",
    "    nan_fill_color='black',\n",
    "    legend_name='Median Total Family Income Weekly AUD$'\n",
    ")\n",
    "\n",
    "c.add_to(m)\n",
    "\n",
    "m.save('../plots/income_weekly.html')\n",
    "m"
   ]
  },
  {
   "cell_type": "code",
   "execution_count": null,
   "id": "fc00427e",
   "metadata": {},
   "outputs": [],
   "source": []
  },
  {
   "cell_type": "code",
   "execution_count": null,
   "id": "bb990f60",
   "metadata": {},
   "outputs": [],
   "source": []
  },
  {
   "cell_type": "markdown",
   "id": "6a28acc9",
   "metadata": {},
   "source": [
    "## 2. Geovisualisation for the Distribution of Consumers"
   ]
  },
  {
   "cell_type": "code",
   "execution_count": null,
   "id": "8e6611b3",
   "metadata": {},
   "outputs": [],
   "source": [
    "from pyspark.sql import SparkSession\n",
    "\n",
    "# Create a spark session\n",
    "spark = (\n",
    "    SparkSession.builder.appName(\"MAST30034 Project 2\")\n",
    "    .config(\"spark.sql.repl.eagerEval.enabled\", True) \n",
    "    .config(\"spark.sql.parquet.cacheMetadata\", \"true\") \n",
    "    .config(\"spark.executor.memory\", \"2g\")\n",
    "    .config(\"spark.driver.memory\", \"4g\")\n",
    "    .getOrCreate()\n",
    ")"
   ]
  },
  {
   "cell_type": "code",
   "execution_count": null,
   "id": "b4b9bc2b",
   "metadata": {},
   "outputs": [],
   "source": [
    "transaction_df = spark.read.parquet('../data/curated/transactions_detail.parquet')\n",
    "transaction_df.limit(10)"
   ]
  },
  {
   "cell_type": "code",
   "execution_count": null,
   "id": "024521d7",
   "metadata": {},
   "outputs": [],
   "source": [
    "transaction_df.count()"
   ]
  },
  {
   "cell_type": "code",
   "execution_count": null,
   "id": "5f03b0ab",
   "metadata": {},
   "outputs": [],
   "source": [
    "transaction_count_df = transaction_df.groupBy('merchant_name', 'postcode').count()\n",
    "transaction_count_df = transaction_count_df.withColumnRenamed(\"count\",\"transaction_count\")"
   ]
  },
  {
   "cell_type": "code",
   "execution_count": null,
   "id": "b2cbc928",
   "metadata": {},
   "outputs": [],
   "source": [
    "transaction_count_df.limit(10)"
   ]
  },
  {
   "cell_type": "code",
   "execution_count": null,
   "id": "dc63f319",
   "metadata": {},
   "outputs": [],
   "source": [
    "transaction_count_df.count()"
   ]
  },
  {
   "cell_type": "code",
   "execution_count": null,
   "id": "a070e0d7",
   "metadata": {},
   "outputs": [],
   "source": [
    "transaction_count_df.filter(transaction_count_df.transaction_count<20)"
   ]
  },
  {
   "cell_type": "code",
   "execution_count": null,
   "id": "80ab53a4",
   "metadata": {},
   "outputs": [],
   "source": [
    "transaction_count_df.groupBy('merchant_name', 'postcode').sum('transaction_count').count()"
   ]
  },
  {
   "cell_type": "markdown",
   "id": "fe8446d6",
   "metadata": {},
   "source": [
    "### Visualising the Distribution of a Merchant\n",
    "\n",
    "Taking the mechant \"Erat Vitae LLP\" as an example for visualisation:"
   ]
  },
  {
   "cell_type": "code",
   "execution_count": null,
   "id": "17a9d593",
   "metadata": {},
   "outputs": [],
   "source": [
    "merchant_dist = transaction_count_df.filter(transaction_count_df.merchant_name=='Erat Vitae LLP').toPandas()\n",
    "merchant_dist"
   ]
  },
  {
   "cell_type": "code",
   "execution_count": null,
   "id": "bbf4943c",
   "metadata": {},
   "outputs": [],
   "source": []
  },
  {
   "cell_type": "code",
   "execution_count": null,
   "id": "a990726e",
   "metadata": {},
   "outputs": [],
   "source": [
    "# Merge the two data frame\n",
    "\n",
    "merchant_dist['postcode'] = merchant_dist['postcode'].astype(int)\n",
    "\n",
    "merchant_dist_map = merchant_dist \\\n",
    "    .merge(sf[['POA_CODE16', 'geometry']], left_on='postcode', right_on='POA_CODE16') \\\n",
    "    .drop('POA_CODE16', axis=1)\n",
    "\n",
    "merchant_dist_map"
   ]
  },
  {
   "cell_type": "code",
   "execution_count": null,
   "id": "13047448",
   "metadata": {},
   "outputs": [],
   "source": [
    "# Map of score\n",
    "\n",
    "m = folium.Map(tiles=\"Stamen Terrain\", zoom_start=10)\n",
    "\n",
    "# refer to the folium documentations on more information on how to plot aggregated data.\n",
    "c = folium.Choropleth(\n",
    "    geo_data=geoJSON, # geoJSON \n",
    "    name='choropleth', # name of plot\n",
    "    data=merchant_dist_map, # data source\n",
    "    columns=['postcode','transaction_count'], # the columns required\n",
    "    key_on='properties.POA_CODE16', # this is from the geoJSON's properties\n",
    "    fill_color='YlOrRd', # color scheme\n",
    "    nan_fill_color='black',\n",
    "    legend_name='Number of Transactions'\n",
    ")\n",
    "\n",
    "c.add_to(m)\n",
    "\n",
    "m"
   ]
  },
  {
   "cell_type": "markdown",
   "id": "513729f4",
   "metadata": {},
   "source": []
  },
  {
   "cell_type": "markdown",
   "id": "57377f12",
   "metadata": {},
   "source": [
    "## Below is the convertion of SA2 to Postcode if needed (example)"
   ]
  },
  {
   "cell_type": "code",
   "execution_count": null,
   "id": "6c45d4d2",
   "metadata": {},
   "outputs": [],
   "source": [
    "\n",
    "income_df = pd.read_csv(\"../data/income/SA2_income_2018.csv\")\n",
    "income_df['SA2'] = income_df['SA2'].astype(str)\n",
    "income_df"
   ]
  },
  {
   "cell_type": "code",
   "execution_count": null,
   "id": "6a57f736",
   "metadata": {},
   "outputs": [],
   "source": [
    "# Read the postcode dataframe and simplify into a dataframe only contains postcode and SA2\n",
    "postcode_df = pd.read_csv(\"../data/tables/australian_postcodes.csv\")\n",
    "postcode_df['SA2_MAINCODE_2016'] = postcode_df['SA2_MAINCODE_2016'].fillna(0).astype(int)\n",
    "convert_df = postcode_df[['postcode','SA2_MAINCODE_2016']]\n",
    "convert_df = convert_df.rename(columns={'SA2_MAINCODE_2016':'SA2'})\n",
    "convert_df = convert_df.astype(str)\n",
    "convert_df = convert_df.drop_duplicates()\n",
    "convert_df"
   ]
  },
  {
   "cell_type": "code",
   "execution_count": null,
   "id": "02fbd30c",
   "metadata": {
    "scrolled": false
   },
   "outputs": [],
   "source": [
    "merged_df = pd.merge(income_df, convert_df, on='SA2')\n",
    "merged_df"
   ]
  },
  {
   "cell_type": "code",
   "execution_count": null,
   "id": "d3e5a6a4",
   "metadata": {},
   "outputs": [],
   "source": []
  },
  {
   "cell_type": "code",
   "execution_count": null,
   "id": "54eaff59",
   "metadata": {},
   "outputs": [],
   "source": []
  }
 ],
 "metadata": {
  "kernelspec": {
   "display_name": "Python 3 (ipykernel)",
   "language": "python",
   "name": "python3"
  },
  "language_info": {
   "codemirror_mode": {
    "name": "ipython",
    "version": 3
   },
   "file_extension": ".py",
   "mimetype": "text/x-python",
   "name": "python",
   "nbconvert_exporter": "python",
   "pygments_lexer": "ipython3",
   "version": "3.8.10"
  }
 },
 "nbformat": 4,
 "nbformat_minor": 5
}
